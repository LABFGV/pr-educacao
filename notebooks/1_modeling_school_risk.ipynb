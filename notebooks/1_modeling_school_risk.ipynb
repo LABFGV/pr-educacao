{
 "cells": [
  {
   "cell_type": "markdown",
   "metadata": {
    "toc": true
   },
   "source": [
    "<h1>Índice<span class=\"tocSkip\"></span></h1>\n",
    "<div class=\"toc\"><ul class=\"toc-item\"><li><span><a href=\"#EDA:-Evolution-of-Rio-de-Janeiro-(RJ)-schools-on-IDEB\" data-toc-modified-id=\"EDA:-Evolution-of-Rio-de-Janeiro-(RJ)-schools-on-IDEB-1\"><span class=\"toc-item-num\">1&nbsp;&nbsp;</span>EDA: Evolution of Rio de Janeiro (RJ) schools on IDEB</a></span><ul class=\"toc-item\"><li><ul class=\"toc-item\"><li><span><a href=\"#Goals\" data-toc-modified-id=\"Goals-1.0.1\"><span class=\"toc-item-num\">1.0.1&nbsp;&nbsp;</span>Goals</a></span></li><li><span><a href=\"#Data-scources\" data-toc-modified-id=\"Data-scources-1.0.2\"><span class=\"toc-item-num\">1.0.2&nbsp;&nbsp;</span>Data scources</a></span></li><li><span><a href=\"#Methodology\" data-toc-modified-id=\"Methodology-1.0.3\"><span class=\"toc-item-num\">1.0.3&nbsp;&nbsp;</span>Methodology</a></span></li><li><span><a href=\"#Results\" data-toc-modified-id=\"Results-1.0.4\"><span class=\"toc-item-num\">1.0.4&nbsp;&nbsp;</span>Results</a></span><ul class=\"toc-item\"><li><span><a href=\"#Outputs\" data-toc-modified-id=\"Outputs-1.0.4.1\"><span class=\"toc-item-num\">1.0.4.1&nbsp;&nbsp;</span>Outputs</a></span></li></ul></li><li><span><a href=\"#Authors\" data-toc-modified-id=\"Authors-1.0.5\"><span class=\"toc-item-num\">1.0.5&nbsp;&nbsp;</span>Authors</a></span></li></ul></li><li><span><a href=\"#Import-data\" data-toc-modified-id=\"Import-data-1.1\"><span class=\"toc-item-num\">1.1&nbsp;&nbsp;</span>Import data</a></span><ul class=\"toc-item\"><li><span><a href=\"#IDEB-marks-distribution\" data-toc-modified-id=\"IDEB-marks-distribution-1.1.1\"><span class=\"toc-item-num\">1.1.1&nbsp;&nbsp;</span>IDEB marks distribution</a></span></li><li><span><a href=\"#IDEB-Growth\" data-toc-modified-id=\"IDEB-Growth-1.1.2\"><span class=\"toc-item-num\">1.1.2&nbsp;&nbsp;</span>IDEB Growth</a></span><ul class=\"toc-item\"><li><span><a href=\"#Identify-the-schools-with-most-IDEB-variation-from-2005-to-2017\" data-toc-modified-id=\"Identify-the-schools-with-most-IDEB-variation-from-2005-to-2017-1.1.2.1\"><span class=\"toc-item-num\">1.1.2.1&nbsp;&nbsp;</span>Identify the schools with most IDEB variation from 2005 to 2017</a></span></li><li><span><a href=\"#Identify-schools-that-jumped-from-low-/-very-low-IDEB-(&lt;5-/-&lt;4)-and-went-to-high-IDEB-(&gt;-6),-from-2005-to-2017.\" data-toc-modified-id=\"Identify-schools-that-jumped-from-low-/-very-low-IDEB-(<5-/-<4)-and-went-to-high-IDEB-(>-6),-from-2005-to-2017.-1.1.2.2\"><span class=\"toc-item-num\">1.1.2.2&nbsp;&nbsp;</span>Identify schools that jumped from low / very low IDEB (&lt;5 / &lt;4) and went to high IDEB (&gt; 6), from 2005 to 2017.</a></span></li></ul></li><li><span><a href=\"#Model-neighboors:-which-schools-had-a-large-delta-and-were-nearby-schools-on-the-highest-attention-level-(4)?\" data-toc-modified-id=\"Model-neighboors:-which-schools-had-a-large-delta-and-were-nearby-schools-on-the-highest-attention-level-(4)?-1.1.3\"><span class=\"toc-item-num\">1.1.3&nbsp;&nbsp;</span>Model neighboors: which schools had a large delta and were nearby schools on the highest attention level (4)?</a></span></li><li><span><a href=\"#See-if-the-education-census-contains-information-on-who-was-the-principal-of-each-school-each-year.\" data-toc-modified-id=\"See-if-the-education-census-contains-information-on-who-was-the-principal-of-each-school-each-year.-1.1.4\"><span class=\"toc-item-num\">1.1.4&nbsp;&nbsp;</span>See if the education census contains information on who was the principal of each school each year.</a></span></li></ul></li></ul></li></ul></div>"
   ]
  },
  {
   "cell_type": "markdown",
   "metadata": {},
   "source": [
    "# EDA: Evolution of Rio de Janeiro (RJ) schools on IDEB\n",
    "---\n",
    "### Goals\n",
    "Examining the geolocated IDEB data frrom schools and modeling *risk* and *model* schools for the research.\n",
    "Combining the school's IDEB (SAEB + approval rate) marks with Rio de Janeiro's municipal shapefile, we hope to discover some local standards in school performance over the years. The time interval we will analyze is from 2011 until today.\n",
    "\n",
    "### Data scources\n",
    "\n",
    "- `ideb_merged.csv`: resulted data from the geolocalization, IDEB by years on columns \n",
    "- `ideb_merged_kepler.csv`: resulted data from the geolocalization, format for kepler input\n",
    "\n",
    "### Methodology\n",
    "\n",
    "The goal is to determine the \"model\" schools in a certain ratio. We'll define those \"models\" as schools that had a great grown and stands nearby \"high risk\" schools, the ones in the lowest strata. For that, we construct the model below with suggestions by Ragazzo:\n",
    "\n",
    "We are interested in the following groups:\n",
    " - Group 1: Schools from very low (< 4) to high (> 6)\n",
    " - Group 2: Schools from low (4 < x < 5) to high (> 6)\n",
    " - Group 3: Schools went to high (> 6) with delta > 2\n",
    " \n",
    "The *attention level* (or risk) of a school is defined by which quartile it belongs on IDEB 2017 distribution (most recent), from the lowest quartile (level 4) to the highest (level 1).\n",
    "\n",
    "### Results\n",
    "\n",
    "1. [Identify the schools with most IDEB variation from 2005 to 2017](#1)\n",
    "\n",
    "2. [Identify schools that jumped from low / very low IDEB (<5 / <4) and went to high IDEB (> 6), from 2005 to 2017](#2)\n",
    "\n",
    "2. [Model neighboors: which schools had a large delta and were nearby schools on the highest attention level (4)?](#3)\n",
    "\n",
    "3. [See if the education census contains information on who was the principal of each school each year.](#4) - actually, we use an indicator of school's \"managment complexity\" with the IDEB data. We didn't find any difference between levels of \"managment complexity\" related to IDEB marks from those schools in each level.\n",
    "\n",
    "#### Outputs\n",
    "\n",
    "- `model_neighboors_closest_multiple.csv`: database with the risk schools and closest model schools\n",
    "- `top_15_delta.csv`, `bottom_15_delta.csv`: top and bottom schools evolution from 2005 to 2017\n",
    "- `kepler_with_filters.csv`: database for plot in kepler with schools categories (from the methology)\n",
    "\n",
    "\n",
    "### Authors\n",
    "Original code by Guilherme Almeida here, adapted by Fernanda Scovino - 2019."
   ]
  },
  {
   "cell_type": "code",
   "execution_count": 1,
   "metadata": {},
   "outputs": [
    {
     "name": "stdout",
     "output_type": "stream",
     "text": [
      "Populating the interactive namespace from numpy and matplotlib\n"
     ]
    },
    {
     "name": "stderr",
     "output_type": "stream",
     "text": [
      "/usr/local/lib/python3.7/site-packages/IPython/core/magics/pylab.py:160: UserWarning: pylab import has clobbered these variables: ['loads']\n",
      "`%matplotlib` prevents importing * from pylab and numpy\n",
      "  \"\\n`%matplotlib` prevents importing * from pylab and numpy\"\n"
     ]
    }
   ],
   "source": [
    "# Import config\n",
    "import os\n",
    "import sys\n",
    "sys.path.insert(0, '../')\n",
    "from config import RAW_PATH, TREAT_PATH, OUTPUT_PATH\n",
    "\n",
    "# DATA ANALYSIS & VIZ TOOLS\n",
    "from copy import deepcopy\n",
    "\n",
    "import pandas as pd\n",
    "pd.options.display.max_columns = 999\n",
    "\n",
    "import geopandas as gpd\n",
    "from shapely.wkt import loads\n",
    "import matplotlib.pyplot as plt\n",
    "import seaborn as sns\n",
    "\n",
    "%pylab inline\n",
    "pylab.rcParams['figure.figsize'] = (12, 15)\n",
    "\n",
    "# CONFIGS\n",
    "%load_ext autoreload\n",
    "#%autoreload 2\n",
    "\n",
    "#import warnings\n",
    "#warnings.filterwarnings('ignore')"
   ]
  },
  {
   "cell_type": "code",
   "execution_count": 2,
   "metadata": {},
   "outputs": [],
   "source": [
    "palette = ['#FEC300', '#F1920E', '#E3611C', '#C70039', '#900C3F', '#5A1846', '#3a414c', '#29323C']\n",
    "sns.set()"
   ]
  },
  {
   "cell_type": "markdown",
   "metadata": {},
   "source": [
    "## Import data"
   ]
  },
  {
   "cell_type": "code",
   "execution_count": 3,
   "metadata": {},
   "outputs": [
    {
     "data": {
      "text/plain": [
       "'/Users/fernandascovino/Desktop/pr-educacao/notebooks'"
      ]
     },
     "execution_count": 3,
     "metadata": {},
     "output_type": "execute_result"
    }
   ],
   "source": [
    "import os\n",
    "os.getcwd()"
   ]
  },
  {
   "cell_type": "code",
   "execution_count": 4,
   "metadata": {},
   "outputs": [],
   "source": [
    "proto_kepler = pd.read_csv(OUTPUT_PATH / \"ideb_merged_kepler.csv\", index_col=0)"
   ]
  },
  {
   "cell_type": "code",
   "execution_count": 5,
   "metadata": {},
   "outputs": [
    {
     "data": {
      "text/html": [
       "<div>\n",
       "<style scoped>\n",
       "    .dataframe tbody tr th:only-of-type {\n",
       "        vertical-align: middle;\n",
       "    }\n",
       "\n",
       "    .dataframe tbody tr th {\n",
       "        vertical-align: top;\n",
       "    }\n",
       "\n",
       "    .dataframe thead th {\n",
       "        text-align: right;\n",
       "    }\n",
       "</style>\n",
       "<table border=\"1\" class=\"dataframe\">\n",
       "  <thead>\n",
       "    <tr style=\"text-align: right;\">\n",
       "      <th></th>\n",
       "      <th>ano</th>\n",
       "      <th>cod_inep</th>\n",
       "      <th>geometry</th>\n",
       "      <th>ideb</th>\n",
       "      <th>nome_abrev</th>\n",
       "      <th>nome_escola</th>\n",
       "      <th>lon</th>\n",
       "      <th>lat</th>\n",
       "    </tr>\n",
       "  </thead>\n",
       "  <tbody>\n",
       "    <tr>\n",
       "      <th>0</th>\n",
       "      <td>2005-01-01 12:00:00</td>\n",
       "      <td>33140111</td>\n",
       "      <td>POINT (-43.63601828509798 -22.98632664816865)</td>\n",
       "      <td>3.6</td>\n",
       "      <td>EM EMMA D'AVILA DE CAMILLIS</td>\n",
       "      <td>1026018 ESCOLA MUNICIPAL EMMA DAVILA DE CAMILLIS</td>\n",
       "      <td>-43.636018</td>\n",
       "      <td>-22.986327</td>\n",
       "    </tr>\n",
       "    <tr>\n",
       "      <th>1</th>\n",
       "      <td>2005-01-01 12:00:00</td>\n",
       "      <td>33140120</td>\n",
       "      <td>POINT (-43.63061141412631 -22.92095886212502)</td>\n",
       "      <td>4.0</td>\n",
       "      <td>EM MANOEL PORTO FILHO</td>\n",
       "      <td>1019060 ESCOLA MUNICIPAL MANOEL PORTO FILHO</td>\n",
       "      <td>-43.630611</td>\n",
       "      <td>-22.920959</td>\n",
       "    </tr>\n",
       "    <tr>\n",
       "      <th>2</th>\n",
       "      <td>2005-01-01 12:00:00</td>\n",
       "      <td>33140154</td>\n",
       "      <td>POINT (-43.65817006396811 -22.93248534941013)</td>\n",
       "      <td>4.0</td>\n",
       "      <td>EM PROF° JORGE GONÇALVES FARINHA</td>\n",
       "      <td>1019059 ESCOLA MUNICIPAL PROFESSOR JORGE GONCA...</td>\n",
       "      <td>-43.658170</td>\n",
       "      <td>-22.932485</td>\n",
       "    </tr>\n",
       "    <tr>\n",
       "      <th>3</th>\n",
       "      <td>2005-01-01 12:00:00</td>\n",
       "      <td>33146136</td>\n",
       "      <td>POINT (-43.62796962386766 -23.00163603612894)</td>\n",
       "      <td>5.1</td>\n",
       "      <td>EM PROFª  ELISA JOAQUINA DALTRO PEIXOTO</td>\n",
       "      <td>1026020 ESCOLA MUNICIPAL PROFESSORA ELISA JOAQ...</td>\n",
       "      <td>-43.627970</td>\n",
       "      <td>-23.001636</td>\n",
       "    </tr>\n",
       "    <tr>\n",
       "      <th>6</th>\n",
       "      <td>2005-01-01 12:00:00</td>\n",
       "      <td>33074763</td>\n",
       "      <td>POINT (-43.34848701721742 -22.84106860685418)</td>\n",
       "      <td>4.6</td>\n",
       "      <td>EM VELINDA MAURÍCIO DA FONSECA</td>\n",
       "      <td>0515009 ESCOLA MUNICIPAL VELINDA MAURICIO DA F...</td>\n",
       "      <td>-43.348487</td>\n",
       "      <td>-22.841069</td>\n",
       "    </tr>\n",
       "  </tbody>\n",
       "</table>\n",
       "</div>"
      ],
      "text/plain": [
       "                   ano  cod_inep  \\\n",
       "0  2005-01-01 12:00:00  33140111   \n",
       "1  2005-01-01 12:00:00  33140120   \n",
       "2  2005-01-01 12:00:00  33140154   \n",
       "3  2005-01-01 12:00:00  33146136   \n",
       "6  2005-01-01 12:00:00  33074763   \n",
       "\n",
       "                                        geometry  ideb  \\\n",
       "0  POINT (-43.63601828509798 -22.98632664816865)   3.6   \n",
       "1  POINT (-43.63061141412631 -22.92095886212502)   4.0   \n",
       "2  POINT (-43.65817006396811 -22.93248534941013)   4.0   \n",
       "3  POINT (-43.62796962386766 -23.00163603612894)   5.1   \n",
       "6  POINT (-43.34848701721742 -22.84106860685418)   4.6   \n",
       "\n",
       "                                nome_abrev  \\\n",
       "0              EM EMMA D'AVILA DE CAMILLIS   \n",
       "1                    EM MANOEL PORTO FILHO   \n",
       "2         EM PROF° JORGE GONÇALVES FARINHA   \n",
       "3  EM PROFª  ELISA JOAQUINA DALTRO PEIXOTO   \n",
       "6           EM VELINDA MAURÍCIO DA FONSECA   \n",
       "\n",
       "                                         nome_escola        lon        lat  \n",
       "0   1026018 ESCOLA MUNICIPAL EMMA DAVILA DE CAMILLIS -43.636018 -22.986327  \n",
       "1        1019060 ESCOLA MUNICIPAL MANOEL PORTO FILHO -43.630611 -22.920959  \n",
       "2  1019059 ESCOLA MUNICIPAL PROFESSOR JORGE GONCA... -43.658170 -22.932485  \n",
       "3  1026020 ESCOLA MUNICIPAL PROFESSORA ELISA JOAQ... -43.627970 -23.001636  \n",
       "6  0515009 ESCOLA MUNICIPAL VELINDA MAURICIO DA F... -43.348487 -22.841069  "
      ]
     },
     "execution_count": 5,
     "metadata": {},
     "output_type": "execute_result"
    }
   ],
   "source": [
    "proto_kepler.head()"
   ]
  },
  {
   "cell_type": "markdown",
   "metadata": {},
   "source": [
    "### IDEB marks distribution"
   ]
  },
  {
   "cell_type": "code",
   "execution_count": 6,
   "metadata": {},
   "outputs": [
    {
     "data": {
      "image/png": "[encoded data removed]",
      "text/plain": [
       "<Figure size 1080x720 with 1 Axes>"
      ]
     },
     "metadata": {},
     "output_type": "display_data"
    }
   ],
   "source": [
    "pylab.rcParams['figure.figsize'] = (15, 10)\n",
    "ax = sns.boxplot(x='ano', y='ideb', data=proto_kepler, \n",
    "            color=palette[0], saturation=0.8, linewidth=2,\n",
    "            showmeans=True, meanline=True)"
   ]
  },
  {
   "cell_type": "code",
   "execution_count": 7,
   "metadata": {},
   "outputs": [
    {
     "data": {
      "text/html": [
       "<div>\n",
       "<style scoped>\n",
       "    .dataframe tbody tr th:only-of-type {\n",
       "        vertical-align: middle;\n",
       "    }\n",
       "\n",
       "    .dataframe tbody tr th {\n",
       "        vertical-align: top;\n",
       "    }\n",
       "\n",
       "    .dataframe thead th {\n",
       "        text-align: right;\n",
       "    }\n",
       "</style>\n",
       "<table border=\"1\" class=\"dataframe\">\n",
       "  <thead>\n",
       "    <tr style=\"text-align: right;\">\n",
       "      <th>ano</th>\n",
       "      <th>2005-01-01 12:00:00</th>\n",
       "      <th>2007-01-01 12:00:00</th>\n",
       "      <th>2009-01-01 12:00:00</th>\n",
       "      <th>2011-01-01 12:00:00</th>\n",
       "      <th>2013-01-01 12:00:00</th>\n",
       "      <th>2015-01-01 12:00:00</th>\n",
       "      <th>2017-01-01 12:00:00</th>\n",
       "    </tr>\n",
       "  </thead>\n",
       "  <tbody>\n",
       "    <tr>\n",
       "      <th>count</th>\n",
       "      <td>709.000000</td>\n",
       "      <td>726.000000</td>\n",
       "      <td>710.000000</td>\n",
       "      <td>696.000000</td>\n",
       "      <td>662.000000</td>\n",
       "      <td>624.000000</td>\n",
       "      <td>603.000000</td>\n",
       "    </tr>\n",
       "    <tr>\n",
       "      <th>mean</th>\n",
       "      <td>4.298166</td>\n",
       "      <td>4.567906</td>\n",
       "      <td>5.069014</td>\n",
       "      <td>5.472701</td>\n",
       "      <td>5.353927</td>\n",
       "      <td>5.629327</td>\n",
       "      <td>5.792371</td>\n",
       "    </tr>\n",
       "    <tr>\n",
       "      <th>std</th>\n",
       "      <td>0.675256</td>\n",
       "      <td>0.627861</td>\n",
       "      <td>0.730688</td>\n",
       "      <td>0.732514</td>\n",
       "      <td>0.813581</td>\n",
       "      <td>0.697661</td>\n",
       "      <td>0.624719</td>\n",
       "    </tr>\n",
       "    <tr>\n",
       "      <th>min</th>\n",
       "      <td>2.100000</td>\n",
       "      <td>2.700000</td>\n",
       "      <td>2.800000</td>\n",
       "      <td>2.500000</td>\n",
       "      <td>1.300000</td>\n",
       "      <td>2.700000</td>\n",
       "      <td>3.900000</td>\n",
       "    </tr>\n",
       "    <tr>\n",
       "      <th>25%</th>\n",
       "      <td>3.900000</td>\n",
       "      <td>4.200000</td>\n",
       "      <td>4.600000</td>\n",
       "      <td>5.000000</td>\n",
       "      <td>4.800000</td>\n",
       "      <td>5.200000</td>\n",
       "      <td>5.400000</td>\n",
       "    </tr>\n",
       "    <tr>\n",
       "      <th>50%</th>\n",
       "      <td>4.300000</td>\n",
       "      <td>4.500000</td>\n",
       "      <td>5.000000</td>\n",
       "      <td>5.500000</td>\n",
       "      <td>5.350000</td>\n",
       "      <td>5.600000</td>\n",
       "      <td>5.800000</td>\n",
       "    </tr>\n",
       "    <tr>\n",
       "      <th>75%</th>\n",
       "      <td>4.800000</td>\n",
       "      <td>5.000000</td>\n",
       "      <td>5.500000</td>\n",
       "      <td>5.900000</td>\n",
       "      <td>5.900000</td>\n",
       "      <td>6.100000</td>\n",
       "      <td>6.200000</td>\n",
       "    </tr>\n",
       "    <tr>\n",
       "      <th>max</th>\n",
       "      <td>6.300000</td>\n",
       "      <td>6.900000</td>\n",
       "      <td>7.800000</td>\n",
       "      <td>8.500000</td>\n",
       "      <td>8.700000</td>\n",
       "      <td>8.300000</td>\n",
       "      <td>8.000000</td>\n",
       "    </tr>\n",
       "  </tbody>\n",
       "</table>\n",
       "</div>"
      ],
      "text/plain": [
       "ano    2005-01-01 12:00:00  2007-01-01 12:00:00  2009-01-01 12:00:00  \\\n",
       "count           709.000000           726.000000           710.000000   \n",
       "mean              4.298166             4.567906             5.069014   \n",
       "std               0.675256             0.627861             0.730688   \n",
       "min               2.100000             2.700000             2.800000   \n",
       "25%               3.900000             4.200000             4.600000   \n",
       "50%               4.300000             4.500000             5.000000   \n",
       "75%               4.800000             5.000000             5.500000   \n",
       "max               6.300000             6.900000             7.800000   \n",
       "\n",
       "ano    2011-01-01 12:00:00  2013-01-01 12:00:00  2015-01-01 12:00:00  \\\n",
       "count           696.000000           662.000000           624.000000   \n",
       "mean              5.472701             5.353927             5.629327   \n",
       "std               0.732514             0.813581             0.697661   \n",
       "min               2.500000             1.300000             2.700000   \n",
       "25%               5.000000             4.800000             5.200000   \n",
       "50%               5.500000             5.350000             5.600000   \n",
       "75%               5.900000             5.900000             6.100000   \n",
       "max               8.500000             8.700000             8.300000   \n",
       "\n",
       "ano    2017-01-01 12:00:00  \n",
       "count           603.000000  \n",
       "mean              5.792371  \n",
       "std               0.624719  \n",
       "min               3.900000  \n",
       "25%               5.400000  \n",
       "50%               5.800000  \n",
       "75%               6.200000  \n",
       "max               8.000000  "
      ]
     },
     "execution_count": 7,
     "metadata": {},
     "output_type": "execute_result"
    }
   ],
   "source": [
    "ideb_stats = proto_kepler.pivot_table(columns='ano', index='cod_inep', values='ideb').describe()\n",
    "ideb_stats"
   ]
  },
  {
   "cell_type": "code",
   "execution_count": 8,
   "metadata": {},
   "outputs": [
    {
     "data": {
      "image/png": "[encoded data removed]",
      "text/plain": [
       "<Figure size 1080x720 with 1 Axes>"
      ]
     },
     "metadata": {},
     "output_type": "display_data"
    }
   ],
   "source": [
    "plt.plot(ideb_stats.loc['mean'], color=palette[2], marker='o') \n",
    "plt.fill_between(x= ideb_stats.loc['mean'].index,\n",
    "                y1=ideb_stats.loc['mean']-ideb_stats.loc['std'],\n",
    "                y2=ideb_stats.loc['mean']+ideb_stats.loc['std'], \n",
    "                alpha=0.2, facecolor=palette[1])\n",
    "\n",
    "# Meta nacional: 5\n",
    "x=ideb_stats.loc['mean'].index\n",
    "plt.plot(pd.Series([5 for i in range(len(x))], x), color=palette[-1], linestyle='dashed')\n",
    "\n",
    "#plt.fill_between(x, y-error, y+error)\n",
    "plt.show()"
   ]
  },
  {
   "cell_type": "markdown",
   "metadata": {},
   "source": [
    "<a id=\"1\"></a>\n",
    "### IDEB Growth \n",
    "#### Identify the schools with most IDEB variation from 2005 to 2017"
   ]
  },
  {
   "cell_type": "code",
   "execution_count": 19,
   "metadata": {},
   "outputs": [
    {
     "data": {
      "text/html": [
       "<div>\n",
       "<style scoped>\n",
       "    .dataframe tbody tr th:only-of-type {\n",
       "        vertical-align: middle;\n",
       "    }\n",
       "\n",
       "    .dataframe tbody tr th {\n",
       "        vertical-align: top;\n",
       "    }\n",
       "\n",
       "    .dataframe thead th {\n",
       "        text-align: right;\n",
       "    }\n",
       "</style>\n",
       "<table border=\"1\" class=\"dataframe\">\n",
       "  <thead>\n",
       "    <tr style=\"text-align: right;\">\n",
       "      <th></th>\n",
       "      <th>cod_inep</th>\n",
       "      <th>nome_abrev</th>\n",
       "      <th>geometry</th>\n",
       "      <th>nome_escola</th>\n",
       "      <th>ideb_2005</th>\n",
       "      <th>ideb_2007</th>\n",
       "      <th>ideb_2009</th>\n",
       "      <th>ideb_2011</th>\n",
       "      <th>ideb_2013</th>\n",
       "      <th>ideb_2015</th>\n",
       "      <th>ideb_2017</th>\n",
       "    </tr>\n",
       "  </thead>\n",
       "  <tbody>\n",
       "    <tr>\n",
       "      <th>0</th>\n",
       "      <td>33140111</td>\n",
       "      <td>EM EMMA D'AVILA DE CAMILLIS</td>\n",
       "      <td>POINT (-43.63601828509798 -22.98632664816865)</td>\n",
       "      <td>1026018 ESCOLA MUNICIPAL EMMA DAVILA DE CAMILLIS</td>\n",
       "      <td>3.6</td>\n",
       "      <td>3.6</td>\n",
       "      <td>4.3</td>\n",
       "      <td>5.5</td>\n",
       "      <td>4.9</td>\n",
       "      <td>5.0</td>\n",
       "      <td>5.4</td>\n",
       "    </tr>\n",
       "    <tr>\n",
       "      <th>1</th>\n",
       "      <td>33140120</td>\n",
       "      <td>EM MANOEL PORTO FILHO</td>\n",
       "      <td>POINT (-43.63061141412631 -22.92095886212502)</td>\n",
       "      <td>1019060 ESCOLA MUNICIPAL MANOEL PORTO FILHO</td>\n",
       "      <td>4.0</td>\n",
       "      <td>4.4</td>\n",
       "      <td>NaN</td>\n",
       "      <td>NaN</td>\n",
       "      <td>NaN</td>\n",
       "      <td>NaN</td>\n",
       "      <td>NaN</td>\n",
       "    </tr>\n",
       "  </tbody>\n",
       "</table>\n",
       "</div>"
      ],
      "text/plain": [
       "   cod_inep                   nome_abrev  \\\n",
       "0  33140111  EM EMMA D'AVILA DE CAMILLIS   \n",
       "1  33140120        EM MANOEL PORTO FILHO   \n",
       "\n",
       "                                        geometry  \\\n",
       "0  POINT (-43.63601828509798 -22.98632664816865)   \n",
       "1  POINT (-43.63061141412631 -22.92095886212502)   \n",
       "\n",
       "                                        nome_escola  ideb_2005  ideb_2007  \\\n",
       "0  1026018 ESCOLA MUNICIPAL EMMA DAVILA DE CAMILLIS        3.6        3.6   \n",
       "1       1019060 ESCOLA MUNICIPAL MANOEL PORTO FILHO        4.0        4.4   \n",
       "\n",
       "   ideb_2009  ideb_2011  ideb_2013  ideb_2015  ideb_2017  \n",
       "0        4.3        5.5        4.9        5.0        5.4  \n",
       "1        NaN        NaN        NaN        NaN        NaN  "
      ]
     },
     "execution_count": 19,
     "metadata": {},
     "output_type": "execute_result"
    }
   ],
   "source": [
    "ideb_rio = pd.read_csv(OUTPUT_PATH / \"ideb_merged.csv\", index_col=0)\n",
    "ideb_rio.head(2)"
   ]
  },
  {
   "cell_type": "markdown",
   "metadata": {},
   "source": [
    "* IDEB 2017 distribution"
   ]
  },
  {
   "cell_type": "code",
   "execution_count": 20,
   "metadata": {},
   "outputs": [
    {
     "data": {
      "text/plain": [
       "<matplotlib.axes._subplots.AxesSubplot at 0x122e0e1d0>"
      ]
     },
     "execution_count": 20,
     "metadata": {},
     "output_type": "execute_result"
    },
    {
     "data": {
      "image/png": "[encoded data removed]",
      "text/plain": [
       "<Figure size 1440x720 with 1 Axes>"
      ]
     },
     "metadata": {},
     "output_type": "display_data"
    }
   ],
   "source": [
    "pylab.rcParams['figure.figsize'] = (20, 10)\n",
    "sns.distplot(ideb_rio['ideb_2017'].dropna(), color=palette[1], kde=False)"
   ]
  },
  {
   "cell_type": "code",
   "execution_count": 21,
   "metadata": {},
   "outputs": [
    {
     "name": "stdout",
     "output_type": "stream",
     "text": [
      "<class 'geopandas.geodataframe.GeoDataFrame'>\n",
      "Int64Index: 817 entries, 0 to 816\n",
      "Data columns (total 11 columns):\n",
      "cod_inep       817 non-null int64\n",
      "nome_abrev     817 non-null object\n",
      "geometry       817 non-null object\n",
      "nome_escola    817 non-null object\n",
      "ideb_2005      709 non-null float64\n",
      "ideb_2007      726 non-null float64\n",
      "ideb_2009      710 non-null float64\n",
      "ideb_2011      696 non-null float64\n",
      "ideb_2013      662 non-null float64\n",
      "ideb_2015      624 non-null float64\n",
      "ideb_2017      603 non-null float64\n",
      "dtypes: float64(7), int64(1), object(3)\n",
      "memory usage: 76.6+ KB\n"
     ]
    }
   ],
   "source": [
    "from shapely import wkt\n",
    "ideb_rio = gpd.GeoDataFrame(ideb_rio)\n",
    "ideb_rio['geometry'] = ideb_rio['geometry'].apply(lambda x: wkt.loads(x))\n",
    "#ideb_rio['geometry'] = ideb_rio['geometry'].apply(lambda x: loads(x.encode()))\n",
    "ideb_rio.info()"
   ]
  },
  {
   "cell_type": "code",
   "execution_count": 22,
   "metadata": {},
   "outputs": [
    {
     "data": {
      "text/plain": [
       "cod_inep         0\n",
       "nome_abrev       0\n",
       "geometry         0\n",
       "nome_escola      0\n",
       "ideb_2005      108\n",
       "ideb_2007       91\n",
       "ideb_2009      107\n",
       "ideb_2011      121\n",
       "ideb_2013      155\n",
       "ideb_2015      193\n",
       "ideb_2017      214\n",
       "dtype: int64"
      ]
     },
     "execution_count": 22,
     "metadata": {},
     "output_type": "execute_result"
    }
   ],
   "source": [
    "ideb_rio.isna().sum()"
   ]
  },
  {
   "cell_type": "code",
   "execution_count": 23,
   "metadata": {
    "scrolled": true
   },
   "outputs": [
    {
     "data": {
      "text/plain": [
       "817"
      ]
     },
     "execution_count": 23,
     "metadata": {},
     "output_type": "execute_result"
    }
   ],
   "source": [
    "# All cod_inep are unique\n",
    "ideb_rio['cod_inep'].nunique()"
   ]
  },
  {
   "cell_type": "code",
   "execution_count": 24,
   "metadata": {},
   "outputs": [
    {
     "name": "stdout",
     "output_type": "stream",
     "text": [
      "<class 'geopandas.geodataframe.GeoDataFrame'>\n",
      "Int64Index: 817 entries, 33140111 to 33140081\n",
      "Data columns (total 10 columns):\n",
      "nome_abrev     817 non-null object\n",
      "geometry       817 non-null object\n",
      "nome_escola    817 non-null object\n",
      "ideb_2005      709 non-null float64\n",
      "ideb_2007      726 non-null float64\n",
      "ideb_2009      710 non-null float64\n",
      "ideb_2011      696 non-null float64\n",
      "ideb_2013      662 non-null float64\n",
      "ideb_2015      624 non-null float64\n",
      "ideb_2017      603 non-null float64\n",
      "dtypes: float64(7), object(3)\n",
      "memory usage: 70.2+ KB\n"
     ]
    }
   ],
   "source": [
    "ideb_rio = ideb_rio.set_index('cod_inep', drop=True)\n",
    "ideb_rio.info()"
   ]
  },
  {
   "cell_type": "code",
   "execution_count": 25,
   "metadata": {},
   "outputs": [],
   "source": [
    "ideb_rio[\"delta\"] = ideb_rio[\"ideb_2017\"] - ideb_rio[\"ideb_2005\"]"
   ]
  },
  {
   "cell_type": "code",
   "execution_count": 26,
   "metadata": {},
   "outputs": [
    {
     "data": {
      "text/plain": [
       "count    534.000000\n",
       "mean       1.470225\n",
       "std        0.647664\n",
       "min       -0.300000\n",
       "25%        1.025000\n",
       "50%        1.400000\n",
       "75%        1.800000\n",
       "max        4.300000\n",
       "Name: delta, dtype: float64"
      ]
     },
     "execution_count": 26,
     "metadata": {},
     "output_type": "execute_result"
    }
   ],
   "source": [
    "ideb_rio[\"delta\"].describe()"
   ]
  },
  {
   "cell_type": "code",
   "execution_count": 27,
   "metadata": {},
   "outputs": [
    {
     "data": {
      "text/plain": [
       "83"
      ]
     },
     "execution_count": 27,
     "metadata": {},
     "output_type": "execute_result"
    }
   ],
   "source": [
    "ideb_rio[\"delta\"].nunique()"
   ]
  },
  {
   "cell_type": "code",
   "execution_count": 28,
   "metadata": {},
   "outputs": [
    {
     "data": {
      "text/plain": [
       "<matplotlib.axes._subplots.AxesSubplot at 0x12308e6d8>"
      ]
     },
     "execution_count": 28,
     "metadata": {},
     "output_type": "execute_result"
    },
    {
     "data": {
      "image/png": "[encoded data removed]",
      "text/plain": [
       "<Figure size 1440x720 with 1 Axes>"
      ]
     },
     "metadata": {},
     "output_type": "display_data"
    }
   ],
   "source": [
    "ideb_rio[\"delta\"].hist(bins='fd', color=palette[2])"
   ]
  },
  {
   "cell_type": "code",
   "execution_count": 29,
   "metadata": {},
   "outputs": [
    {
     "data": {
      "text/plain": [
       "534"
      ]
     },
     "execution_count": 29,
     "metadata": {},
     "output_type": "execute_result"
    }
   ],
   "source": [
    "ideb_rio['delta'].count()"
   ]
  },
  {
   "cell_type": "code",
   "execution_count": 30,
   "metadata": {},
   "outputs": [
    {
     "data": {
      "text/plain": [
       "0.653610771113831"
      ]
     },
     "execution_count": 30,
     "metadata": {},
     "output_type": "execute_result"
    }
   ],
   "source": [
    "ideb_rio['delta'].count()/len(ideb_rio)"
   ]
  },
  {
   "cell_type": "code",
   "execution_count": 31,
   "metadata": {},
   "outputs": [
    {
     "data": {
      "text/plain": [
       "(817, 11)"
      ]
     },
     "execution_count": 31,
     "metadata": {},
     "output_type": "execute_result"
    }
   ],
   "source": [
    "ideb_rio.shape"
   ]
  },
  {
   "cell_type": "markdown",
   "metadata": {},
   "source": [
    "* Top and bottom deltas"
   ]
  },
  {
   "cell_type": "code",
   "execution_count": 32,
   "metadata": {},
   "outputs": [
    {
     "data": {
      "text/html": [
       "<div>\n",
       "<style scoped>\n",
       "    .dataframe tbody tr th:only-of-type {\n",
       "        vertical-align: middle;\n",
       "    }\n",
       "\n",
       "    .dataframe tbody tr th {\n",
       "        vertical-align: top;\n",
       "    }\n",
       "\n",
       "    .dataframe thead th {\n",
       "        text-align: right;\n",
       "    }\n",
       "</style>\n",
       "<table border=\"1\" class=\"dataframe\">\n",
       "  <thead>\n",
       "    <tr style=\"text-align: right;\">\n",
       "      <th></th>\n",
       "      <th>nome_escola</th>\n",
       "      <th>ideb_2005</th>\n",
       "      <th>ideb_2007</th>\n",
       "      <th>ideb_2009</th>\n",
       "      <th>ideb_2011</th>\n",
       "      <th>ideb_2013</th>\n",
       "      <th>ideb_2015</th>\n",
       "      <th>ideb_2017</th>\n",
       "      <th>delta</th>\n",
       "    </tr>\n",
       "    <tr>\n",
       "      <th>cod_inep</th>\n",
       "      <th></th>\n",
       "      <th></th>\n",
       "      <th></th>\n",
       "      <th></th>\n",
       "      <th></th>\n",
       "      <th></th>\n",
       "      <th></th>\n",
       "      <th></th>\n",
       "      <th></th>\n",
       "    </tr>\n",
       "  </thead>\n",
       "  <tbody>\n",
       "    <tr>\n",
       "      <th>33087601</th>\n",
       "      <td>0227501 CIEP DOUTOR BENTO RUBIAO</td>\n",
       "      <td>2.1</td>\n",
       "      <td>4.0</td>\n",
       "      <td>NaN</td>\n",
       "      <td>NaN</td>\n",
       "      <td>NaN</td>\n",
       "      <td>NaN</td>\n",
       "      <td>6.4</td>\n",
       "      <td>4.3</td>\n",
       "    </tr>\n",
       "    <tr>\n",
       "      <th>33065810</th>\n",
       "      <td>0206011 ESCOLA MUNICIPAL SHAKESPEARE</td>\n",
       "      <td>2.8</td>\n",
       "      <td>5.4</td>\n",
       "      <td>6.0</td>\n",
       "      <td>5.8</td>\n",
       "      <td>5.6</td>\n",
       "      <td>5.2</td>\n",
       "      <td>6.4</td>\n",
       "      <td>3.6</td>\n",
       "    </tr>\n",
       "    <tr>\n",
       "      <th>33076936</th>\n",
       "      <td>0734501 CIEP LUIZ CARLOS PRESTES</td>\n",
       "      <td>2.5</td>\n",
       "      <td>2.8</td>\n",
       "      <td>4.1</td>\n",
       "      <td>NaN</td>\n",
       "      <td>NaN</td>\n",
       "      <td>NaN</td>\n",
       "      <td>6.1</td>\n",
       "      <td>3.6</td>\n",
       "    </tr>\n",
       "    <tr>\n",
       "      <th>33078335</th>\n",
       "      <td>0716052 ESCOLA MUNICIPAL ROSA DO POVO</td>\n",
       "      <td>3.0</td>\n",
       "      <td>4.1</td>\n",
       "      <td>4.8</td>\n",
       "      <td>4.9</td>\n",
       "      <td>5.2</td>\n",
       "      <td>6.6</td>\n",
       "      <td>6.4</td>\n",
       "      <td>3.4</td>\n",
       "    </tr>\n",
       "    <tr>\n",
       "      <th>33088390</th>\n",
       "      <td>1026202 CIEP HILDEBRANDO DE ARAUJO GOES</td>\n",
       "      <td>2.1</td>\n",
       "      <td>3.9</td>\n",
       "      <td>4.8</td>\n",
       "      <td>5.2</td>\n",
       "      <td>5.1</td>\n",
       "      <td>5.1</td>\n",
       "      <td>5.5</td>\n",
       "      <td>3.4</td>\n",
       "    </tr>\n",
       "    <tr>\n",
       "      <th>33080720</th>\n",
       "      <td>0833019 ESCOLA MUNICIPAL LIMA BARRETO</td>\n",
       "      <td>3.2</td>\n",
       "      <td>3.0</td>\n",
       "      <td>3.7</td>\n",
       "      <td>5.7</td>\n",
       "      <td>5.4</td>\n",
       "      <td>5.9</td>\n",
       "      <td>6.5</td>\n",
       "      <td>3.3</td>\n",
       "    </tr>\n",
       "    <tr>\n",
       "      <th>33064067</th>\n",
       "      <td>0204003 ESCOLA MUNICIPAL ALBERTO BARTH</td>\n",
       "      <td>3.8</td>\n",
       "      <td>5.5</td>\n",
       "      <td>5.9</td>\n",
       "      <td>7.4</td>\n",
       "      <td>7.1</td>\n",
       "      <td>7.0</td>\n",
       "      <td>7.1</td>\n",
       "      <td>3.3</td>\n",
       "    </tr>\n",
       "    <tr>\n",
       "      <th>33070881</th>\n",
       "      <td>0411015 ESCOLA MUNICIPAL SUICA</td>\n",
       "      <td>3.6</td>\n",
       "      <td>4.8</td>\n",
       "      <td>5.6</td>\n",
       "      <td>5.3</td>\n",
       "      <td>5.5</td>\n",
       "      <td>6.8</td>\n",
       "      <td>6.7</td>\n",
       "      <td>3.1</td>\n",
       "    </tr>\n",
       "    <tr>\n",
       "      <th>33082707</th>\n",
       "      <td>0918052 ESCOLA MUNICIPAL CASEMIRO DE ABREU</td>\n",
       "      <td>2.5</td>\n",
       "      <td>4.5</td>\n",
       "      <td>5.0</td>\n",
       "      <td>5.3</td>\n",
       "      <td>6.0</td>\n",
       "      <td>4.9</td>\n",
       "      <td>5.6</td>\n",
       "      <td>3.1</td>\n",
       "    </tr>\n",
       "    <tr>\n",
       "      <th>33065152</th>\n",
       "      <td>0206501 CIEP PRESIDENTE JOAO GOULART</td>\n",
       "      <td>2.7</td>\n",
       "      <td>3.9</td>\n",
       "      <td>3.1</td>\n",
       "      <td>4.5</td>\n",
       "      <td>4.8</td>\n",
       "      <td>5.1</td>\n",
       "      <td>5.8</td>\n",
       "      <td>3.1</td>\n",
       "    </tr>\n",
       "    <tr>\n",
       "      <th>33146268</th>\n",
       "      <td>0716073 ESCOLA MUNICIPAL ROBERTO BURLE MARX</td>\n",
       "      <td>4.7</td>\n",
       "      <td>5.4</td>\n",
       "      <td>5.9</td>\n",
       "      <td>6.6</td>\n",
       "      <td>7.4</td>\n",
       "      <td>7.8</td>\n",
       "      <td>7.8</td>\n",
       "      <td>3.1</td>\n",
       "    </tr>\n",
       "    <tr>\n",
       "      <th>33068755</th>\n",
       "      <td>0410202 CIEP YURI GAGARIN</td>\n",
       "      <td>3.2</td>\n",
       "      <td>4.3</td>\n",
       "      <td>5.0</td>\n",
       "      <td>5.7</td>\n",
       "      <td>5.6</td>\n",
       "      <td>6.2</td>\n",
       "      <td>6.3</td>\n",
       "      <td>3.1</td>\n",
       "    </tr>\n",
       "    <tr>\n",
       "      <th>33063265</th>\n",
       "      <td>0204502 CIEP PRESIDENTE AGOSTINHO NETO</td>\n",
       "      <td>3.5</td>\n",
       "      <td>4.8</td>\n",
       "      <td>5.7</td>\n",
       "      <td>6.6</td>\n",
       "      <td>6.4</td>\n",
       "      <td>5.7</td>\n",
       "      <td>6.5</td>\n",
       "      <td>3.0</td>\n",
       "    </tr>\n",
       "    <tr>\n",
       "      <th>33065004</th>\n",
       "      <td>0205007 ESCOLA MUNICIPAL PENEDO</td>\n",
       "      <td>3.5</td>\n",
       "      <td>4.3</td>\n",
       "      <td>5.6</td>\n",
       "      <td>6.1</td>\n",
       "      <td>6.4</td>\n",
       "      <td>6.0</td>\n",
       "      <td>6.5</td>\n",
       "      <td>3.0</td>\n",
       "    </tr>\n",
       "    <tr>\n",
       "      <th>33066256</th>\n",
       "      <td>0107004 ESCOLA MUNICIPAL FLORIANO PEIXOTO</td>\n",
       "      <td>4.3</td>\n",
       "      <td>5.6</td>\n",
       "      <td>5.7</td>\n",
       "      <td>6.6</td>\n",
       "      <td>6.9</td>\n",
       "      <td>6.4</td>\n",
       "      <td>7.2</td>\n",
       "      <td>2.9</td>\n",
       "    </tr>\n",
       "  </tbody>\n",
       "</table>\n",
       "</div>"
      ],
      "text/plain": [
       "                                          nome_escola  ideb_2005  ideb_2007  \\\n",
       "cod_inep                                                                      \n",
       "33087601             0227501 CIEP DOUTOR BENTO RUBIAO        2.1        4.0   \n",
       "33065810         0206011 ESCOLA MUNICIPAL SHAKESPEARE        2.8        5.4   \n",
       "33076936             0734501 CIEP LUIZ CARLOS PRESTES        2.5        2.8   \n",
       "33078335        0716052 ESCOLA MUNICIPAL ROSA DO POVO        3.0        4.1   \n",
       "33088390      1026202 CIEP HILDEBRANDO DE ARAUJO GOES        2.1        3.9   \n",
       "33080720        0833019 ESCOLA MUNICIPAL LIMA BARRETO        3.2        3.0   \n",
       "33064067       0204003 ESCOLA MUNICIPAL ALBERTO BARTH        3.8        5.5   \n",
       "33070881               0411015 ESCOLA MUNICIPAL SUICA        3.6        4.8   \n",
       "33082707   0918052 ESCOLA MUNICIPAL CASEMIRO DE ABREU        2.5        4.5   \n",
       "33065152         0206501 CIEP PRESIDENTE JOAO GOULART        2.7        3.9   \n",
       "33146268  0716073 ESCOLA MUNICIPAL ROBERTO BURLE MARX        4.7        5.4   \n",
       "33068755                    0410202 CIEP YURI GAGARIN        3.2        4.3   \n",
       "33063265       0204502 CIEP PRESIDENTE AGOSTINHO NETO        3.5        4.8   \n",
       "33065004              0205007 ESCOLA MUNICIPAL PENEDO        3.5        4.3   \n",
       "33066256    0107004 ESCOLA MUNICIPAL FLORIANO PEIXOTO        4.3        5.6   \n",
       "\n",
       "          ideb_2009  ideb_2011  ideb_2013  ideb_2015  ideb_2017  delta  \n",
       "cod_inep                                                                \n",
       "33087601        NaN        NaN        NaN        NaN        6.4    4.3  \n",
       "33065810        6.0        5.8        5.6        5.2        6.4    3.6  \n",
       "33076936        4.1        NaN        NaN        NaN        6.1    3.6  \n",
       "33078335        4.8        4.9        5.2        6.6        6.4    3.4  \n",
       "33088390        4.8        5.2        5.1        5.1        5.5    3.4  \n",
       "33080720        3.7        5.7        5.4        5.9        6.5    3.3  \n",
       "33064067        5.9        7.4        7.1        7.0        7.1    3.3  \n",
       "33070881        5.6        5.3        5.5        6.8        6.7    3.1  \n",
       "33082707        5.0        5.3        6.0        4.9        5.6    3.1  \n",
       "33065152        3.1        4.5        4.8        5.1        5.8    3.1  \n",
       "33146268        5.9        6.6        7.4        7.8        7.8    3.1  \n",
       "33068755        5.0        5.7        5.6        6.2        6.3    3.1  \n",
       "33063265        5.7        6.6        6.4        5.7        6.5    3.0  \n",
       "33065004        5.6        6.1        6.4        6.0        6.5    3.0  \n",
       "33066256        5.7        6.6        6.9        6.4        7.2    2.9  "
      ]
     },
     "execution_count": 32,
     "metadata": {},
     "output_type": "execute_result"
    }
   ],
   "source": [
    "# Top 15 schools in IDEB growth\n",
    "ideb_rio[['nome_escola', 'ideb_2005', 'ideb_2007', 'ideb_2009', 'ideb_2011', \n",
    "          'ideb_2013', 'ideb_2015', 'ideb_2017', 'delta']].sort_values(\"delta\", ascending = False).head(15)"
   ]
  },
  {
   "cell_type": "code",
   "execution_count": 33,
   "metadata": {},
   "outputs": [],
   "source": [
    "top_15 = ideb_rio[['geometry', 'nome_escola', 'delta']].sort_values(\"delta\", ascending = False).head(15)\n",
    "\n",
    "top_15['lon'] = top_15.geometry.x\n",
    "top_15['lat'] = top_15.geometry.y"
   ]
  },
  {
   "cell_type": "code",
   "execution_count": 34,
   "metadata": {},
   "outputs": [
    {
     "data": {
      "text/html": [
       "<div>\n",
       "<style scoped>\n",
       "    .dataframe tbody tr th:only-of-type {\n",
       "        vertical-align: middle;\n",
       "    }\n",
       "\n",
       "    .dataframe tbody tr th {\n",
       "        vertical-align: top;\n",
       "    }\n",
       "\n",
       "    .dataframe thead th {\n",
       "        text-align: right;\n",
       "    }\n",
       "</style>\n",
       "<table border=\"1\" class=\"dataframe\">\n",
       "  <thead>\n",
       "    <tr style=\"text-align: right;\">\n",
       "      <th></th>\n",
       "      <th>nome_escola</th>\n",
       "      <th>delta</th>\n",
       "    </tr>\n",
       "    <tr>\n",
       "      <th>cod_inep</th>\n",
       "      <th></th>\n",
       "      <th></th>\n",
       "    </tr>\n",
       "  </thead>\n",
       "  <tbody>\n",
       "    <tr>\n",
       "      <th>33087601</th>\n",
       "      <td>0227501 CIEP DOUTOR BENTO RUBIAO</td>\n",
       "      <td>4.3</td>\n",
       "    </tr>\n",
       "    <tr>\n",
       "      <th>33065810</th>\n",
       "      <td>0206011 ESCOLA MUNICIPAL SHAKESPEARE</td>\n",
       "      <td>3.6</td>\n",
       "    </tr>\n",
       "    <tr>\n",
       "      <th>33076936</th>\n",
       "      <td>0734501 CIEP LUIZ CARLOS PRESTES</td>\n",
       "      <td>3.6</td>\n",
       "    </tr>\n",
       "    <tr>\n",
       "      <th>33078335</th>\n",
       "      <td>0716052 ESCOLA MUNICIPAL ROSA DO POVO</td>\n",
       "      <td>3.4</td>\n",
       "    </tr>\n",
       "    <tr>\n",
       "      <th>33088390</th>\n",
       "      <td>1026202 CIEP HILDEBRANDO DE ARAUJO GOES</td>\n",
       "      <td>3.4</td>\n",
       "    </tr>\n",
       "    <tr>\n",
       "      <th>33080720</th>\n",
       "      <td>0833019 ESCOLA MUNICIPAL LIMA BARRETO</td>\n",
       "      <td>3.3</td>\n",
       "    </tr>\n",
       "    <tr>\n",
       "      <th>33064067</th>\n",
       "      <td>0204003 ESCOLA MUNICIPAL ALBERTO BARTH</td>\n",
       "      <td>3.3</td>\n",
       "    </tr>\n",
       "    <tr>\n",
       "      <th>33070881</th>\n",
       "      <td>0411015 ESCOLA MUNICIPAL SUICA</td>\n",
       "      <td>3.1</td>\n",
       "    </tr>\n",
       "    <tr>\n",
       "      <th>33082707</th>\n",
       "      <td>0918052 ESCOLA MUNICIPAL CASEMIRO DE ABREU</td>\n",
       "      <td>3.1</td>\n",
       "    </tr>\n",
       "    <tr>\n",
       "      <th>33065152</th>\n",
       "      <td>0206501 CIEP PRESIDENTE JOAO GOULART</td>\n",
       "      <td>3.1</td>\n",
       "    </tr>\n",
       "    <tr>\n",
       "      <th>33146268</th>\n",
       "      <td>0716073 ESCOLA MUNICIPAL ROBERTO BURLE MARX</td>\n",
       "      <td>3.1</td>\n",
       "    </tr>\n",
       "    <tr>\n",
       "      <th>33068755</th>\n",
       "      <td>0410202 CIEP YURI GAGARIN</td>\n",
       "      <td>3.1</td>\n",
       "    </tr>\n",
       "    <tr>\n",
       "      <th>33063265</th>\n",
       "      <td>0204502 CIEP PRESIDENTE AGOSTINHO NETO</td>\n",
       "      <td>3.0</td>\n",
       "    </tr>\n",
       "    <tr>\n",
       "      <th>33065004</th>\n",
       "      <td>0205007 ESCOLA MUNICIPAL PENEDO</td>\n",
       "      <td>3.0</td>\n",
       "    </tr>\n",
       "    <tr>\n",
       "      <th>33066256</th>\n",
       "      <td>0107004 ESCOLA MUNICIPAL FLORIANO PEIXOTO</td>\n",
       "      <td>2.9</td>\n",
       "    </tr>\n",
       "  </tbody>\n",
       "</table>\n",
       "</div>"
      ],
      "text/plain": [
       "                                          nome_escola  delta\n",
       "cod_inep                                                    \n",
       "33087601             0227501 CIEP DOUTOR BENTO RUBIAO    4.3\n",
       "33065810         0206011 ESCOLA MUNICIPAL SHAKESPEARE    3.6\n",
       "33076936             0734501 CIEP LUIZ CARLOS PRESTES    3.6\n",
       "33078335        0716052 ESCOLA MUNICIPAL ROSA DO POVO    3.4\n",
       "33088390      1026202 CIEP HILDEBRANDO DE ARAUJO GOES    3.4\n",
       "33080720        0833019 ESCOLA MUNICIPAL LIMA BARRETO    3.3\n",
       "33064067       0204003 ESCOLA MUNICIPAL ALBERTO BARTH    3.3\n",
       "33070881               0411015 ESCOLA MUNICIPAL SUICA    3.1\n",
       "33082707   0918052 ESCOLA MUNICIPAL CASEMIRO DE ABREU    3.1\n",
       "33065152         0206501 CIEP PRESIDENTE JOAO GOULART    3.1\n",
       "33146268  0716073 ESCOLA MUNICIPAL ROBERTO BURLE MARX    3.1\n",
       "33068755                    0410202 CIEP YURI GAGARIN    3.1\n",
       "33063265       0204502 CIEP PRESIDENTE AGOSTINHO NETO    3.0\n",
       "33065004              0205007 ESCOLA MUNICIPAL PENEDO    3.0\n",
       "33066256    0107004 ESCOLA MUNICIPAL FLORIANO PEIXOTO    2.9"
      ]
     },
     "execution_count": 34,
     "metadata": {},
     "output_type": "execute_result"
    }
   ],
   "source": [
    "top_15[['nome_escola', 'delta']]"
   ]
  },
  {
   "cell_type": "code",
   "execution_count": 35,
   "metadata": {},
   "outputs": [],
   "source": [
    "top_15.to_csv(OUTPUT_PATH / 'top_15_delta.csv')"
   ]
  },
  {
   "cell_type": "code",
   "execution_count": 36,
   "metadata": {},
   "outputs": [],
   "source": [
    "bottom_15 = ideb_rio[['geometry', 'nome_escola', 'delta']].sort_values(\"delta\", ascending = True).head(15)\n",
    "\n",
    "bottom_15['lon'] = bottom_15.geometry.x\n",
    "bottom_15['lat'] = bottom_15.geometry.y"
   ]
  },
  {
   "cell_type": "code",
   "execution_count": 37,
   "metadata": {},
   "outputs": [
    {
     "data": {
      "text/plain": [
       "cod_inep\n",
       "33064954   -0.3\n",
       "33063150   -0.2\n",
       "33076260    0.0\n",
       "33065675    0.0\n",
       "33073090    0.1\n",
       "33087369    0.2\n",
       "33087970    0.3\n",
       "33082642    0.3\n",
       "33085412    0.3\n",
       "33085927    0.4\n",
       "33062358    0.4\n",
       "33072507    0.4\n",
       "33088225    0.4\n",
       "33087903    0.4\n",
       "33087091    0.4\n",
       "Name: delta, dtype: float64"
      ]
     },
     "execution_count": 37,
     "metadata": {},
     "output_type": "execute_result"
    }
   ],
   "source": [
    "bottom_15['delta']"
   ]
  },
  {
   "cell_type": "code",
   "execution_count": 38,
   "metadata": {},
   "outputs": [
    {
     "data": {
      "text/html": [
       "<div>\n",
       "<style scoped>\n",
       "    .dataframe tbody tr th:only-of-type {\n",
       "        vertical-align: middle;\n",
       "    }\n",
       "\n",
       "    .dataframe tbody tr th {\n",
       "        vertical-align: top;\n",
       "    }\n",
       "\n",
       "    .dataframe thead th {\n",
       "        text-align: right;\n",
       "    }\n",
       "</style>\n",
       "<table border=\"1\" class=\"dataframe\">\n",
       "  <thead>\n",
       "    <tr style=\"text-align: right;\">\n",
       "      <th></th>\n",
       "      <th>nome_escola</th>\n",
       "      <th>delta</th>\n",
       "    </tr>\n",
       "    <tr>\n",
       "      <th>cod_inep</th>\n",
       "      <th></th>\n",
       "      <th></th>\n",
       "    </tr>\n",
       "  </thead>\n",
       "  <tbody>\n",
       "    <tr>\n",
       "      <th>33064954</th>\n",
       "      <td>0205003 ESCOLA MUNICIPAL DOUTOR CICERO PENNA</td>\n",
       "      <td>-0.3</td>\n",
       "    </tr>\n",
       "    <tr>\n",
       "      <th>33063150</th>\n",
       "      <td>0103006 ESCOLA MUNICIPAL JENNY GOMES</td>\n",
       "      <td>-0.2</td>\n",
       "    </tr>\n",
       "    <tr>\n",
       "      <th>33076260</th>\n",
       "      <td>0515021 ESCOLA MUNICIPAL MOZART LAGO</td>\n",
       "      <td>0.0</td>\n",
       "    </tr>\n",
       "    <tr>\n",
       "      <th>33065675</th>\n",
       "      <td>0206007 ESCOLA MUNICIPAL EDNA PONCIONI FERREIRA</td>\n",
       "      <td>0.0</td>\n",
       "    </tr>\n",
       "    <tr>\n",
       "      <th>33073090</th>\n",
       "      <td>0313003 ESCOLA MUNICIPAL PARETO</td>\n",
       "      <td>0.1</td>\n",
       "    </tr>\n",
       "    <tr>\n",
       "      <th>33087369</th>\n",
       "      <td>0625033 ESCOLA MUNICIPAL ZILDA NUNES DA COSTA</td>\n",
       "      <td>0.2</td>\n",
       "    </tr>\n",
       "    <tr>\n",
       "      <th>33087970</th>\n",
       "      <td>0724501 ESCOLA MUNICIPAL VICE-ALMTE PAULO CAST...</td>\n",
       "      <td>0.3</td>\n",
       "    </tr>\n",
       "    <tr>\n",
       "      <th>33082642</th>\n",
       "      <td>0918056 ESCOLA MUNICIPAL AUGUSTO VASCONCELOS</td>\n",
       "      <td>0.3</td>\n",
       "    </tr>\n",
       "    <tr>\n",
       "      <th>33085412</th>\n",
       "      <td>1120503 CIEP DOUTOR JOAO RAMOS DE SOUZA</td>\n",
       "      <td>0.3</td>\n",
       "    </tr>\n",
       "    <tr>\n",
       "      <th>33085927</th>\n",
       "      <td>1120013 ESCOLA MUNICIPAL ALICE TIBIRICA</td>\n",
       "      <td>0.4</td>\n",
       "    </tr>\n",
       "    <tr>\n",
       "      <th>33062358</th>\n",
       "      <td>0101501 CIEP HENFIL</td>\n",
       "      <td>0.4</td>\n",
       "    </tr>\n",
       "    <tr>\n",
       "      <th>33072507</th>\n",
       "      <td>0313024 ESCOLA MUNICIPAL ACRE</td>\n",
       "      <td>0.4</td>\n",
       "    </tr>\n",
       "    <tr>\n",
       "      <th>33088225</th>\n",
       "      <td>0625027 ESCOLA MUNICIPAL ANDREA FONTES PEIXOTO</td>\n",
       "      <td>0.4</td>\n",
       "    </tr>\n",
       "    <tr>\n",
       "      <th>33087903</th>\n",
       "      <td>0724023 ESCOLA MUNICIPAL PROFESSOR JURANDIR PA...</td>\n",
       "      <td>0.4</td>\n",
       "    </tr>\n",
       "    <tr>\n",
       "      <th>33087091</th>\n",
       "      <td>0625017 ESCOLA MUNICIPAL GRANDJEAN DE MONTIGNY</td>\n",
       "      <td>0.4</td>\n",
       "    </tr>\n",
       "  </tbody>\n",
       "</table>\n",
       "</div>"
      ],
      "text/plain": [
       "                                                nome_escola  delta\n",
       "cod_inep                                                          \n",
       "33064954       0205003 ESCOLA MUNICIPAL DOUTOR CICERO PENNA   -0.3\n",
       "33063150               0103006 ESCOLA MUNICIPAL JENNY GOMES   -0.2\n",
       "33076260               0515021 ESCOLA MUNICIPAL MOZART LAGO    0.0\n",
       "33065675    0206007 ESCOLA MUNICIPAL EDNA PONCIONI FERREIRA    0.0\n",
       "33073090                    0313003 ESCOLA MUNICIPAL PARETO    0.1\n",
       "33087369      0625033 ESCOLA MUNICIPAL ZILDA NUNES DA COSTA    0.2\n",
       "33087970  0724501 ESCOLA MUNICIPAL VICE-ALMTE PAULO CAST...    0.3\n",
       "33082642       0918056 ESCOLA MUNICIPAL AUGUSTO VASCONCELOS    0.3\n",
       "33085412            1120503 CIEP DOUTOR JOAO RAMOS DE SOUZA    0.3\n",
       "33085927            1120013 ESCOLA MUNICIPAL ALICE TIBIRICA    0.4\n",
       "33062358                                0101501 CIEP HENFIL    0.4\n",
       "33072507                      0313024 ESCOLA MUNICIPAL ACRE    0.4\n",
       "33088225     0625027 ESCOLA MUNICIPAL ANDREA FONTES PEIXOTO    0.4\n",
       "33087903  0724023 ESCOLA MUNICIPAL PROFESSOR JURANDIR PA...    0.4\n",
       "33087091     0625017 ESCOLA MUNICIPAL GRANDJEAN DE MONTIGNY    0.4"
      ]
     },
     "execution_count": 38,
     "metadata": {},
     "output_type": "execute_result"
    }
   ],
   "source": [
    "bottom_15[['nome_escola', 'delta']]"
   ]
  },
  {
   "cell_type": "code",
   "execution_count": 39,
   "metadata": {},
   "outputs": [],
   "source": [
    "bottom_15.to_csv(OUTPUT_PATH / 'bottom_15_delta.csv')"
   ]
  },
  {
   "cell_type": "markdown",
   "metadata": {},
   "source": [
    "<a id='2'></a>\n",
    "#### Identify schools that jumped from low / very low IDEB (<5 / <4) and went to high IDEB (> 6), from 2005 to 2017.\n",
    "\n",
    "Our interest group are the following:\n",
    "\n",
    "- Group 1: Schools from very low (< 4) to high (> 6)\n",
    "- Group 2: Schools from low (4 < x < 5) to high (> 6)\n",
    "- Group 3: Schools went to high (> 6) with delta > 2"
   ]
  },
  {
   "cell_type": "code",
   "execution_count": 40,
   "metadata": {},
   "outputs": [
    {
     "data": {
      "text/plain": [
       "(34, 11)"
      ]
     },
     "execution_count": 40,
     "metadata": {},
     "output_type": "execute_result"
    }
   ],
   "source": [
    "pessimo_pra_bom = ideb_rio[(ideb_rio['ideb_2005'] <= 4) & (ideb_rio['ideb_2017'] >= 6)].copy()\n",
    "pessimo_pra_bom.shape"
   ]
  },
  {
   "cell_type": "code",
   "execution_count": 41,
   "metadata": {},
   "outputs": [
    {
     "data": {
      "text/html": [
       "<div>\n",
       "<style scoped>\n",
       "    .dataframe tbody tr th:only-of-type {\n",
       "        vertical-align: middle;\n",
       "    }\n",
       "\n",
       "    .dataframe tbody tr th {\n",
       "        vertical-align: top;\n",
       "    }\n",
       "\n",
       "    .dataframe thead th {\n",
       "        text-align: right;\n",
       "    }\n",
       "</style>\n",
       "<table border=\"1\" class=\"dataframe\">\n",
       "  <thead>\n",
       "    <tr style=\"text-align: right;\">\n",
       "      <th></th>\n",
       "      <th>nome_abrev</th>\n",
       "      <th>geometry</th>\n",
       "      <th>nome_escola</th>\n",
       "      <th>ideb_2005</th>\n",
       "      <th>ideb_2007</th>\n",
       "      <th>ideb_2009</th>\n",
       "      <th>ideb_2011</th>\n",
       "      <th>ideb_2013</th>\n",
       "      <th>ideb_2015</th>\n",
       "      <th>ideb_2017</th>\n",
       "      <th>delta</th>\n",
       "    </tr>\n",
       "    <tr>\n",
       "      <th>cod_inep</th>\n",
       "      <th></th>\n",
       "      <th></th>\n",
       "      <th></th>\n",
       "      <th></th>\n",
       "      <th></th>\n",
       "      <th></th>\n",
       "      <th></th>\n",
       "      <th></th>\n",
       "      <th></th>\n",
       "      <th></th>\n",
       "      <th></th>\n",
       "    </tr>\n",
       "  </thead>\n",
       "  <tbody>\n",
       "    <tr>\n",
       "      <th>33087784</th>\n",
       "      <td>EM ABELARDO CHACRINHA BARBOSA</td>\n",
       "      <td>POINT (-43.2500215972459 -22.98371092231979)</td>\n",
       "      <td>0227001 ESCOLA MUNICIPAL ABELARDO CHACRINHA BA...</td>\n",
       "      <td>3.2</td>\n",
       "      <td>4.1</td>\n",
       "      <td>4.4</td>\n",
       "      <td>4.6</td>\n",
       "      <td>4.5</td>\n",
       "      <td>5.2</td>\n",
       "      <td>6.0</td>\n",
       "      <td>2.8</td>\n",
       "    </tr>\n",
       "    <tr>\n",
       "      <th>33068755</th>\n",
       "      <td>CIEP YURI GAGARIN</td>\n",
       "      <td>POINT (-43.25467600403228 -22.85538558623155)</td>\n",
       "      <td>0410202 CIEP YURI GAGARIN</td>\n",
       "      <td>3.2</td>\n",
       "      <td>4.3</td>\n",
       "      <td>5.0</td>\n",
       "      <td>5.7</td>\n",
       "      <td>5.6</td>\n",
       "      <td>6.2</td>\n",
       "      <td>6.3</td>\n",
       "      <td>3.1</td>\n",
       "    </tr>\n",
       "    <tr>\n",
       "      <th>33086001</th>\n",
       "      <td>EM CAP. DE FRAGATA DIDIER BARBOSA VIANNA</td>\n",
       "      <td>POINT (-43.18212893063132 -22.79735502919247)</td>\n",
       "      <td>1120017 ESCOLA MUNICIPAL CAPITAO DE FRAGATA DI...</td>\n",
       "      <td>3.8</td>\n",
       "      <td>4.4</td>\n",
       "      <td>4.1</td>\n",
       "      <td>6.1</td>\n",
       "      <td>5.8</td>\n",
       "      <td>5.8</td>\n",
       "      <td>6.0</td>\n",
       "      <td>2.2</td>\n",
       "    </tr>\n",
       "    <tr>\n",
       "      <th>33085919</th>\n",
       "      <td>EM ALBERTO DE OLIVEIRA</td>\n",
       "      <td>POINT (-43.23775916991588 -22.81220830516548)</td>\n",
       "      <td>1120025 ESCOLA MUNICIPAL ALBERTO DE OLIVEIRA</td>\n",
       "      <td>3.4</td>\n",
       "      <td>3.7</td>\n",
       "      <td>4.4</td>\n",
       "      <td>4.8</td>\n",
       "      <td>5.2</td>\n",
       "      <td>5.8</td>\n",
       "      <td>6.3</td>\n",
       "      <td>2.9</td>\n",
       "    </tr>\n",
       "    <tr>\n",
       "      <th>33083401</th>\n",
       "      <td>EM SAMUEL WAINER</td>\n",
       "      <td>POINT (-43.51311507089172 -22.86745093375918)</td>\n",
       "      <td>0918046 ESCOLA MUNICIPAL SAMUEL WAINER</td>\n",
       "      <td>3.8</td>\n",
       "      <td>4.4</td>\n",
       "      <td>4.1</td>\n",
       "      <td>5.8</td>\n",
       "      <td>4.9</td>\n",
       "      <td>5.6</td>\n",
       "      <td>6.3</td>\n",
       "      <td>2.5</td>\n",
       "    </tr>\n",
       "  </tbody>\n",
       "</table>\n",
       "</div>"
      ],
      "text/plain": [
       "                                        nome_abrev  \\\n",
       "cod_inep                                             \n",
       "33087784             EM ABELARDO CHACRINHA BARBOSA   \n",
       "33068755                         CIEP YURI GAGARIN   \n",
       "33086001  EM CAP. DE FRAGATA DIDIER BARBOSA VIANNA   \n",
       "33085919                    EM ALBERTO DE OLIVEIRA   \n",
       "33083401                          EM SAMUEL WAINER   \n",
       "\n",
       "                                               geometry  \\\n",
       "cod_inep                                                  \n",
       "33087784   POINT (-43.2500215972459 -22.98371092231979)   \n",
       "33068755  POINT (-43.25467600403228 -22.85538558623155)   \n",
       "33086001  POINT (-43.18212893063132 -22.79735502919247)   \n",
       "33085919  POINT (-43.23775916991588 -22.81220830516548)   \n",
       "33083401  POINT (-43.51311507089172 -22.86745093375918)   \n",
       "\n",
       "                                                nome_escola  ideb_2005  \\\n",
       "cod_inep                                                                 \n",
       "33087784  0227001 ESCOLA MUNICIPAL ABELARDO CHACRINHA BA...        3.2   \n",
       "33068755                          0410202 CIEP YURI GAGARIN        3.2   \n",
       "33086001  1120017 ESCOLA MUNICIPAL CAPITAO DE FRAGATA DI...        3.8   \n",
       "33085919       1120025 ESCOLA MUNICIPAL ALBERTO DE OLIVEIRA        3.4   \n",
       "33083401             0918046 ESCOLA MUNICIPAL SAMUEL WAINER        3.8   \n",
       "\n",
       "          ideb_2007  ideb_2009  ideb_2011  ideb_2013  ideb_2015  ideb_2017  \\\n",
       "cod_inep                                                                     \n",
       "33087784        4.1        4.4        4.6        4.5        5.2        6.0   \n",
       "33068755        4.3        5.0        5.7        5.6        6.2        6.3   \n",
       "33086001        4.4        4.1        6.1        5.8        5.8        6.0   \n",
       "33085919        3.7        4.4        4.8        5.2        5.8        6.3   \n",
       "33083401        4.4        4.1        5.8        4.9        5.6        6.3   \n",
       "\n",
       "          delta  \n",
       "cod_inep         \n",
       "33087784    2.8  \n",
       "33068755    3.1  \n",
       "33086001    2.2  \n",
       "33085919    2.9  \n",
       "33083401    2.5  "
      ]
     },
     "execution_count": 41,
     "metadata": {},
     "output_type": "execute_result"
    }
   ],
   "source": [
    "pessimo_pra_bom.head()"
   ]
  },
  {
   "cell_type": "code",
   "execution_count": 42,
   "metadata": {},
   "outputs": [
    {
     "data": {
      "text/plain": [
       "(127, 11)"
      ]
     },
     "execution_count": 42,
     "metadata": {},
     "output_type": "execute_result"
    }
   ],
   "source": [
    "ruim_pra_bom = ideb_rio[(ideb_rio['ideb_2005'] > 4) & \n",
    "                        (ideb_rio['ideb_2005'] <= 5) & \n",
    "                        (ideb_rio['ideb_2017'] >= 6)].copy()\n",
    "ruim_pra_bom.shape"
   ]
  },
  {
   "cell_type": "code",
   "execution_count": 43,
   "metadata": {},
   "outputs": [
    {
     "data": {
      "text/plain": [
       "(72, 11)"
      ]
     },
     "execution_count": 43,
     "metadata": {},
     "output_type": "execute_result"
    }
   ],
   "source": [
    "melhora_com_final_bom = ideb_rio[(ideb_rio['delta'] >= 2) & (ideb_rio['ideb_2017'] >= 6)]\n",
    "melhora_com_final_bom.shape"
   ]
  },
  {
   "cell_type": "code",
   "execution_count": 44,
   "metadata": {},
   "outputs": [
    {
     "data": {
      "text/plain": [
       "2"
      ]
     },
     "execution_count": 44,
     "metadata": {},
     "output_type": "execute_result"
    }
   ],
   "source": [
    "len(melhora_com_final_bom[(melhora_com_final_bom.index.isin(pessimo_pra_bom.index) == False)\n",
    "                          & (melhora_com_final_bom.index.isin(ruim_pra_bom.index) == False)])"
   ]
  },
  {
   "cell_type": "code",
   "execution_count": 45,
   "metadata": {},
   "outputs": [
    {
     "data": {
      "text/html": [
       "<div>\n",
       "<style scoped>\n",
       "    .dataframe tbody tr th:only-of-type {\n",
       "        vertical-align: middle;\n",
       "    }\n",
       "\n",
       "    .dataframe tbody tr th {\n",
       "        vertical-align: top;\n",
       "    }\n",
       "\n",
       "    .dataframe thead th {\n",
       "        text-align: right;\n",
       "    }\n",
       "</style>\n",
       "<table border=\"1\" class=\"dataframe\">\n",
       "  <thead>\n",
       "    <tr style=\"text-align: right;\">\n",
       "      <th></th>\n",
       "      <th>nome_abrev</th>\n",
       "      <th>geometry</th>\n",
       "      <th>nome_escola</th>\n",
       "      <th>ideb_2005</th>\n",
       "      <th>ideb_2007</th>\n",
       "      <th>ideb_2009</th>\n",
       "      <th>ideb_2011</th>\n",
       "      <th>ideb_2013</th>\n",
       "      <th>ideb_2015</th>\n",
       "      <th>ideb_2017</th>\n",
       "      <th>delta</th>\n",
       "    </tr>\n",
       "    <tr>\n",
       "      <th>cod_inep</th>\n",
       "      <th></th>\n",
       "      <th></th>\n",
       "      <th></th>\n",
       "      <th></th>\n",
       "      <th></th>\n",
       "      <th></th>\n",
       "      <th></th>\n",
       "      <th></th>\n",
       "      <th></th>\n",
       "      <th></th>\n",
       "      <th></th>\n",
       "    </tr>\n",
       "  </thead>\n",
       "  <tbody>\n",
       "    <tr>\n",
       "      <th>33087806</th>\n",
       "      <td>EM PROFª  DIDIA MACHADO FORTES</td>\n",
       "      <td>POINT (-43.36862307356228 -23.0092058869504)</td>\n",
       "      <td>0724014 ESCOLA MUNICIPAL PROFESSORA DIDIA MACH...</td>\n",
       "      <td>5.4</td>\n",
       "      <td>5.4</td>\n",
       "      <td>7.6</td>\n",
       "      <td>7.3</td>\n",
       "      <td>7.6</td>\n",
       "      <td>7.6</td>\n",
       "      <td>8.0</td>\n",
       "      <td>2.6</td>\n",
       "    </tr>\n",
       "    <tr>\n",
       "      <th>33068291</th>\n",
       "      <td>EM FRIEDENREICH</td>\n",
       "      <td>POINT (-43.2287917694675 -22.9132989864157)</td>\n",
       "      <td>0209006 ESCOLA MUNICIPAL FRIEDENREICH</td>\n",
       "      <td>5.4</td>\n",
       "      <td>6.3</td>\n",
       "      <td>7.0</td>\n",
       "      <td>7.6</td>\n",
       "      <td>7.5</td>\n",
       "      <td>8.3</td>\n",
       "      <td>7.9</td>\n",
       "      <td>2.5</td>\n",
       "    </tr>\n",
       "  </tbody>\n",
       "</table>\n",
       "</div>"
      ],
      "text/plain": [
       "                              nome_abrev  \\\n",
       "cod_inep                                   \n",
       "33087806  EM PROFª  DIDIA MACHADO FORTES   \n",
       "33068291                 EM FRIEDENREICH   \n",
       "\n",
       "                                              geometry  \\\n",
       "cod_inep                                                 \n",
       "33087806  POINT (-43.36862307356228 -23.0092058869504)   \n",
       "33068291   POINT (-43.2287917694675 -22.9132989864157)   \n",
       "\n",
       "                                                nome_escola  ideb_2005  \\\n",
       "cod_inep                                                                 \n",
       "33087806  0724014 ESCOLA MUNICIPAL PROFESSORA DIDIA MACH...        5.4   \n",
       "33068291              0209006 ESCOLA MUNICIPAL FRIEDENREICH        5.4   \n",
       "\n",
       "          ideb_2007  ideb_2009  ideb_2011  ideb_2013  ideb_2015  ideb_2017  \\\n",
       "cod_inep                                                                     \n",
       "33087806        5.4        7.6        7.3        7.6        7.6        8.0   \n",
       "33068291        6.3        7.0        7.6        7.5        8.3        7.9   \n",
       "\n",
       "          delta  \n",
       "cod_inep         \n",
       "33087806    2.6  \n",
       "33068291    2.5  "
      ]
     },
     "execution_count": 45,
     "metadata": {},
     "output_type": "execute_result"
    }
   ],
   "source": [
    "melhora_com_final_bom[(melhora_com_final_bom.index.isin(pessimo_pra_bom.index) == False)\n",
    "                       & (melhora_com_final_bom.index.isin(ruim_pra_bom.index) == False)]"
   ]
  },
  {
   "cell_type": "markdown",
   "metadata": {},
   "source": [
    "* How many from Group 1 were in top 15?"
   ]
  },
  {
   "cell_type": "code",
   "execution_count": 46,
   "metadata": {},
   "outputs": [
    {
     "data": {
      "text/plain": [
       "False    24\n",
       "True     10\n",
       "dtype: int64"
      ]
     },
     "execution_count": 46,
     "metadata": {},
     "output_type": "execute_result"
    }
   ],
   "source": [
    "pd.Series(pessimo_pra_bom.index.isin(ideb_rio.sort_values(\"delta\", ascending = False).head(15).index)).value_counts()"
   ]
  },
  {
   "cell_type": "code",
   "execution_count": 47,
   "metadata": {},
   "outputs": [],
   "source": [
    "# cria listas com os cod_inep de cada um dos critérios para poder incluir na visualização\n",
    "pessimo_pra_bom_list = [int(x) for x in list(pessimo_pra_bom.index)]\n",
    "ruim_pra_bom_list = [int(x) for x in list(ruim_pra_bom.index)]\n",
    "melhora_com_final_bom_list = [int(x) for x in list(melhora_com_final_bom.index)]\n",
    "\n",
    "inicial_baixo_list = [int(x) for x in list(ideb_rio[(ideb_rio[\"ideb_2005\"] > 4) & (ideb_rio[\"ideb_2005\"] <= 5)].index)]\n",
    "inicial_baixissimo_list = [int(x) for x in list(ideb_rio[ideb_rio[\"ideb_2005\"] <= 4].index)]"
   ]
  },
  {
   "cell_type": "markdown",
   "metadata": {},
   "source": [
    "* Separate only the schools with low/very low initial IDEB for vizualization (on [kepler.gl](https://kepler.gl))"
   ]
  },
  {
   "cell_type": "code",
   "execution_count": 48,
   "metadata": {},
   "outputs": [],
   "source": [
    "# crete categorie flags\n",
    "proto_kepler[\"pessimo_pra_bom_bin\"] = proto_kepler[\"cod_inep\"].isin(pessimo_pra_bom_list)\n",
    "proto_kepler[\"pessimo_pra_bom_bin\"] = proto_kepler[\"pessimo_pra_bom_bin\"].astype(\"int\")\n",
    "\n",
    "proto_kepler[\"ruim_pra_bom_bin\"] = proto_kepler[\"cod_inep\"].isin(ruim_pra_bom_list)\n",
    "proto_kepler[\"ruim_pra_bom_bin\"] = proto_kepler[\"ruim_pra_bom_bin\"].astype(\"int\")\n",
    "\n",
    "proto_kepler[\"melhora_com_final_bom_bin\"] = proto_kepler[\"cod_inep\"].isin(melhora_com_final_bom_list)\n",
    "proto_kepler[\"melhora_com_final_bom_bin\"] = proto_kepler[\"melhora_com_final_bom_bin\"].astype(\"int\")\n",
    "\n",
    "proto_kepler[\"inicial_baixo_bin\"] = proto_kepler[\"cod_inep\"].isin(inicial_baixo_list)\n",
    "proto_kepler[\"inicial_baixo_bin\"] = proto_kepler[\"inicial_baixo_bin\"].astype(\"int\")\n",
    "\n",
    "proto_kepler[\"inicial_baixissimo_bin\"] = proto_kepler[\"cod_inep\"].isin(inicial_baixissimo_list)\n",
    "proto_kepler[\"inicial_baixissimo_bin\"] = proto_kepler[\"inicial_baixissimo_bin\"].astype(\"int\")"
   ]
  },
  {
   "cell_type": "markdown",
   "metadata": {},
   "source": [
    "* Separate the schools by IDEB 2017 quartiles to define the attencion level from each one"
   ]
  },
  {
   "cell_type": "code",
   "execution_count": 49,
   "metadata": {},
   "outputs": [],
   "source": [
    "# quartile split\n",
    "ideb_rio[\"nivel_atencao\"] = pd.qcut(ideb_rio[\"ideb_2017\"], 4, labels = [4, 3, 2, 1])"
   ]
  },
  {
   "cell_type": "code",
   "execution_count": 50,
   "metadata": {},
   "outputs": [
    {
     "data": {
      "text/html": [
       "<div>\n",
       "<style scoped>\n",
       "    .dataframe tbody tr th:only-of-type {\n",
       "        vertical-align: middle;\n",
       "    }\n",
       "\n",
       "    .dataframe tbody tr th {\n",
       "        vertical-align: top;\n",
       "    }\n",
       "\n",
       "    .dataframe thead th {\n",
       "        text-align: right;\n",
       "    }\n",
       "</style>\n",
       "<table border=\"1\" class=\"dataframe\">\n",
       "  <thead>\n",
       "    <tr style=\"text-align: right;\">\n",
       "      <th></th>\n",
       "      <th>nome_escola</th>\n",
       "      <th>nivel_atencao</th>\n",
       "      <th>ideb_2017</th>\n",
       "    </tr>\n",
       "    <tr>\n",
       "      <th>cod_inep</th>\n",
       "      <th></th>\n",
       "      <th></th>\n",
       "      <th></th>\n",
       "    </tr>\n",
       "  </thead>\n",
       "  <tbody>\n",
       "    <tr>\n",
       "      <th>33140111</th>\n",
       "      <td>1026018 ESCOLA MUNICIPAL EMMA DAVILA DE CAMILLIS</td>\n",
       "      <td>4.0</td>\n",
       "      <td>5.4</td>\n",
       "    </tr>\n",
       "    <tr>\n",
       "      <th>33140120</th>\n",
       "      <td>1019060 ESCOLA MUNICIPAL MANOEL PORTO FILHO</td>\n",
       "      <td>NaN</td>\n",
       "      <td>NaN</td>\n",
       "    </tr>\n",
       "    <tr>\n",
       "      <th>33140154</th>\n",
       "      <td>1019059 ESCOLA MUNICIPAL PROFESSOR JORGE GONCA...</td>\n",
       "      <td>NaN</td>\n",
       "      <td>NaN</td>\n",
       "    </tr>\n",
       "    <tr>\n",
       "      <th>33146136</th>\n",
       "      <td>1026020 ESCOLA MUNICIPAL PROFESSORA ELISA JOAQ...</td>\n",
       "      <td>NaN</td>\n",
       "      <td>NaN</td>\n",
       "    </tr>\n",
       "    <tr>\n",
       "      <th>33143986</th>\n",
       "      <td>1026019 ESCOLA MUNICIPAL PROFESSORA MARIA HELE...</td>\n",
       "      <td>3.0</td>\n",
       "      <td>5.7</td>\n",
       "    </tr>\n",
       "    <tr>\n",
       "      <th>33142912</th>\n",
       "      <td>0716071 ESCOLA MUNICIPAL POETA MARIO QUINTANA</td>\n",
       "      <td>2.0</td>\n",
       "      <td>6.0</td>\n",
       "    </tr>\n",
       "    <tr>\n",
       "      <th>33074763</th>\n",
       "      <td>0515009 ESCOLA MUNICIPAL VELINDA MAURICIO DA F...</td>\n",
       "      <td>3.0</td>\n",
       "      <td>5.7</td>\n",
       "    </tr>\n",
       "    <tr>\n",
       "      <th>33087784</th>\n",
       "      <td>0227001 ESCOLA MUNICIPAL ABELARDO CHACRINHA BA...</td>\n",
       "      <td>2.0</td>\n",
       "      <td>6.0</td>\n",
       "    </tr>\n",
       "    <tr>\n",
       "      <th>33084572</th>\n",
       "      <td>1019054 ESCOLA MUNICIPAL ADALGIZA NERI</td>\n",
       "      <td>NaN</td>\n",
       "      <td>NaN</td>\n",
       "    </tr>\n",
       "    <tr>\n",
       "      <th>33062757</th>\n",
       "      <td>0102501 ESCOLA MUNICIPAL TIA CIATA</td>\n",
       "      <td>3.0</td>\n",
       "      <td>5.7</td>\n",
       "    </tr>\n",
       "    <tr>\n",
       "      <th>33084874</th>\n",
       "      <td>1019025 ESCOLA MUNICIPAL NAIR DA FONSECA</td>\n",
       "      <td>3.0</td>\n",
       "      <td>5.8</td>\n",
       "    </tr>\n",
       "    <tr>\n",
       "      <th>33081034</th>\n",
       "      <td>0833501 ESCOLA MUNICIPAL PROFESSOR IVAN ROCCO ...</td>\n",
       "      <td>2.0</td>\n",
       "      <td>5.9</td>\n",
       "    </tr>\n",
       "    <tr>\n",
       "      <th>33079129</th>\n",
       "      <td>0833502 CIEP MARECHAL HENRIQUE TEIXEIRA LOTT</td>\n",
       "      <td>3.0</td>\n",
       "      <td>5.8</td>\n",
       "    </tr>\n",
       "    <tr>\n",
       "      <th>33080267</th>\n",
       "      <td>0817013 ESCOLA MUNICIPAL COLLECHIO</td>\n",
       "      <td>2.0</td>\n",
       "      <td>6.1</td>\n",
       "    </tr>\n",
       "    <tr>\n",
       "      <th>33081093</th>\n",
       "      <td>0817070 ESCOLA MUNICIPAL ROBERTO SIMONSEN</td>\n",
       "      <td>NaN</td>\n",
       "      <td>NaN</td>\n",
       "    </tr>\n",
       "  </tbody>\n",
       "</table>\n",
       "</div>"
      ],
      "text/plain": [
       "                                                nome_escola nivel_atencao  \\\n",
       "cod_inep                                                                    \n",
       "33140111   1026018 ESCOLA MUNICIPAL EMMA DAVILA DE CAMILLIS           4.0   \n",
       "33140120        1019060 ESCOLA MUNICIPAL MANOEL PORTO FILHO           NaN   \n",
       "33140154  1019059 ESCOLA MUNICIPAL PROFESSOR JORGE GONCA...           NaN   \n",
       "33146136  1026020 ESCOLA MUNICIPAL PROFESSORA ELISA JOAQ...           NaN   \n",
       "33143986  1026019 ESCOLA MUNICIPAL PROFESSORA MARIA HELE...           3.0   \n",
       "33142912      0716071 ESCOLA MUNICIPAL POETA MARIO QUINTANA           2.0   \n",
       "33074763  0515009 ESCOLA MUNICIPAL VELINDA MAURICIO DA F...           3.0   \n",
       "33087784  0227001 ESCOLA MUNICIPAL ABELARDO CHACRINHA BA...           2.0   \n",
       "33084572             1019054 ESCOLA MUNICIPAL ADALGIZA NERI           NaN   \n",
       "33062757                 0102501 ESCOLA MUNICIPAL TIA CIATA           3.0   \n",
       "33084874           1019025 ESCOLA MUNICIPAL NAIR DA FONSECA           3.0   \n",
       "33081034  0833501 ESCOLA MUNICIPAL PROFESSOR IVAN ROCCO ...           2.0   \n",
       "33079129       0833502 CIEP MARECHAL HENRIQUE TEIXEIRA LOTT           3.0   \n",
       "33080267                 0817013 ESCOLA MUNICIPAL COLLECHIO           2.0   \n",
       "33081093          0817070 ESCOLA MUNICIPAL ROBERTO SIMONSEN           NaN   \n",
       "\n",
       "          ideb_2017  \n",
       "cod_inep             \n",
       "33140111        5.4  \n",
       "33140120        NaN  \n",
       "33140154        NaN  \n",
       "33146136        NaN  \n",
       "33143986        5.7  \n",
       "33142912        6.0  \n",
       "33074763        5.7  \n",
       "33087784        6.0  \n",
       "33084572        NaN  \n",
       "33062757        5.7  \n",
       "33084874        5.8  \n",
       "33081034        5.9  \n",
       "33079129        5.8  \n",
       "33080267        6.1  \n",
       "33081093        NaN  "
      ]
     },
     "execution_count": 50,
     "metadata": {},
     "output_type": "execute_result"
    }
   ],
   "source": [
    "ideb_rio[[\"nome_escola\", \"nivel_atencao\", \"ideb_2017\"]].head(15)"
   ]
  },
  {
   "cell_type": "code",
   "execution_count": 51,
   "metadata": {},
   "outputs": [
    {
     "data": {
      "text/html": [
       "<div>\n",
       "<style scoped>\n",
       "    .dataframe tbody tr th:only-of-type {\n",
       "        vertical-align: middle;\n",
       "    }\n",
       "\n",
       "    .dataframe tbody tr th {\n",
       "        vertical-align: top;\n",
       "    }\n",
       "\n",
       "    .dataframe thead th {\n",
       "        text-align: right;\n",
       "    }\n",
       "</style>\n",
       "<table border=\"1\" class=\"dataframe\">\n",
       "  <thead>\n",
       "    <tr style=\"text-align: right;\">\n",
       "      <th></th>\n",
       "      <th>min</th>\n",
       "      <th>mean</th>\n",
       "      <th>max</th>\n",
       "    </tr>\n",
       "    <tr>\n",
       "      <th>nivel_atencao</th>\n",
       "      <th></th>\n",
       "      <th></th>\n",
       "      <th></th>\n",
       "    </tr>\n",
       "  </thead>\n",
       "  <tbody>\n",
       "    <tr>\n",
       "      <th>4</th>\n",
       "      <td>3.9</td>\n",
       "      <td>5.065341</td>\n",
       "      <td>5.4</td>\n",
       "    </tr>\n",
       "    <tr>\n",
       "      <th>3</th>\n",
       "      <td>5.5</td>\n",
       "      <td>5.651351</td>\n",
       "      <td>5.8</td>\n",
       "    </tr>\n",
       "    <tr>\n",
       "      <th>2</th>\n",
       "      <td>5.9</td>\n",
       "      <td>6.045833</td>\n",
       "      <td>6.2</td>\n",
       "    </tr>\n",
       "    <tr>\n",
       "      <th>1</th>\n",
       "      <td>6.3</td>\n",
       "      <td>6.624444</td>\n",
       "      <td>8.0</td>\n",
       "    </tr>\n",
       "  </tbody>\n",
       "</table>\n",
       "</div>"
      ],
      "text/plain": [
       "               min      mean  max\n",
       "nivel_atencao                    \n",
       "4              3.9  5.065341  5.4\n",
       "3              5.5  5.651351  5.8\n",
       "2              5.9  6.045833  6.2\n",
       "1              6.3  6.624444  8.0"
      ]
     },
     "execution_count": 51,
     "metadata": {},
     "output_type": "execute_result"
    }
   ],
   "source": [
    "ideb_rio.groupby(\"nivel_atencao\")[\"ideb_2017\"].agg([\"min\", \"mean\", \"max\"])"
   ]
  },
  {
   "cell_type": "code",
   "execution_count": 52,
   "metadata": {},
   "outputs": [
    {
     "data": {
      "text/plain": [
       "4    176\n",
       "3    148\n",
       "2    144\n",
       "1    135\n",
       "Name: nivel_atencao, dtype: int64"
      ]
     },
     "execution_count": 52,
     "metadata": {},
     "output_type": "execute_result"
    }
   ],
   "source": [
    "ideb_rio[\"nivel_atencao\"].value_counts()"
   ]
  },
  {
   "cell_type": "markdown",
   "metadata": {},
   "source": [
    "<a id=\"3\"></a>\n",
    "### Model neighboors: which schools had a large delta and were nearby schools on the highest attention level (4)?"
   ]
  },
  {
   "cell_type": "code",
   "execution_count": 53,
   "metadata": {},
   "outputs": [],
   "source": [
    "ideb_rio = ideb_rio.reset_index()"
   ]
  },
  {
   "cell_type": "code",
   "execution_count": 54,
   "metadata": {},
   "outputs": [],
   "source": [
    "ideb_rio[\"cod_inep\"] = ideb_rio[\"cod_inep\"].apply(lambda x: int(x))"
   ]
  },
  {
   "cell_type": "code",
   "execution_count": 55,
   "metadata": {},
   "outputs": [],
   "source": [
    "proto_kepler = pd.merge(proto_kepler, ideb_rio[['cod_inep', 'nivel_atencao']], how=\"left\", on=\"cod_inep\")"
   ]
  },
  {
   "cell_type": "code",
   "execution_count": 56,
   "metadata": {},
   "outputs": [],
   "source": [
    "proto_kepler.to_csv(OUTPUT_PATH / \"kepler_with_filters.csv\", index=False)"
   ]
  },
  {
   "cell_type": "code",
   "execution_count": 58,
   "metadata": {},
   "outputs": [],
   "source": [
    "geo_kepler = gpd.GeoDataFrame(proto_kepler, geometry=proto_kepler[\"geometry\"].map(wkt.loads),\n",
    "                             crs = {\"init\" : \"epsg:4326\"})"
   ]
  },
  {
   "cell_type": "code",
   "execution_count": 72,
   "metadata": {},
   "outputs": [],
   "source": [
    "escolas_referencia = geo_kepler.query(\"ruim_pra_bom_bin == 1 | pessimo_pra_bom_bin == 1\").copy()\n",
    "escolas_referencia = escolas_referencia.query(\"ano == '2017-01-01 12:00:00'\")\n",
    "escolas_referencia.to_crs(epsg=3395, inplace = True)"
   ]
  },
  {
   "cell_type": "code",
   "execution_count": 73,
   "metadata": {},
   "outputs": [],
   "source": [
    "#geo_kepler['nivel_atencao'].value_counts()\n",
    "escolas_atencao = geo_kepler.query(\"nivel_atencao == 4 & ano == '2017-01-01 12:00:00'\").copy()\n",
    "escolas_atencao.to_crs(epsg=3395, inplace = True)"
   ]
  },
  {
   "cell_type": "markdown",
   "metadata": {},
   "source": [
    "* Number of schools of high risk"
   ]
  },
  {
   "cell_type": "code",
   "execution_count": 74,
   "metadata": {},
   "outputs": [
    {
     "data": {
      "text/plain": [
       "176"
      ]
     },
     "execution_count": 74,
     "metadata": {},
     "output_type": "execute_result"
    }
   ],
   "source": [
    "len(escolas_atencao)"
   ]
  },
  {
   "cell_type": "code",
   "execution_count": 75,
   "metadata": {},
   "outputs": [],
   "source": [
    "escolas_atencao_vizinhos = {}\n",
    "\n",
    "for idx in escolas_atencao.index:\n",
    "    \n",
    "    coord_escola_risco = escolas_atencao[\"geometry\"][idx]\n",
    "    escolas_referencia[\"distancia\"] = escolas_referencia[\"geometry\"].apply(lambda x: x.distance(coord_escola_risco))\n",
    "    \n",
    "    sponsors = escolas_referencia.sort_values(\"distancia\").head(15)\n",
    "    escolas_atencao_vizinhos[escolas_atencao[\"nome_escola\"][idx]] = sponsors[[\n",
    "            \"nome_escola\", \"cod_inep\", \"ideb\",\n",
    "             \"pessimo_pra_bom_bin\", \"ruim_pra_bom_bin\",\n",
    "            \"melhora_com_final_bom_bin\", \"distancia\"\n",
    "        ]]"
   ]
  },
  {
   "cell_type": "code",
   "execution_count": 76,
   "metadata": {},
   "outputs": [
    {
     "data": {
      "text/plain": [
       "176"
      ]
     },
     "execution_count": 76,
     "metadata": {},
     "output_type": "execute_result"
    }
   ],
   "source": [
    "len(escolas_atencao_vizinhos.keys())"
   ]
  },
  {
   "cell_type": "code",
   "execution_count": 77,
   "metadata": {},
   "outputs": [
    {
     "data": {
      "text/plain": [
       "['1026018 ESCOLA MUNICIPAL EMMA DAVILA DE CAMILLIS',\n",
       " '1019064 ESCOLA MUNICIPAL ALVARO VALLE',\n",
       " '0622020 ESCOLA MUNICIPAL MAURICE MAETERLINCK',\n",
       " '0622204 CIEP JOAO DO RIO',\n",
       " '0625035 ESCOLA MUNICIPAL PREFEITO MARCOS TAMOYO',\n",
       " '0430002 ESCOLA MUNICIPAL TEOTONIO VILELA',\n",
       " '0430501 CIEP PRESIDENTE SAMORA MACHEL',\n",
       " '0430502 CIEP ELIS REGINA',\n",
       " '0430206 CIEP HELIO SMIDT',\n",
       " '0411202 CIEP GREGORIO BEZERRA',\n",
       " '0430201 CIEP MINISTRO GUSTAVO CAPANEMA',\n",
       " '0410023 ESCOLA MUNICIPAL LUIZ CESAR SAYAO GARCEZ',\n",
       " '1026009 ESCOLA MUNICIPAL PADRE JOSE MAURICIO',\n",
       " '1120004 ESCOLA MUNICIPAL JORNALISTA ORLANDO DANTAS',\n",
       " '1120007 ESCOLA MUNICIPAL ROTARY',\n",
       " '1120021 ESCOLA MUNICIPAL GURGEL DO AMARAL',\n",
       " '1120502 CIEP JOAO MANGABEIRA',\n",
       " '1120503 CIEP DOUTOR JOAO RAMOS DE SOUZA',\n",
       " '0209021 ESCOLA MUNICIPAL PRESIDENTE JOAO GOULART',\n",
       " '0312503 CIEP CORONEL SARMENTO']"
      ]
     },
     "execution_count": 77,
     "metadata": {},
     "output_type": "execute_result"
    }
   ],
   "source": [
    "list(escolas_atencao_vizinhos.keys())[:20]"
   ]
  },
  {
   "cell_type": "code",
   "execution_count": 78,
   "metadata": {},
   "outputs": [
    {
     "data": {
      "text/html": [
       "<div>\n",
       "<style scoped>\n",
       "    .dataframe tbody tr th:only-of-type {\n",
       "        vertical-align: middle;\n",
       "    }\n",
       "\n",
       "    .dataframe tbody tr th {\n",
       "        vertical-align: top;\n",
       "    }\n",
       "\n",
       "    .dataframe thead th {\n",
       "        text-align: right;\n",
       "    }\n",
       "</style>\n",
       "<table border=\"1\" class=\"dataframe\">\n",
       "  <thead>\n",
       "    <tr style=\"text-align: right;\">\n",
       "      <th></th>\n",
       "      <th>nome_escola</th>\n",
       "      <th>cod_inep</th>\n",
       "      <th>ideb</th>\n",
       "      <th>pessimo_pra_bom_bin</th>\n",
       "      <th>ruim_pra_bom_bin</th>\n",
       "      <th>melhora_com_final_bom_bin</th>\n",
       "      <th>distancia</th>\n",
       "    </tr>\n",
       "  </thead>\n",
       "  <tbody>\n",
       "    <tr>\n",
       "      <th>4560</th>\n",
       "      <td>1019043 ESCOLA MUNICIPAL PROFESSORA FLAVIA DOS...</td>\n",
       "      <td>33084971</td>\n",
       "      <td>6.7</td>\n",
       "      <td>0</td>\n",
       "      <td>1</td>\n",
       "      <td>0</td>\n",
       "      <td>1943.246359</td>\n",
       "    </tr>\n",
       "    <tr>\n",
       "      <th>4433</th>\n",
       "      <td>1019020 ESCOLA MUNICIPAL PROFESSORA MARIA SANT...</td>\n",
       "      <td>33085013</td>\n",
       "      <td>6.9</td>\n",
       "      <td>0</td>\n",
       "      <td>1</td>\n",
       "      <td>1</td>\n",
       "      <td>2048.957049</td>\n",
       "    </tr>\n",
       "    <tr>\n",
       "      <th>4435</th>\n",
       "      <td>1019010 ESCOLA MUNICIPAL JOSE DE MELLO</td>\n",
       "      <td>33084785</td>\n",
       "      <td>6.3</td>\n",
       "      <td>0</td>\n",
       "      <td>1</td>\n",
       "      <td>0</td>\n",
       "      <td>2266.673280</td>\n",
       "    </tr>\n",
       "    <tr>\n",
       "      <th>4217</th>\n",
       "      <td>1019205 CIEP ROBERTO MORENA</td>\n",
       "      <td>33084149</td>\n",
       "      <td>6.1</td>\n",
       "      <td>1</td>\n",
       "      <td>0</td>\n",
       "      <td>1</td>\n",
       "      <td>3000.396936</td>\n",
       "    </tr>\n",
       "    <tr>\n",
       "      <th>4344</th>\n",
       "      <td>1019033 ESCOLA MUNICIPAL ESPANHA</td>\n",
       "      <td>33084653</td>\n",
       "      <td>6.2</td>\n",
       "      <td>0</td>\n",
       "      <td>1</td>\n",
       "      <td>1</td>\n",
       "      <td>3756.842875</td>\n",
       "    </tr>\n",
       "    <tr>\n",
       "      <th>4346</th>\n",
       "      <td>1019032 ESCOLA MUNICIPAL MIGUEL CALMON</td>\n",
       "      <td>33084866</td>\n",
       "      <td>6.1</td>\n",
       "      <td>0</td>\n",
       "      <td>1</td>\n",
       "      <td>0</td>\n",
       "      <td>4127.942995</td>\n",
       "    </tr>\n",
       "    <tr>\n",
       "      <th>4546</th>\n",
       "      <td>1019046 ESCOLA MUNICIPAL PROFESSORA ZULMIRA TE...</td>\n",
       "      <td>33085056</td>\n",
       "      <td>6.0</td>\n",
       "      <td>1</td>\n",
       "      <td>0</td>\n",
       "      <td>1</td>\n",
       "      <td>4876.049672</td>\n",
       "    </tr>\n",
       "    <tr>\n",
       "      <th>4416</th>\n",
       "      <td>1019003 ESCOLA MUNICIPAL PROFESSOR ARTHUR THIRE</td>\n",
       "      <td>33084564</td>\n",
       "      <td>6.1</td>\n",
       "      <td>0</td>\n",
       "      <td>1</td>\n",
       "      <td>0</td>\n",
       "      <td>4974.882107</td>\n",
       "    </tr>\n",
       "    <tr>\n",
       "      <th>4297</th>\n",
       "      <td>1019004 ESCOLA MUNICIPAL PROFESSOR JOAO GUALBE...</td>\n",
       "      <td>33084980</td>\n",
       "      <td>6.1</td>\n",
       "      <td>0</td>\n",
       "      <td>1</td>\n",
       "      <td>0</td>\n",
       "      <td>5295.237304</td>\n",
       "    </tr>\n",
       "    <tr>\n",
       "      <th>4465</th>\n",
       "      <td>1019039 ESCOLA MUNICIPAL PROFESSORA LEILA MEHL...</td>\n",
       "      <td>33084998</td>\n",
       "      <td>6.2</td>\n",
       "      <td>0</td>\n",
       "      <td>1</td>\n",
       "      <td>0</td>\n",
       "      <td>6940.791324</td>\n",
       "    </tr>\n",
       "    <tr>\n",
       "      <th>4680</th>\n",
       "      <td>0918073 ESCOLA MUNICIPAL MINISTRO ADAUCTO LUCI...</td>\n",
       "      <td>33083118</td>\n",
       "      <td>6.0</td>\n",
       "      <td>0</td>\n",
       "      <td>1</td>\n",
       "      <td>0</td>\n",
       "      <td>7589.812881</td>\n",
       "    </tr>\n",
       "    <tr>\n",
       "      <th>4302</th>\n",
       "      <td>1026007 ESCOLA MUNICIPAL PROFESSORA LEOCADIA T...</td>\n",
       "      <td>33083320</td>\n",
       "      <td>6.2</td>\n",
       "      <td>1</td>\n",
       "      <td>0</td>\n",
       "      <td>1</td>\n",
       "      <td>8335.412090</td>\n",
       "    </tr>\n",
       "    <tr>\n",
       "      <th>4729</th>\n",
       "      <td>1026017 ESCOLA MUNICIPAL GIUSEPPE MELCHIORI - ...</td>\n",
       "      <td>33140081</td>\n",
       "      <td>6.0</td>\n",
       "      <td>0</td>\n",
       "      <td>1</td>\n",
       "      <td>0</td>\n",
       "      <td>8539.820276</td>\n",
       "    </tr>\n",
       "    <tr>\n",
       "      <th>4648</th>\n",
       "      <td>0918005 ESCOLA MUNICIPAL LYCIO DE SOUZA CARVALHO</td>\n",
       "      <td>33083061</td>\n",
       "      <td>6.1</td>\n",
       "      <td>0</td>\n",
       "      <td>1</td>\n",
       "      <td>0</td>\n",
       "      <td>8787.621620</td>\n",
       "    </tr>\n",
       "    <tr>\n",
       "      <th>4188</th>\n",
       "      <td>0918004 ESCOLA MUNICIPAL ATENAS</td>\n",
       "      <td>33082634</td>\n",
       "      <td>6.1</td>\n",
       "      <td>0</td>\n",
       "      <td>1</td>\n",
       "      <td>1</td>\n",
       "      <td>9034.615050</td>\n",
       "    </tr>\n",
       "  </tbody>\n",
       "</table>\n",
       "</div>"
      ],
      "text/plain": [
       "                                            nome_escola  cod_inep  ideb  \\\n",
       "4560  1019043 ESCOLA MUNICIPAL PROFESSORA FLAVIA DOS...  33084971   6.7   \n",
       "4433  1019020 ESCOLA MUNICIPAL PROFESSORA MARIA SANT...  33085013   6.9   \n",
       "4435             1019010 ESCOLA MUNICIPAL JOSE DE MELLO  33084785   6.3   \n",
       "4217                        1019205 CIEP ROBERTO MORENA  33084149   6.1   \n",
       "4344                   1019033 ESCOLA MUNICIPAL ESPANHA  33084653   6.2   \n",
       "4346             1019032 ESCOLA MUNICIPAL MIGUEL CALMON  33084866   6.1   \n",
       "4546  1019046 ESCOLA MUNICIPAL PROFESSORA ZULMIRA TE...  33085056   6.0   \n",
       "4416    1019003 ESCOLA MUNICIPAL PROFESSOR ARTHUR THIRE  33084564   6.1   \n",
       "4297  1019004 ESCOLA MUNICIPAL PROFESSOR JOAO GUALBE...  33084980   6.1   \n",
       "4465  1019039 ESCOLA MUNICIPAL PROFESSORA LEILA MEHL...  33084998   6.2   \n",
       "4680  0918073 ESCOLA MUNICIPAL MINISTRO ADAUCTO LUCI...  33083118   6.0   \n",
       "4302  1026007 ESCOLA MUNICIPAL PROFESSORA LEOCADIA T...  33083320   6.2   \n",
       "4729  1026017 ESCOLA MUNICIPAL GIUSEPPE MELCHIORI - ...  33140081   6.0   \n",
       "4648   0918005 ESCOLA MUNICIPAL LYCIO DE SOUZA CARVALHO  33083061   6.1   \n",
       "4188                    0918004 ESCOLA MUNICIPAL ATENAS  33082634   6.1   \n",
       "\n",
       "      pessimo_pra_bom_bin  ruim_pra_bom_bin  melhora_com_final_bom_bin  \\\n",
       "4560                    0                 1                          0   \n",
       "4433                    0                 1                          1   \n",
       "4435                    0                 1                          0   \n",
       "4217                    1                 0                          1   \n",
       "4344                    0                 1                          1   \n",
       "4346                    0                 1                          0   \n",
       "4546                    1                 0                          1   \n",
       "4416                    0                 1                          0   \n",
       "4297                    0                 1                          0   \n",
       "4465                    0                 1                          0   \n",
       "4680                    0                 1                          0   \n",
       "4302                    1                 0                          1   \n",
       "4729                    0                 1                          0   \n",
       "4648                    0                 1                          0   \n",
       "4188                    0                 1                          1   \n",
       "\n",
       "        distancia  \n",
       "4560  1943.246359  \n",
       "4433  2048.957049  \n",
       "4435  2266.673280  \n",
       "4217  3000.396936  \n",
       "4344  3756.842875  \n",
       "4346  4127.942995  \n",
       "4546  4876.049672  \n",
       "4416  4974.882107  \n",
       "4297  5295.237304  \n",
       "4465  6940.791324  \n",
       "4680  7589.812881  \n",
       "4302  8335.412090  \n",
       "4729  8539.820276  \n",
       "4648  8787.621620  \n",
       "4188  9034.615050  "
      ]
     },
     "execution_count": 78,
     "metadata": {},
     "output_type": "execute_result"
    }
   ],
   "source": [
    "escolas_atencao_vizinhos[\"1019064 ESCOLA MUNICIPAL ALVARO VALLE\"].sort_values(\"distancia\")"
   ]
  },
  {
   "cell_type": "code",
   "execution_count": 85,
   "metadata": {},
   "outputs": [
    {
     "name": "stderr",
     "output_type": "stream",
     "text": [
      "/usr/local/lib/python3.7/site-packages/ipykernel_launcher.py:11: SettingWithCopyWarning: \n",
      "A value is trying to be set on a copy of a slice from a DataFrame.\n",
      "Try using .loc[row_indexer,col_indexer] = value instead\n",
      "\n",
      "See the caveats in the documentation: http://pandas.pydata.org/pandas-docs/stable/indexing.html#indexing-view-versus-copy\n",
      "  # This is added back by InteractiveShellApp.init_path()\n",
      "/usr/local/lib/python3.7/site-packages/ipykernel_launcher.py:12: SettingWithCopyWarning: \n",
      "A value is trying to be set on a copy of a slice from a DataFrame.\n",
      "Try using .loc[row_indexer,col_indexer] = value instead\n",
      "\n",
      "See the caveats in the documentation: http://pandas.pydata.org/pandas-docs/stable/indexing.html#indexing-view-versus-copy\n",
      "  if sys.path[0] == '':\n",
      "/usr/local/lib/python3.7/site-packages/ipykernel_launcher.py:13: SettingWithCopyWarning: \n",
      "A value is trying to be set on a copy of a slice from a DataFrame.\n",
      "Try using .loc[row_indexer,col_indexer] = value instead\n",
      "\n",
      "See the caveats in the documentation: http://pandas.pydata.org/pandas-docs/stable/indexing.html#indexing-view-versus-copy\n",
      "  del sys.path[0]\n"
     ]
    }
   ],
   "source": [
    "# save the model neighboors for all risk schools\n",
    "\n",
    "cods = escolas_atencao.set_index(\"nome_escola\")[\"cod_inep\"]\n",
    "idebs = escolas_atencao.set_index(\"nome_escola\")[\"ideb\"]\n",
    "model_neighboors = pd.DataFrame()\n",
    "\n",
    "for school in escolas_atencao_vizinhos.keys():\n",
    "    \n",
    "    t = escolas_atencao_vizinhos[school]\n",
    "    \n",
    "    t[\"escola_risco\"] = school\n",
    "    t[\"cod_inep_risco\"] = cods.loc[school]\n",
    "    t[\"ideb_2017_risco\"] = idebs.loc[school]\n",
    "    \n",
    "    cols = t.columns\n",
    "    t = t[list(cols[-3:]) + list(cols[:-3])]\n",
    "    #t = t[list(cols[:2]) + list(cols[-1]) + list(cols[:-1])]\n",
    "    \n",
    "    model_neighboors = model_neighboors.append(t)\n",
    "    escolas_atencao_vizinhos[school].to_csv(\"../data/sponsor_partners/\" + school + \".csv\", index = False)"
   ]
  },
  {
   "cell_type": "code",
   "execution_count": 86,
   "metadata": {},
   "outputs": [
    {
     "data": {
      "text/html": [
       "<div>\n",
       "<style scoped>\n",
       "    .dataframe tbody tr th:only-of-type {\n",
       "        vertical-align: middle;\n",
       "    }\n",
       "\n",
       "    .dataframe tbody tr th {\n",
       "        vertical-align: top;\n",
       "    }\n",
       "\n",
       "    .dataframe thead th {\n",
       "        text-align: right;\n",
       "    }\n",
       "</style>\n",
       "<table border=\"1\" class=\"dataframe\">\n",
       "  <thead>\n",
       "    <tr style=\"text-align: right;\">\n",
       "      <th></th>\n",
       "      <th>escola_risco</th>\n",
       "      <th>cod_inep_risco</th>\n",
       "      <th>ideb_2017_risco</th>\n",
       "      <th>nome_escola</th>\n",
       "      <th>cod_inep</th>\n",
       "      <th>ideb</th>\n",
       "      <th>pessimo_pra_bom_bin</th>\n",
       "      <th>ruim_pra_bom_bin</th>\n",
       "      <th>melhora_com_final_bom_bin</th>\n",
       "      <th>distancia</th>\n",
       "    </tr>\n",
       "  </thead>\n",
       "  <tbody>\n",
       "    <tr>\n",
       "      <th>4302</th>\n",
       "      <td>1026018 ESCOLA MUNICIPAL EMMA DAVILA DE CAMILLIS</td>\n",
       "      <td>33140111</td>\n",
       "      <td>5.4</td>\n",
       "      <td>1026007 ESCOLA MUNICIPAL PROFESSORA LEOCADIA T...</td>\n",
       "      <td>33083320</td>\n",
       "      <td>6.2</td>\n",
       "      <td>1</td>\n",
       "      <td>0</td>\n",
       "      <td>1</td>\n",
       "      <td>1119.108799</td>\n",
       "    </tr>\n",
       "    <tr>\n",
       "      <th>4501</th>\n",
       "      <td>1026018 ESCOLA MUNICIPAL EMMA DAVILA DE CAMILLIS</td>\n",
       "      <td>33140111</td>\n",
       "      <td>5.4</td>\n",
       "      <td>1026015 ESCOLA MUNICIPAL NESTOR VICTOR</td>\n",
       "      <td>33083150</td>\n",
       "      <td>6.0</td>\n",
       "      <td>0</td>\n",
       "      <td>1</td>\n",
       "      <td>0</td>\n",
       "      <td>1889.095035</td>\n",
       "    </tr>\n",
       "    <tr>\n",
       "      <th>4416</th>\n",
       "      <td>1026018 ESCOLA MUNICIPAL EMMA DAVILA DE CAMILLIS</td>\n",
       "      <td>33140111</td>\n",
       "      <td>5.4</td>\n",
       "      <td>1019003 ESCOLA MUNICIPAL PROFESSOR ARTHUR THIRE</td>\n",
       "      <td>33084564</td>\n",
       "      <td>6.1</td>\n",
       "      <td>0</td>\n",
       "      <td>1</td>\n",
       "      <td>0</td>\n",
       "      <td>4613.523421</td>\n",
       "    </tr>\n",
       "  </tbody>\n",
       "</table>\n",
       "</div>"
      ],
      "text/plain": [
       "                                          escola_risco  cod_inep_risco  \\\n",
       "4302  1026018 ESCOLA MUNICIPAL EMMA DAVILA DE CAMILLIS        33140111   \n",
       "4501  1026018 ESCOLA MUNICIPAL EMMA DAVILA DE CAMILLIS        33140111   \n",
       "4416  1026018 ESCOLA MUNICIPAL EMMA DAVILA DE CAMILLIS        33140111   \n",
       "\n",
       "      ideb_2017_risco                                        nome_escola  \\\n",
       "4302              5.4  1026007 ESCOLA MUNICIPAL PROFESSORA LEOCADIA T...   \n",
       "4501              5.4             1026015 ESCOLA MUNICIPAL NESTOR VICTOR   \n",
       "4416              5.4    1019003 ESCOLA MUNICIPAL PROFESSOR ARTHUR THIRE   \n",
       "\n",
       "      cod_inep  ideb  pessimo_pra_bom_bin  ruim_pra_bom_bin  \\\n",
       "4302  33083320   6.2                    1                 0   \n",
       "4501  33083150   6.0                    0                 1   \n",
       "4416  33084564   6.1                    0                 1   \n",
       "\n",
       "      melhora_com_final_bom_bin    distancia  \n",
       "4302                          1  1119.108799  \n",
       "4501                          0  1889.095035  \n",
       "4416                          0  4613.523421  "
      ]
     },
     "execution_count": 86,
     "metadata": {},
     "output_type": "execute_result"
    }
   ],
   "source": [
    "model_neighboors.head(3)"
   ]
  },
  {
   "cell_type": "code",
   "execution_count": 192,
   "metadata": {},
   "outputs": [],
   "source": [
    "model_neighboors = pd.merge(model_neighboors, \n",
    "                            proto_kepler[[\"cod_inep\", \"geometry\", \"lat\", \"lon\"]].drop_duplicates(subset=[\"cod_inep\"]), \n",
    "                            how=\"inner\", on=\"cod_inep\")"
   ]
  },
  {
   "cell_type": "code",
   "execution_count": 193,
   "metadata": {},
   "outputs": [],
   "source": [
    "model_neighboors.to_csv(OUTPUT_PATH / 'top15_model_neighboors.csv')"
   ]
  },
  {
   "cell_type": "markdown",
   "metadata": {},
   "source": [
    "* Number of top 15 model neighboors "
   ]
  },
  {
   "cell_type": "code",
   "execution_count": 93,
   "metadata": {},
   "outputs": [
    {
     "data": {
      "text/plain": [
       "161"
      ]
     },
     "execution_count": 93,
     "metadata": {},
     "output_type": "execute_result"
    }
   ],
   "source": [
    "len(model_neighboors[\"cod_inep\"].unique())"
   ]
  },
  {
   "cell_type": "markdown",
   "metadata": {},
   "source": [
    "* Which model schools are closer to most risk ones?"
   ]
  },
  {
   "cell_type": "code",
   "execution_count": 99,
   "metadata": {},
   "outputs": [
    {
     "data": {
      "text/html": [
       "<div>\n",
       "<style scoped>\n",
       "    .dataframe tbody tr th:only-of-type {\n",
       "        vertical-align: middle;\n",
       "    }\n",
       "\n",
       "    .dataframe tbody tr th {\n",
       "        vertical-align: top;\n",
       "    }\n",
       "\n",
       "    .dataframe thead th {\n",
       "        text-align: right;\n",
       "    }\n",
       "</style>\n",
       "<table border=\"1\" class=\"dataframe\">\n",
       "  <thead>\n",
       "    <tr style=\"text-align: right;\">\n",
       "      <th></th>\n",
       "      <th>escola_risco</th>\n",
       "      <th>cod_inep_risco</th>\n",
       "      <th>ideb_2017_risco</th>\n",
       "      <th>nome_escola</th>\n",
       "      <th>cod_inep</th>\n",
       "      <th>ideb</th>\n",
       "      <th>pessimo_pra_bom_bin</th>\n",
       "      <th>ruim_pra_bom_bin</th>\n",
       "      <th>melhora_com_final_bom_bin</th>\n",
       "      <th>distancia</th>\n",
       "    </tr>\n",
       "  </thead>\n",
       "  <tbody>\n",
       "    <tr>\n",
       "      <th>4302</th>\n",
       "      <td>1026018 ESCOLA MUNICIPAL EMMA DAVILA DE CAMILLIS</td>\n",
       "      <td>33140111</td>\n",
       "      <td>5.4</td>\n",
       "      <td>1026007 ESCOLA MUNICIPAL PROFESSORA LEOCADIA T...</td>\n",
       "      <td>33083320</td>\n",
       "      <td>6.2</td>\n",
       "      <td>1</td>\n",
       "      <td>0</td>\n",
       "      <td>1</td>\n",
       "      <td>1119.108799</td>\n",
       "    </tr>\n",
       "    <tr>\n",
       "      <th>4560</th>\n",
       "      <td>1019064 ESCOLA MUNICIPAL ALVARO VALLE</td>\n",
       "      <td>33146110</td>\n",
       "      <td>5.3</td>\n",
       "      <td>1019043 ESCOLA MUNICIPAL PROFESSORA FLAVIA DOS...</td>\n",
       "      <td>33084971</td>\n",
       "      <td>6.7</td>\n",
       "      <td>0</td>\n",
       "      <td>1</td>\n",
       "      <td>0</td>\n",
       "      <td>1943.246359</td>\n",
       "    </tr>\n",
       "    <tr>\n",
       "      <th>4577</th>\n",
       "      <td>0622020 ESCOLA MUNICIPAL MAURICE MAETERLINCK</td>\n",
       "      <td>33087202</td>\n",
       "      <td>4.7</td>\n",
       "      <td>0833001 ESCOLA MUNICIPAL MADRE BENEDITA</td>\n",
       "      <td>33087172</td>\n",
       "      <td>6.0</td>\n",
       "      <td>1</td>\n",
       "      <td>0</td>\n",
       "      <td>1</td>\n",
       "      <td>1187.516645</td>\n",
       "    </tr>\n",
       "    <tr>\n",
       "      <th>4141</th>\n",
       "      <td>0622204 CIEP JOAO DO RIO</td>\n",
       "      <td>33086508</td>\n",
       "      <td>5.4</td>\n",
       "      <td>0622021 ESCOLA MUNICIPAL ISAIAS ALVES</td>\n",
       "      <td>33087121</td>\n",
       "      <td>6.3</td>\n",
       "      <td>0</td>\n",
       "      <td>1</td>\n",
       "      <td>0</td>\n",
       "      <td>80.141361</td>\n",
       "    </tr>\n",
       "    <tr>\n",
       "      <th>4405</th>\n",
       "      <td>0625035 ESCOLA MUNICIPAL PREFEITO MARCOS TAMOYO</td>\n",
       "      <td>33139792</td>\n",
       "      <td>5.1</td>\n",
       "      <td>0625021 ESCOLA MUNICIPAL OCTAVIO TARQUINIO DE ...</td>\n",
       "      <td>33087270</td>\n",
       "      <td>6.0</td>\n",
       "      <td>0</td>\n",
       "      <td>1</td>\n",
       "      <td>0</td>\n",
       "      <td>1044.029563</td>\n",
       "    </tr>\n",
       "  </tbody>\n",
       "</table>\n",
       "</div>"
      ],
      "text/plain": [
       "                                          escola_risco  cod_inep_risco  \\\n",
       "4302  1026018 ESCOLA MUNICIPAL EMMA DAVILA DE CAMILLIS        33140111   \n",
       "4560             1019064 ESCOLA MUNICIPAL ALVARO VALLE        33146110   \n",
       "4577      0622020 ESCOLA MUNICIPAL MAURICE MAETERLINCK        33087202   \n",
       "4141                          0622204 CIEP JOAO DO RIO        33086508   \n",
       "4405   0625035 ESCOLA MUNICIPAL PREFEITO MARCOS TAMOYO        33139792   \n",
       "\n",
       "      ideb_2017_risco                                        nome_escola  \\\n",
       "4302              5.4  1026007 ESCOLA MUNICIPAL PROFESSORA LEOCADIA T...   \n",
       "4560              5.3  1019043 ESCOLA MUNICIPAL PROFESSORA FLAVIA DOS...   \n",
       "4577              4.7            0833001 ESCOLA MUNICIPAL MADRE BENEDITA   \n",
       "4141              5.4              0622021 ESCOLA MUNICIPAL ISAIAS ALVES   \n",
       "4405              5.1  0625021 ESCOLA MUNICIPAL OCTAVIO TARQUINIO DE ...   \n",
       "\n",
       "      cod_inep  ideb  pessimo_pra_bom_bin  ruim_pra_bom_bin  \\\n",
       "4302  33083320   6.2                    1                 0   \n",
       "4560  33084971   6.7                    0                 1   \n",
       "4577  33087172   6.0                    1                 0   \n",
       "4141  33087121   6.3                    0                 1   \n",
       "4405  33087270   6.0                    0                 1   \n",
       "\n",
       "      melhora_com_final_bom_bin    distancia  \n",
       "4302                          1  1119.108799  \n",
       "4560                          0  1943.246359  \n",
       "4577                          1  1187.516645  \n",
       "4141                          0    80.141361  \n",
       "4405                          0  1044.029563  "
      ]
     },
     "execution_count": 99,
     "metadata": {},
     "output_type": "execute_result"
    }
   ],
   "source": [
    "closest = model_neighboors.drop_duplicates(subset=['cod_inep_risco'], keep='first').copy()\n",
    "closest.head()"
   ]
  },
  {
   "cell_type": "code",
   "execution_count": 106,
   "metadata": {},
   "outputs": [
    {
     "data": {
      "text/plain": [
       "78"
      ]
     },
     "execution_count": 106,
     "metadata": {},
     "output_type": "execute_result"
    }
   ],
   "source": [
    "len(closest['cod_inep'].unique())"
   ]
  },
  {
   "cell_type": "code",
   "execution_count": 129,
   "metadata": {
    "scrolled": true
   },
   "outputs": [
    {
     "data": {
      "text/plain": [
       "33075999    6\n",
       "33069247    6\n",
       "33070717    6\n",
       "33074429    5\n",
       "33068364    5\n",
       "33084971    5\n",
       "33084785    5\n",
       "33087229    4\n",
       "33100551    4\n",
       "33080500    4\n",
       "33069190    4\n",
       "33070776    4\n",
       "33076081    4\n",
       "33080879    4\n",
       "33066248    3\n",
       "33069220    3\n",
       "33072728    3\n",
       "33080925    3\n",
       "33080330    3\n",
       "33140081    3\n",
       "33085056    3\n",
       "33073155    3\n",
       "33070881    3\n",
       "33086001    3\n",
       "33087121    3\n",
       "33086494    3\n",
       "33080208    3\n",
       "33073139    3\n",
       "33063192    2\n",
       "33063184    2\n",
       "33085013    2\n",
       "33087270    2\n",
       "33068321    2\n",
       "33085935    2\n",
       "33084980    2\n",
       "Name: cod_inep, dtype: int64"
      ]
     },
     "execution_count": 129,
     "metadata": {},
     "output_type": "execute_result"
    }
   ],
   "source": [
    "v = closest['cod_inep'].value_counts()[:35]\n",
    "v"
   ]
  },
  {
   "cell_type": "code",
   "execution_count": 130,
   "metadata": {},
   "outputs": [],
   "source": [
    "multiple_closest = closest[closest['cod_inep'].isin(v.index) == True]"
   ]
  },
  {
   "cell_type": "code",
   "execution_count": 131,
   "metadata": {},
   "outputs": [
    {
     "data": {
      "text/plain": [
       "122"
      ]
     },
     "execution_count": 131,
     "metadata": {},
     "output_type": "execute_result"
    }
   ],
   "source": [
    "multiple_closest['cod_inep_risco'].nunique()"
   ]
  },
  {
   "cell_type": "markdown",
   "metadata": {},
   "source": [
    "* What's the coverage of the 35 models schools that are closest to the most number of risk schools?"
   ]
  },
  {
   "cell_type": "code",
   "execution_count": 134,
   "metadata": {},
   "outputs": [
    {
     "data": {
      "text/plain": [
       "0.7577639751552795"
      ]
     },
     "execution_count": 134,
     "metadata": {},
     "output_type": "execute_result"
    }
   ],
   "source": [
    "multiple_closest['cod_inep_risco'].nunique()/len(model_neighboors[\"cod_inep\"].unique())"
   ]
  },
  {
   "cell_type": "code",
   "execution_count": 140,
   "metadata": {},
   "outputs": [
    {
     "data": {
      "text/html": [
       "<div>\n",
       "<style scoped>\n",
       "    .dataframe tbody tr th:only-of-type {\n",
       "        vertical-align: middle;\n",
       "    }\n",
       "\n",
       "    .dataframe tbody tr th {\n",
       "        vertical-align: top;\n",
       "    }\n",
       "\n",
       "    .dataframe thead th {\n",
       "        text-align: right;\n",
       "    }\n",
       "</style>\n",
       "<table border=\"1\" class=\"dataframe\">\n",
       "  <thead>\n",
       "    <tr style=\"text-align: right;\">\n",
       "      <th></th>\n",
       "      <th>escola_risco</th>\n",
       "      <th>cod_inep_risco</th>\n",
       "      <th>ideb_2017_risco</th>\n",
       "      <th>nome_escola</th>\n",
       "      <th>cod_inep</th>\n",
       "      <th>ideb</th>\n",
       "      <th>pessimo_pra_bom_bin</th>\n",
       "      <th>ruim_pra_bom_bin</th>\n",
       "      <th>melhora_com_final_bom_bin</th>\n",
       "      <th>distancia</th>\n",
       "    </tr>\n",
       "  </thead>\n",
       "  <tbody>\n",
       "    <tr>\n",
       "      <th>4371</th>\n",
       "      <td>0514019 ESCOLA MUNICIPAL ROSA BETTIATO ZATTERA</td>\n",
       "      <td>33074720</td>\n",
       "      <td>5.0</td>\n",
       "      <td>0515061 ESCOLA MUNICIPAL ASPIRANTE CARLOS ALFREDO</td>\n",
       "      <td>33075999</td>\n",
       "      <td>6.5</td>\n",
       "      <td>0</td>\n",
       "      <td>1</td>\n",
       "      <td>1</td>\n",
       "      <td>1901.704116</td>\n",
       "    </tr>\n",
       "    <tr>\n",
       "      <th>4371</th>\n",
       "      <td>0515058 ESCOLA MUNICIPAL ASTOLFO REZENDE</td>\n",
       "      <td>33076006</td>\n",
       "      <td>5.1</td>\n",
       "      <td>0515061 ESCOLA MUNICIPAL ASPIRANTE CARLOS ALFREDO</td>\n",
       "      <td>33075999</td>\n",
       "      <td>6.5</td>\n",
       "      <td>0</td>\n",
       "      <td>1</td>\n",
       "      <td>1</td>\n",
       "      <td>1272.714599</td>\n",
       "    </tr>\n",
       "    <tr>\n",
       "      <th>4371</th>\n",
       "      <td>0515060 ESCOLA MUNICIPAL IRMA ZELIA</td>\n",
       "      <td>33076189</td>\n",
       "      <td>5.4</td>\n",
       "      <td>0515061 ESCOLA MUNICIPAL ASPIRANTE CARLOS ALFREDO</td>\n",
       "      <td>33075999</td>\n",
       "      <td>6.5</td>\n",
       "      <td>0</td>\n",
       "      <td>1</td>\n",
       "      <td>1</td>\n",
       "      <td>1693.935809</td>\n",
       "    </tr>\n",
       "    <tr>\n",
       "      <th>4371</th>\n",
       "      <td>0515010 ESCOLA MUNICIPAL PROFESSOR ALFREDO RUS...</td>\n",
       "      <td>33074682</td>\n",
       "      <td>5.1</td>\n",
       "      <td>0515061 ESCOLA MUNICIPAL ASPIRANTE CARLOS ALFREDO</td>\n",
       "      <td>33075999</td>\n",
       "      <td>6.5</td>\n",
       "      <td>0</td>\n",
       "      <td>1</td>\n",
       "      <td>1</td>\n",
       "      <td>2123.973351</td>\n",
       "    </tr>\n",
       "    <tr>\n",
       "      <th>4371</th>\n",
       "      <td>0515001 ESCOLA MUNICIPAL PARA</td>\n",
       "      <td>33074640</td>\n",
       "      <td>5.4</td>\n",
       "      <td>0515061 ESCOLA MUNICIPAL ASPIRANTE CARLOS ALFREDO</td>\n",
       "      <td>33075999</td>\n",
       "      <td>6.5</td>\n",
       "      <td>0</td>\n",
       "      <td>1</td>\n",
       "      <td>1</td>\n",
       "      <td>1200.416759</td>\n",
       "    </tr>\n",
       "    <tr>\n",
       "      <th>4371</th>\n",
       "      <td>0515007 ESCOLA MUNICIPAL FRANCISCO FRIAS DE ME...</td>\n",
       "      <td>33074410</td>\n",
       "      <td>5.2</td>\n",
       "      <td>0515061 ESCOLA MUNICIPAL ASPIRANTE CARLOS ALFREDO</td>\n",
       "      <td>33075999</td>\n",
       "      <td>6.5</td>\n",
       "      <td>0</td>\n",
       "      <td>1</td>\n",
       "      <td>1</td>\n",
       "      <td>1713.956310</td>\n",
       "    </tr>\n",
       "  </tbody>\n",
       "</table>\n",
       "</div>"
      ],
      "text/plain": [
       "                                           escola_risco  cod_inep_risco  ideb_2017_risco                                        nome_escola  cod_inep  ideb  pessimo_pra_bom_bin  ruim_pra_bom_bin  melhora_com_final_bom_bin    distancia\n",
       "4371     0514019 ESCOLA MUNICIPAL ROSA BETTIATO ZATTERA        33074720              5.0  0515061 ESCOLA MUNICIPAL ASPIRANTE CARLOS ALFREDO  33075999   6.5                    0                 1                          1  1901.704116\n",
       "4371           0515058 ESCOLA MUNICIPAL ASTOLFO REZENDE        33076006              5.1  0515061 ESCOLA MUNICIPAL ASPIRANTE CARLOS ALFREDO  33075999   6.5                    0                 1                          1  1272.714599\n",
       "4371                0515060 ESCOLA MUNICIPAL IRMA ZELIA        33076189              5.4  0515061 ESCOLA MUNICIPAL ASPIRANTE CARLOS ALFREDO  33075999   6.5                    0                 1                          1  1693.935809\n",
       "4371  0515010 ESCOLA MUNICIPAL PROFESSOR ALFREDO RUS...        33074682              5.1  0515061 ESCOLA MUNICIPAL ASPIRANTE CARLOS ALFREDO  33075999   6.5                    0                 1                          1  2123.973351\n",
       "4371                      0515001 ESCOLA MUNICIPAL PARA        33074640              5.4  0515061 ESCOLA MUNICIPAL ASPIRANTE CARLOS ALFREDO  33075999   6.5                    0                 1                          1  1200.416759\n",
       "4371  0515007 ESCOLA MUNICIPAL FRANCISCO FRIAS DE ME...        33074410              5.2  0515061 ESCOLA MUNICIPAL ASPIRANTE CARLOS ALFREDO  33075999   6.5                    0                 1                          1  1713.956310"
      ]
     },
     "execution_count": 140,
     "metadata": {},
     "output_type": "execute_result"
    }
   ],
   "source": [
    "multiple_closest[multiple_closest[\"cod_inep\"] == 33075999]"
   ]
  },
  {
   "cell_type": "code",
   "execution_count": 135,
   "metadata": {},
   "outputs": [],
   "source": [
    "multiple_closest.to_csv(OUTPUT_PATH / \"model_neighboors_closest_multiple.csv\")"
   ]
  },
  {
   "cell_type": "raw",
   "metadata": {},
   "source": [
    "escolas_atencao = {}\n",
    "\n",
    "for row, nivel in geo_kepler[\"nivel_atencao\"].iteritems():\n",
    "    \n",
    "    #escolas_referencia = geo_kepler.query(\"ruim_pra_bom_bin == 1 | melhora_com_final_bom_bin == 1 | pessimo_pra_bom_bin == 1\").copy()\n",
    "    escolas_referencia = geo_kepler.query(\"ruim_pra_bom_bin == 1 | pessimo_pra_bom_bin == 1\").copy()\n",
    "    escolas_referencia = escolas_referencia.query(\"ano == '2017-01-01 12:00:00'\")\n",
    "    escolas_referencia.to_crs(epsg=3395, inplace = True)\n",
    "    if nivel == 4:\n",
    "        escola_risco = geo_kepler[\"nome_escola\"][row]\n",
    "        escola_risco_df = geo_kepler[geo_kepler[\"nome_escola\"] == escola_risco].copy()\n",
    "        escola_risco_df.to_crs(epsg=3395, inplace = True)\n",
    "        coord_escola_risco = escola_risco_df[\"geometry\"][row]\n",
    "        escolas_referencia[\"distancia\"] = escolas_referencia[\"geometry\"].apply(lambda x: x.distance(coord_escola_risco))\n",
    "        escolas_referencia.sort_values(\"distancia\", inplace = True)\n",
    "        escolas_atencao[escola_risco] = escolas_referencia[[\n",
    "            \"nome_escola\", \"cod_inep\", \"ideb\",\n",
    "             \"pessimo_pra_bom_bin\", \"ruim_pra_bom_bin\",\n",
    "            \"melhora_com_final_bom_bin\", \"distancia\"\n",
    "        ]]"
   ]
  },
  {
   "cell_type": "markdown",
   "metadata": {},
   "source": [
    "### See if the education census contains information on who was the principal of each school each year.\n",
    "\n",
    "We found a [indicator of school management complexity](http://inep.gov.br/web/guest/indicadores-educacionais) calculated by INEP. \n",
    "\n",
    "We collected the data from 2017 to search for patterns in the distribution of IDEB marks and deltas relaated to the levels of the indicator."
   ]
  },
  {
   "cell_type": "code",
   "execution_count": 145,
   "metadata": {},
   "outputs": [],
   "source": [
    "gestao = pd.read_excel(RAW_PATH / \"ICG_ESCOLAS_2017.xlsx\", sheet_name=\"rio_municipal\")"
   ]
  },
  {
   "cell_type": "code",
   "execution_count": 146,
   "metadata": {},
   "outputs": [
    {
     "name": "stdout",
     "output_type": "stream",
     "text": [
      "<class 'pandas.core.frame.DataFrame'>\n",
      "RangeIndex: 1543 entries, 0 to 1542\n",
      "Data columns (total 10 columns):\n",
      "Ano                                           1540 non-null float64\n",
      "Região                                        1540 non-null object\n",
      "UF                                            1540 non-null object\n",
      "Código do Município                           1540 non-null float64\n",
      "Nome do Município                             1540 non-null object\n",
      "Código da Escola                              1540 non-null float64\n",
      "Nome da Escola                                1540 non-null object\n",
      "Localização                                   1540 non-null object\n",
      "Dependência Administrativa                    1540 non-null object\n",
      "Nível de complexidade de gestão da escola3    1540 non-null object\n",
      "dtypes: float64(3), object(7)\n",
      "memory usage: 120.6+ KB\n"
     ]
    }
   ],
   "source": [
    "gestao.info()"
   ]
  },
  {
   "cell_type": "code",
   "execution_count": 148,
   "metadata": {},
   "outputs": [
    {
     "data": {
      "text/plain": [
       "1540"
      ]
     },
     "execution_count": 148,
     "metadata": {},
     "output_type": "execute_result"
    }
   ],
   "source": [
    "gestao[\"Código da Escola\"].nunique()"
   ]
  },
  {
   "cell_type": "code",
   "execution_count": 150,
   "metadata": {},
   "outputs": [
    {
     "data": {
      "text/plain": [
       "Nível 2    506\n",
       "Nível 3    474\n",
       "Nível 1    303\n",
       "Nível 4    159\n",
       "Nível 5     50\n",
       "Nível 6     48\n",
       "Name: Nível de complexidade de gestão da escola3, dtype: int64"
      ]
     },
     "execution_count": 150,
     "metadata": {},
     "output_type": "execute_result"
    }
   ],
   "source": [
    "gestao[\"Nível de complexidade de gestão da escola3\"].value_counts()"
   ]
  },
  {
   "cell_type": "code",
   "execution_count": 152,
   "metadata": {},
   "outputs": [
    {
     "data": {
      "text/html": [
       "<div>\n",
       "<style scoped>\n",
       "    .dataframe tbody tr th:only-of-type {\n",
       "        vertical-align: middle;\n",
       "    }\n",
       "\n",
       "    .dataframe tbody tr th {\n",
       "        vertical-align: top;\n",
       "    }\n",
       "\n",
       "    .dataframe thead th {\n",
       "        text-align: right;\n",
       "    }\n",
       "</style>\n",
       "<table border=\"1\" class=\"dataframe\">\n",
       "  <thead>\n",
       "    <tr style=\"text-align: right;\">\n",
       "      <th></th>\n",
       "      <th>Ano</th>\n",
       "      <th>Região</th>\n",
       "      <th>UF</th>\n",
       "      <th>Código do Município</th>\n",
       "      <th>Nome do Município</th>\n",
       "      <th>Código da Escola</th>\n",
       "      <th>Nome da Escola</th>\n",
       "      <th>Localização</th>\n",
       "      <th>Dependência Administrativa</th>\n",
       "      <th>Nível de complexidade de gestão da escola3</th>\n",
       "    </tr>\n",
       "  </thead>\n",
       "  <tbody>\n",
       "    <tr>\n",
       "      <th>0</th>\n",
       "      <td>NaN</td>\n",
       "      <td>NaN</td>\n",
       "      <td>NaN</td>\n",
       "      <td>NaN</td>\n",
       "      <td>NaN</td>\n",
       "      <td>NaN</td>\n",
       "      <td>NaN</td>\n",
       "      <td>NaN</td>\n",
       "      <td>NaN</td>\n",
       "      <td>NaN</td>\n",
       "    </tr>\n",
       "    <tr>\n",
       "      <th>1</th>\n",
       "      <td>NaN</td>\n",
       "      <td>NaN</td>\n",
       "      <td>NaN</td>\n",
       "      <td>NaN</td>\n",
       "      <td>NaN</td>\n",
       "      <td>NaN</td>\n",
       "      <td>NaN</td>\n",
       "      <td>NaN</td>\n",
       "      <td>NaN</td>\n",
       "      <td>NaN</td>\n",
       "    </tr>\n",
       "    <tr>\n",
       "      <th>2</th>\n",
       "      <td>NaN</td>\n",
       "      <td>NaN</td>\n",
       "      <td>NaN</td>\n",
       "      <td>NaN</td>\n",
       "      <td>NaN</td>\n",
       "      <td>NaN</td>\n",
       "      <td>NaN</td>\n",
       "      <td>NaN</td>\n",
       "      <td>NaN</td>\n",
       "      <td>NaN</td>\n",
       "    </tr>\n",
       "  </tbody>\n",
       "</table>\n",
       "</div>"
      ],
      "text/plain": [
       "   Ano Região   UF  Código do Município Nome do Município  Código da Escola Nome da Escola Localização Dependência Administrativa Nível de complexidade de gestão da escola3\n",
       "0  NaN    NaN  NaN                  NaN               NaN               NaN            NaN         NaN                        NaN                                        NaN\n",
       "1  NaN    NaN  NaN                  NaN               NaN               NaN            NaN         NaN                        NaN                                        NaN\n",
       "2  NaN    NaN  NaN                  NaN               NaN               NaN            NaN         NaN                        NaN                                        NaN"
      ]
     },
     "execution_count": 152,
     "metadata": {},
     "output_type": "execute_result"
    }
   ],
   "source": [
    "gestao[gestao[\"Nível de complexidade de gestão da escola3\"].isna() == True]"
   ]
  },
  {
   "cell_type": "code",
   "execution_count": 157,
   "metadata": {},
   "outputs": [],
   "source": [
    "gestao = gestao.loc[3:]"
   ]
  },
  {
   "cell_type": "code",
   "execution_count": 158,
   "metadata": {},
   "outputs": [],
   "source": [
    "gestao[\"gestao_nivel\"] = gestao[\"Nível de complexidade de gestão da escola3\"].apply(lambda x: int(x.split()[1]))"
   ]
  },
  {
   "cell_type": "code",
   "execution_count": 160,
   "metadata": {},
   "outputs": [],
   "source": [
    "gestao[\"cod_inep\"] = gestao[\"Código da Escola\"]"
   ]
  },
  {
   "cell_type": "code",
   "execution_count": 161,
   "metadata": {},
   "outputs": [],
   "source": [
    "ideb_gestao = pd.merge(ideb_rio[['cod_inep', \"nome_escola\", \"ideb_2017\", \"delta\"]], \n",
    "                       gestao[[\"cod_inep\", \"gestao_nivel\"]], on=\"cod_inep\")"
   ]
  },
  {
   "cell_type": "code",
   "execution_count": 162,
   "metadata": {},
   "outputs": [
    {
     "data": {
      "text/plain": [
       "817"
      ]
     },
     "execution_count": 162,
     "metadata": {},
     "output_type": "execute_result"
    }
   ],
   "source": [
    "len(ideb_gestao)"
   ]
  },
  {
   "cell_type": "code",
   "execution_count": 170,
   "metadata": {},
   "outputs": [
    {
     "data": {
      "text/plain": [
       "603"
      ]
     },
     "execution_count": 170,
     "metadata": {},
     "output_type": "execute_result"
    }
   ],
   "source": [
    "ideb_gestao = ideb_gestao.dropna(subset=[\"ideb_2017\"])\n",
    "len(ideb_gestao)"
   ]
  },
  {
   "cell_type": "code",
   "execution_count": 172,
   "metadata": {},
   "outputs": [
    {
     "data": {
      "image/png": "[encoded data removed]",
      "text/plain": [
       "<Figure size 1080x720 with 1 Axes>"
      ]
     },
     "metadata": {},
     "output_type": "display_data"
    }
   ],
   "source": [
    "pylab.rcParams['figure.figsize'] = (15, 10)\n",
    "ax = sns.boxplot(x=\"gestao_nivel\", y=\"ideb_2017\", data=ideb_gestao,\n",
    "                 color=palette[0], saturation=0.8, linewidth=2,\n",
    "                 showmeans=True, meanline=True)"
   ]
  },
  {
   "cell_type": "code",
   "execution_count": 173,
   "metadata": {},
   "outputs": [
    {
     "data": {
      "image/png": "[encoded data removed]",
      "text/plain": [
       "<Figure size 1080x720 with 1 Axes>"
      ]
     },
     "metadata": {},
     "output_type": "display_data"
    }
   ],
   "source": [
    "pylab.rcParams['figure.figsize'] = (15, 10)\n",
    "ax = sns.boxplot(x=\"gestao_nivel\", y=\"delta\", data=ideb_gestao,\n",
    "                 color=palette[0], saturation=0.8, linewidth=2,\n",
    "                 showmeans=True, meanline=True)"
   ]
  },
  {
   "cell_type": "code",
   "execution_count": 191,
   "metadata": {},
   "outputs": [],
   "source": [
    "closest = pd.merge(closest, proto_kepler[[\"cod_inep\", \"geometry\", \"lat\", \"lon\"]].drop_duplicates(subset=[\"cod_inep\"]), how=\"inner\", on=\"cod_inep\")"
   ]
  }
 ],
 "metadata": {
  "kernelspec": {
   "display_name": "Python 3",
   "language": "python",
   "name": "python3"
  },
  "language_info": {
   "codemirror_mode": {
    "name": "ipython",
    "version": 3
   },
   "file_extension": ".py",
   "mimetype": "text/x-python",
   "name": "python",
   "nbconvert_exporter": "python",
   "pygments_lexer": "ipython3",
   "version": "3.7.2"
  },
  "toc": {
   "base_numbering": 1,
   "nav_menu": {},
   "number_sections": true,
   "sideBar": true,
   "skip_h1_title": false,
   "title_cell": "Índice",
   "title_sidebar": "Conteúdo",
   "toc_cell": true,
   "toc_position": {},
   "toc_section_display": true,
   "toc_window_display": false
  }
 },
 "nbformat": 4,
 "nbformat_minor": 2
}
