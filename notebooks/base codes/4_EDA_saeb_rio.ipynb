{
 "cells": [
  {
   "cell_type": "markdown",
   "metadata": {
    "toc": true
   },
   "source": [
    "<h1>Índice<span class=\"tocSkip\"></span></h1>\n",
    "<div class=\"toc\"><ul class=\"toc-item\"><li><ul class=\"toc-item\"><li><span><a href=\"#TOC\" data-toc-modified-id=\"TOC-0.1\"><span class=\"toc-item-num\">0.1&nbsp;&nbsp;</span>TOC</a></span></li><li><span><a href=\"#Methodology\" data-toc-modified-id=\"Methodology-0.2\"><span class=\"toc-item-num\">0.2&nbsp;&nbsp;</span>Methodology</a></span></li><li><span><a href=\"#Results\" data-toc-modified-id=\"Results-0.3\"><span class=\"toc-item-num\">0.3&nbsp;&nbsp;</span>Results</a></span><ul class=\"toc-item\"><li><span><a href=\"#Import-data\" data-toc-modified-id=\"Import-data-0.3.1\"><span class=\"toc-item-num\">0.3.1&nbsp;&nbsp;</span>Import data</a></span></li><li><span><a href=\"#SAEB-marks-distribution\" data-toc-modified-id=\"SAEB-marks-distribution-0.3.2\"><span class=\"toc-item-num\">0.3.2&nbsp;&nbsp;</span>SAEB marks distribution</a></span></li></ul></li><li><span><a href=\"#SAEB-Growth\" data-toc-modified-id=\"SAEB-Growth-0.4\"><span class=\"toc-item-num\">0.4&nbsp;&nbsp;</span>SAEB Growth</a></span><ul class=\"toc-item\"><li><span><a href=\"#Identify-the-schools-with-most-SAEB-variation-from-2005-to-2017\" data-toc-modified-id=\"Identify-the-schools-with-most-SAEB-variation-from-2005-to-2017-0.4.1\"><span class=\"toc-item-num\">0.4.1&nbsp;&nbsp;</span>Identify the schools with most SAEB variation from 2005 to 2017</a></span></li><li><span><a href=\"#Identify-schools-that-jumped-from-low-/-very-low-IDEB-(<5-/-<4)-and-went-to-high-IDEB-(>-6),-from-2005-to-2017.\" data-toc-modified-id=\"Identify-schools-that-jumped-from-low-/-very-low-IDEB-(<5-/-<4)-and-went-to-high-IDEB-(>-6),-from-2005-to-2017.-0.4.2\"><span class=\"toc-item-num\">0.4.2&nbsp;&nbsp;</span>Identify schools that jumped from low / very low IDEB (&lt;5 / &lt;4) and went to high IDEB (&gt; 6), from 2005 to 2017.</a></span></li><li><span><a href=\"#Model-neighboors:-which-schools-had-a-large-delta-and-were-nearby-schools-on-the-highest-attention-level-(4)?\" data-toc-modified-id=\"Model-neighboors:-which-schools-had-a-large-delta-and-were-nearby-schools-on-the-highest-attention-level-(4)?-0.4.3\"><span class=\"toc-item-num\">0.4.3&nbsp;&nbsp;</span>Model neighboors: which schools had a large delta and were nearby schools on the highest attention level (4)?</a></span></li><li><span><a href=\"#See-if-the-education-census-contains-information-on-who-was-the-principal-of-each-school-each-year.\" data-toc-modified-id=\"See-if-the-education-census-contains-information-on-who-was-the-principal-of-each-school-each-year.-0.4.4\"><span class=\"toc-item-num\">0.4.4&nbsp;&nbsp;</span>See if the education census contains information on who was the principal of each school each year.</a></span></li></ul></li></ul></li><li><span><a href=\"#Faz-o-mapa-com-os-pares-de-escolas\" data-toc-modified-id=\"Faz-o-mapa-com-os-pares-de-escolas-1\"><span class=\"toc-item-num\">1&nbsp;&nbsp;</span>Faz o mapa com os pares de escolas</a></span></li></ul></div>"
   ]
  },
  {
   "cell_type": "code",
   "execution_count": 1,
   "metadata": {},
   "outputs": [
    {
     "name": "stdout",
     "output_type": "stream",
     "text": [
      "Populating the interactive namespace from numpy and matplotlib\n"
     ]
    },
    {
     "name": "stderr",
     "output_type": "stream",
     "text": [
      "/home/almeida2808/anaconda3/lib/python3.7/site-packages/IPython/core/magics/pylab.py:160: UserWarning: pylab import has clobbered these variables: ['loads']\n",
      "`%matplotlib` prevents importing * from pylab and numpy\n",
      "  \"\\n`%matplotlib` prevents importing * from pylab and numpy\"\n"
     ]
    }
   ],
   "source": [
    "# Import config\n",
    "import os\n",
    "import sys\n",
    "sys.path.insert(0, '../')\n",
    "from config import RAW_PATH, TREAT_PATH, OUTPUT_PATH\n",
    "\n",
    "# DATA ANALYSIS & VIZ TOOLS\n",
    "from copy import deepcopy\n",
    "\n",
    "import pandas as pd\n",
    "pd.options.display.max_columns = 999\n",
    "\n",
    "import geopandas as gpd\n",
    "from shapely.wkt import loads\n",
    "import matplotlib.pyplot as plt\n",
    "import seaborn as sns\n",
    "\n",
    "%pylab inline\n",
    "pylab.rcParams['figure.figsize'] = (12, 15)\n",
    "\n",
    "# CONFIGS\n",
    "%load_ext autoreload\n",
    "#%autoreload 2\n",
    "\n",
    "#import warnings\n",
    "#warnings.filterwarnings('ignore')"
   ]
  },
  {
   "cell_type": "code",
   "execution_count": 2,
   "metadata": {},
   "outputs": [],
   "source": [
    "palette = ['#FEC300', '#F1920E', '#E3611C', '#C70039', '#900C3F', '#5A1846', '#3a414c', '#29323C']\n",
    "sns.set()"
   ]
  },
  {
   "cell_type": "markdown",
   "metadata": {},
   "source": [
    "## TOC\n",
    "\n",
    "1. [Premisses](#)"
   ]
  },
  {
   "cell_type": "markdown",
   "metadata": {},
   "source": [
    "## Methodology\n",
    "\n",
    "The goal is to determine the \"model\" schools in a certain ratio. We'll define those \"models\" as schools that had a great grown and stands nearby \"high risk\" schools, the ones in the lowest strata. For that, we construct the model below with suggestions by Ragazzo.\n",
    "\n",
    "The original analysis looked only to IDEB. Now, we focus on SAEB scores, a subcomponent of IDEB that is achieveable in only one way.\n",
    "\n",
    "We are interested in the following groups:\n",
    " - Group 1: Schools from very low (< 4) to high (> 6)\n",
    " - Group 2: Schools from low (4 < x < 5) to high (> 6)\n",
    " - Group 3: Schools went to high (> 6) with delta > 2\n",
    " \n",
    "The *attention level* (or risk) of a school is defined by which quartile it belongs on IDEB 2017 distribution (most recent), from the lowest quartile (level 4) to the highest (level 1).\n",
    "\n",
    "## Results\n",
    "\n",
    "1. [Identify the schools with most SAEB variation from 2005 to 2017](#1)\n",
    "\n",
    "2. [Identify schools that jumped from low / very low SAEB (<5 / <4) and went to high SAEB (> 6), from 2005 to 2017](#2)\n",
    "\n",
    "2. [Model neighboors: which schools had a large delta and were nearby schools on the highest attention level (4)?](#3)\n",
    "\n",
    "5. See if the education census contains information on who was the principal of each school each year."
   ]
  },
  {
   "cell_type": "markdown",
   "metadata": {},
   "source": [
    "### Import data"
   ]
  },
  {
   "cell_type": "code",
   "execution_count": 7,
   "metadata": {},
   "outputs": [
    {
     "data": {
      "text/plain": [
       "'/home/almeida2808/Dropbox/my_cloud/SeN/Demandas Pontuais/Professores/Ragazzo/Educação/pr-educacao/notebooks'"
      ]
     },
     "execution_count": 7,
     "metadata": {},
     "output_type": "execute_result"
    }
   ],
   "source": [
    "import os\n",
    "os.getcwd()"
   ]
  },
  {
   "cell_type": "code",
   "execution_count": 8,
   "metadata": {},
   "outputs": [],
   "source": [
    "proto_kepler = pd.read_csv(OUTPUT_PATH / \"ideb_merged_kepler.csv\", index_col=0)"
   ]
  },
  {
   "cell_type": "code",
   "execution_count": 29,
   "metadata": {
    "scrolled": true
   },
   "outputs": [
    {
     "data": {
      "text/html": [
       "<div>\n",
       "<style scoped>\n",
       "    .dataframe tbody tr th:only-of-type {\n",
       "        vertical-align: middle;\n",
       "    }\n",
       "\n",
       "    .dataframe tbody tr th {\n",
       "        vertical-align: top;\n",
       "    }\n",
       "\n",
       "    .dataframe thead th {\n",
       "        text-align: right;\n",
       "    }\n",
       "</style>\n",
       "<table border=\"1\" class=\"dataframe\">\n",
       "  <thead>\n",
       "    <tr style=\"text-align: right;\">\n",
       "      <th></th>\n",
       "      <th>ano</th>\n",
       "      <th>cod_inep</th>\n",
       "      <th>geometry</th>\n",
       "      <th>ideb</th>\n",
       "      <th>nome_abrev</th>\n",
       "      <th>nome_escola</th>\n",
       "      <th>lon</th>\n",
       "      <th>lat</th>\n",
       "    </tr>\n",
       "  </thead>\n",
       "  <tbody>\n",
       "    <tr>\n",
       "      <th>0</th>\n",
       "      <td>2005</td>\n",
       "      <td>33140111</td>\n",
       "      <td>POINT (-43.63601828509798 -22.98632664816865)</td>\n",
       "      <td>3.6</td>\n",
       "      <td>EM EMMA D'AVILA DE CAMILLIS</td>\n",
       "      <td>1026018 ESCOLA MUNICIPAL EMMA DAVILA DE CAMILLIS</td>\n",
       "      <td>-43.636018</td>\n",
       "      <td>-22.986327</td>\n",
       "    </tr>\n",
       "    <tr>\n",
       "      <th>1</th>\n",
       "      <td>2005</td>\n",
       "      <td>33140120</td>\n",
       "      <td>POINT (-43.63061141412631 -22.92095886212502)</td>\n",
       "      <td>4.0</td>\n",
       "      <td>EM MANOEL PORTO FILHO</td>\n",
       "      <td>1019060 ESCOLA MUNICIPAL MANOEL PORTO FILHO</td>\n",
       "      <td>-43.630611</td>\n",
       "      <td>-22.920959</td>\n",
       "    </tr>\n",
       "    <tr>\n",
       "      <th>2</th>\n",
       "      <td>2005</td>\n",
       "      <td>33140154</td>\n",
       "      <td>POINT (-43.65817006396811 -22.93248534941013)</td>\n",
       "      <td>4.0</td>\n",
       "      <td>EM PROF° JORGE GONÇALVES FARINHA</td>\n",
       "      <td>1019059 ESCOLA MUNICIPAL PROFESSOR JORGE GONCA...</td>\n",
       "      <td>-43.658170</td>\n",
       "      <td>-22.932485</td>\n",
       "    </tr>\n",
       "    <tr>\n",
       "      <th>3</th>\n",
       "      <td>2005</td>\n",
       "      <td>33146136</td>\n",
       "      <td>POINT (-43.62796962386766 -23.00163603612894)</td>\n",
       "      <td>5.1</td>\n",
       "      <td>EM PROFª  ELISA JOAQUINA DALTRO PEIXOTO</td>\n",
       "      <td>1026020 ESCOLA MUNICIPAL PROFESSORA ELISA JOAQ...</td>\n",
       "      <td>-43.627970</td>\n",
       "      <td>-23.001636</td>\n",
       "    </tr>\n",
       "    <tr>\n",
       "      <th>6</th>\n",
       "      <td>2005</td>\n",
       "      <td>33074763</td>\n",
       "      <td>POINT (-43.34848701721742 -22.84106860685418)</td>\n",
       "      <td>4.6</td>\n",
       "      <td>EM VELINDA MAURÍCIO DA FONSECA</td>\n",
       "      <td>0515009 ESCOLA MUNICIPAL VELINDA MAURICIO DA F...</td>\n",
       "      <td>-43.348487</td>\n",
       "      <td>-22.841069</td>\n",
       "    </tr>\n",
       "  </tbody>\n",
       "</table>\n",
       "</div>"
      ],
      "text/plain": [
       "    ano  cod_inep                                       geometry  ideb  \\\n",
       "0  2005  33140111  POINT (-43.63601828509798 -22.98632664816865)   3.6   \n",
       "1  2005  33140120  POINT (-43.63061141412631 -22.92095886212502)   4.0   \n",
       "2  2005  33140154  POINT (-43.65817006396811 -22.93248534941013)   4.0   \n",
       "3  2005  33146136  POINT (-43.62796962386766 -23.00163603612894)   5.1   \n",
       "6  2005  33074763  POINT (-43.34848701721742 -22.84106860685418)   4.6   \n",
       "\n",
       "                                nome_abrev  \\\n",
       "0              EM EMMA D'AVILA DE CAMILLIS   \n",
       "1                    EM MANOEL PORTO FILHO   \n",
       "2         EM PROF° JORGE GONÇALVES FARINHA   \n",
       "3  EM PROFª  ELISA JOAQUINA DALTRO PEIXOTO   \n",
       "6           EM VELINDA MAURÍCIO DA FONSECA   \n",
       "\n",
       "                                         nome_escola        lon        lat  \n",
       "0   1026018 ESCOLA MUNICIPAL EMMA DAVILA DE CAMILLIS -43.636018 -22.986327  \n",
       "1        1019060 ESCOLA MUNICIPAL MANOEL PORTO FILHO -43.630611 -22.920959  \n",
       "2  1019059 ESCOLA MUNICIPAL PROFESSOR JORGE GONCA... -43.658170 -22.932485  \n",
       "3  1026020 ESCOLA MUNICIPAL PROFESSORA ELISA JOAQ... -43.627970 -23.001636  \n",
       "6  0515009 ESCOLA MUNICIPAL VELINDA MAURICIO DA F... -43.348487 -22.841069  "
      ]
     },
     "execution_count": 29,
     "metadata": {},
     "output_type": "execute_result"
    }
   ],
   "source": [
    "proto_kepler[\"ano\"] = proto_kepler[\"ano\"].apply(lambda x: int(x[0:4]))\n",
    "proto_kepler.head()"
   ]
  },
  {
   "cell_type": "code",
   "execution_count": 37,
   "metadata": {},
   "outputs": [],
   "source": [
    "proto_kepler[\"inep_ano\"] = proto_kepler.apply(lambda x: str(x.cod_inep) + \"_\" + str(x.ano), axis = 1)"
   ]
  },
  {
   "cell_type": "code",
   "execution_count": 11,
   "metadata": {},
   "outputs": [
    {
     "data": {
      "text/plain": [
       "817"
      ]
     },
     "execution_count": 11,
     "metadata": {},
     "output_type": "execute_result"
    }
   ],
   "source": [
    "proto_kepler.cod_inep.nunique()"
   ]
  },
  {
   "cell_type": "code",
   "execution_count": 26,
   "metadata": {
    "scrolled": true
   },
   "outputs": [
    {
     "data": {
      "text/html": [
       "<div>\n",
       "<style scoped>\n",
       "    .dataframe tbody tr th:only-of-type {\n",
       "        vertical-align: middle;\n",
       "    }\n",
       "\n",
       "    .dataframe tbody tr th {\n",
       "        vertical-align: top;\n",
       "    }\n",
       "\n",
       "    .dataframe thead th {\n",
       "        text-align: right;\n",
       "    }\n",
       "</style>\n",
       "<table border=\"1\" class=\"dataframe\">\n",
       "  <thead>\n",
       "    <tr style=\"text-align: right;\">\n",
       "      <th></th>\n",
       "      <th>saeb_2005_media_padrao</th>\n",
       "      <th>saeb_2007_media_padrao</th>\n",
       "      <th>saeb_2009_media_padrao</th>\n",
       "      <th>saeb_2011_media_padrao</th>\n",
       "      <th>saeb_2013_media_padrao</th>\n",
       "      <th>saeb_2015_media_padrao</th>\n",
       "      <th>saeb_2017_media_padrao</th>\n",
       "      <th>cod_inep</th>\n",
       "    </tr>\n",
       "  </thead>\n",
       "  <tbody>\n",
       "    <tr>\n",
       "      <th>0</th>\n",
       "      <td>4.287994854</td>\n",
       "      <td>-</td>\n",
       "      <td>-</td>\n",
       "      <td>4.774195</td>\n",
       "      <td>4.712133935</td>\n",
       "      <td>5.293360167</td>\n",
       "      <td>5.850869535045106</td>\n",
       "      <td>33062358.0</td>\n",
       "    </tr>\n",
       "    <tr>\n",
       "      <th>1</th>\n",
       "      <td>5.010575769</td>\n",
       "      <td>4.816703678</td>\n",
       "      <td>5.996371964</td>\n",
       "      <td>6.63075434</td>\n",
       "      <td>6.289520472</td>\n",
       "      <td>6.248212353</td>\n",
       "      <td>5.678480222068009</td>\n",
       "      <td>33062420.0</td>\n",
       "    </tr>\n",
       "    <tr>\n",
       "      <th>2</th>\n",
       "      <td>4.29645912</td>\n",
       "      <td>4.093843164</td>\n",
       "      <td>5.516517696</td>\n",
       "      <td>5.05844414</td>\n",
       "      <td>5.660357391</td>\n",
       "      <td>6.211515614</td>\n",
       "      <td>6.183916030534351</td>\n",
       "      <td>33062439.0</td>\n",
       "    </tr>\n",
       "    <tr>\n",
       "      <th>3</th>\n",
       "      <td>4.418246017</td>\n",
       "      <td>4.164991672</td>\n",
       "      <td>-</td>\n",
       "      <td>5.462483</td>\n",
       "      <td>5.828477446</td>\n",
       "      <td>5.698014573</td>\n",
       "      <td>5.90458986814712</td>\n",
       "      <td>33062447.0</td>\n",
       "    </tr>\n",
       "    <tr>\n",
       "      <th>4</th>\n",
       "      <td>5.085307695</td>\n",
       "      <td>5.164491325</td>\n",
       "      <td>5.292430257</td>\n",
       "      <td>5.87386051</td>\n",
       "      <td>6.433638446</td>\n",
       "      <td>6.071360861</td>\n",
       "      <td>6.084149895905622</td>\n",
       "      <td>33062455.0</td>\n",
       "    </tr>\n",
       "  </tbody>\n",
       "</table>\n",
       "</div>"
      ],
      "text/plain": [
       "  saeb_2005_media_padrao saeb_2007_media_padrao saeb_2009_media_padrao  \\\n",
       "0            4.287994854                      -                      -   \n",
       "1            5.010575769            4.816703678            5.996371964   \n",
       "2             4.29645912            4.093843164            5.516517696   \n",
       "3            4.418246017            4.164991672                      -   \n",
       "4            5.085307695            5.164491325            5.292430257   \n",
       "\n",
       "  saeb_2011_media_padrao saeb_2013_media_padrao saeb_2015_media_padrao  \\\n",
       "0               4.774195            4.712133935            5.293360167   \n",
       "1             6.63075434            6.289520472            6.248212353   \n",
       "2             5.05844414            5.660357391            6.211515614   \n",
       "3               5.462483            5.828477446            5.698014573   \n",
       "4             5.87386051            6.433638446            6.071360861   \n",
       "\n",
       "  saeb_2017_media_padrao    cod_inep  \n",
       "0      5.850869535045106  33062358.0  \n",
       "1      5.678480222068009  33062420.0  \n",
       "2      6.183916030534351  33062439.0  \n",
       "3       5.90458986814712  33062447.0  \n",
       "4      6.084149895905622  33062455.0  "
      ]
     },
     "execution_count": 26,
     "metadata": {},
     "output_type": "execute_result"
    }
   ],
   "source": [
    "#import SAEB data\n",
    "saeb_rio = pd.read_csv(\"../data/treated/ideb_rio.csv\")\n",
    "saebs = [x for x in saeb_rio.columns if \"media_padrao\" in x]\n",
    "saebs.append('cod_inep')\n",
    "saeb_rio = saeb_rio[saebs]\n",
    "saeb_rio.head()"
   ]
  },
  {
   "cell_type": "code",
   "execution_count": 31,
   "metadata": {},
   "outputs": [
    {
     "data": {
      "text/html": [
       "<div>\n",
       "<style scoped>\n",
       "    .dataframe tbody tr th:only-of-type {\n",
       "        vertical-align: middle;\n",
       "    }\n",
       "\n",
       "    .dataframe tbody tr th {\n",
       "        vertical-align: top;\n",
       "    }\n",
       "\n",
       "    .dataframe thead th {\n",
       "        text-align: right;\n",
       "    }\n",
       "</style>\n",
       "<table border=\"1\" class=\"dataframe\">\n",
       "  <thead>\n",
       "    <tr style=\"text-align: right;\">\n",
       "      <th></th>\n",
       "      <th>saeb_2005_media_padrao</th>\n",
       "      <th>saeb_2007_media_padrao</th>\n",
       "      <th>saeb_2009_media_padrao</th>\n",
       "      <th>saeb_2011_media_padrao</th>\n",
       "      <th>saeb_2013_media_padrao</th>\n",
       "      <th>saeb_2015_media_padrao</th>\n",
       "      <th>saeb_2017_media_padrao</th>\n",
       "      <th>cod_inep</th>\n",
       "    </tr>\n",
       "  </thead>\n",
       "  <tbody>\n",
       "    <tr>\n",
       "      <th>0</th>\n",
       "      <td>4.287995</td>\n",
       "      <td>NaN</td>\n",
       "      <td>NaN</td>\n",
       "      <td>4.774195</td>\n",
       "      <td>4.712134</td>\n",
       "      <td>5.293360</td>\n",
       "      <td>5.850870</td>\n",
       "      <td>33062358.0</td>\n",
       "    </tr>\n",
       "    <tr>\n",
       "      <th>1</th>\n",
       "      <td>5.010576</td>\n",
       "      <td>4.816704</td>\n",
       "      <td>5.996372</td>\n",
       "      <td>6.630754</td>\n",
       "      <td>6.289520</td>\n",
       "      <td>6.248212</td>\n",
       "      <td>5.678480</td>\n",
       "      <td>33062420.0</td>\n",
       "    </tr>\n",
       "    <tr>\n",
       "      <th>2</th>\n",
       "      <td>4.296459</td>\n",
       "      <td>4.093843</td>\n",
       "      <td>5.516518</td>\n",
       "      <td>5.058444</td>\n",
       "      <td>5.660357</td>\n",
       "      <td>6.211516</td>\n",
       "      <td>6.183916</td>\n",
       "      <td>33062439.0</td>\n",
       "    </tr>\n",
       "    <tr>\n",
       "      <th>3</th>\n",
       "      <td>4.418246</td>\n",
       "      <td>4.164992</td>\n",
       "      <td>NaN</td>\n",
       "      <td>5.462483</td>\n",
       "      <td>5.828477</td>\n",
       "      <td>5.698015</td>\n",
       "      <td>5.904590</td>\n",
       "      <td>33062447.0</td>\n",
       "    </tr>\n",
       "    <tr>\n",
       "      <th>4</th>\n",
       "      <td>5.085308</td>\n",
       "      <td>5.164491</td>\n",
       "      <td>5.292430</td>\n",
       "      <td>5.873861</td>\n",
       "      <td>6.433638</td>\n",
       "      <td>6.071361</td>\n",
       "      <td>6.084150</td>\n",
       "      <td>33062455.0</td>\n",
       "    </tr>\n",
       "  </tbody>\n",
       "</table>\n",
       "</div>"
      ],
      "text/plain": [
       "   saeb_2005_media_padrao  saeb_2007_media_padrao  saeb_2009_media_padrao  \\\n",
       "0                4.287995                     NaN                     NaN   \n",
       "1                5.010576                4.816704                5.996372   \n",
       "2                4.296459                4.093843                5.516518   \n",
       "3                4.418246                4.164992                     NaN   \n",
       "4                5.085308                5.164491                5.292430   \n",
       "\n",
       "   saeb_2011_media_padrao  saeb_2013_media_padrao  saeb_2015_media_padrao  \\\n",
       "0                4.774195                4.712134                5.293360   \n",
       "1                6.630754                6.289520                6.248212   \n",
       "2                5.058444                5.660357                6.211516   \n",
       "3                5.462483                5.828477                5.698015   \n",
       "4                5.873861                6.433638                6.071361   \n",
       "\n",
       "   saeb_2017_media_padrao    cod_inep  \n",
       "0                5.850870  33062358.0  \n",
       "1                5.678480  33062420.0  \n",
       "2                6.183916  33062439.0  \n",
       "3                5.904590  33062447.0  \n",
       "4                6.084150  33062455.0  "
      ]
     },
     "execution_count": 31,
     "metadata": {},
     "output_type": "execute_result"
    }
   ],
   "source": [
    "for column in saeb_rio.columns:\n",
    "    if column[0:5] == \"saeb_\":\n",
    "        saeb_rio[column] = saeb_rio[column].apply(lambda x: float(x) if x != \"-\" else np.nan)\n",
    "saeb_rio.head()"
   ]
  },
  {
   "cell_type": "code",
   "execution_count": 32,
   "metadata": {},
   "outputs": [
    {
     "data": {
      "text/plain": [
       "(867, 8)"
      ]
     },
     "execution_count": 32,
     "metadata": {},
     "output_type": "execute_result"
    }
   ],
   "source": [
    "saeb_rio.shape"
   ]
  },
  {
   "cell_type": "code",
   "execution_count": 33,
   "metadata": {},
   "outputs": [
    {
     "data": {
      "text/html": [
       "<div>\n",
       "<style scoped>\n",
       "    .dataframe tbody tr th:only-of-type {\n",
       "        vertical-align: middle;\n",
       "    }\n",
       "\n",
       "    .dataframe tbody tr th {\n",
       "        vertical-align: top;\n",
       "    }\n",
       "\n",
       "    .dataframe thead th {\n",
       "        text-align: right;\n",
       "    }\n",
       "</style>\n",
       "<table border=\"1\" class=\"dataframe\">\n",
       "  <thead>\n",
       "    <tr style=\"text-align: right;\">\n",
       "      <th></th>\n",
       "      <th>cod_inep</th>\n",
       "      <th>variable</th>\n",
       "      <th>value</th>\n",
       "    </tr>\n",
       "  </thead>\n",
       "  <tbody>\n",
       "    <tr>\n",
       "      <th>0</th>\n",
       "      <td>33062358.0</td>\n",
       "      <td>saeb_2005_media_padrao</td>\n",
       "      <td>4.287995</td>\n",
       "    </tr>\n",
       "    <tr>\n",
       "      <th>1</th>\n",
       "      <td>33062420.0</td>\n",
       "      <td>saeb_2005_media_padrao</td>\n",
       "      <td>5.010576</td>\n",
       "    </tr>\n",
       "    <tr>\n",
       "      <th>2</th>\n",
       "      <td>33062439.0</td>\n",
       "      <td>saeb_2005_media_padrao</td>\n",
       "      <td>4.296459</td>\n",
       "    </tr>\n",
       "    <tr>\n",
       "      <th>3</th>\n",
       "      <td>33062447.0</td>\n",
       "      <td>saeb_2005_media_padrao</td>\n",
       "      <td>4.418246</td>\n",
       "    </tr>\n",
       "    <tr>\n",
       "      <th>4</th>\n",
       "      <td>33062455.0</td>\n",
       "      <td>saeb_2005_media_padrao</td>\n",
       "      <td>5.085308</td>\n",
       "    </tr>\n",
       "  </tbody>\n",
       "</table>\n",
       "</div>"
      ],
      "text/plain": [
       "     cod_inep                variable     value\n",
       "0  33062358.0  saeb_2005_media_padrao  4.287995\n",
       "1  33062420.0  saeb_2005_media_padrao  5.010576\n",
       "2  33062439.0  saeb_2005_media_padrao  4.296459\n",
       "3  33062447.0  saeb_2005_media_padrao  4.418246\n",
       "4  33062455.0  saeb_2005_media_padrao  5.085308"
      ]
     },
     "execution_count": 33,
     "metadata": {},
     "output_type": "execute_result"
    }
   ],
   "source": [
    "saeb_rio_long = pd.melt(saeb_rio, id_vars = \"cod_inep\")\n",
    "saeb_rio_long.head()"
   ]
  },
  {
   "cell_type": "code",
   "execution_count": 34,
   "metadata": {},
   "outputs": [],
   "source": [
    "saeb_rio_long.columns = [\"cod_inep\", \"origem\", \"saeb\"]"
   ]
  },
  {
   "cell_type": "code",
   "execution_count": 44,
   "metadata": {},
   "outputs": [
    {
     "data": {
      "text/html": [
       "<div>\n",
       "<style scoped>\n",
       "    .dataframe tbody tr th:only-of-type {\n",
       "        vertical-align: middle;\n",
       "    }\n",
       "\n",
       "    .dataframe tbody tr th {\n",
       "        vertical-align: top;\n",
       "    }\n",
       "\n",
       "    .dataframe thead th {\n",
       "        text-align: right;\n",
       "    }\n",
       "</style>\n",
       "<table border=\"1\" class=\"dataframe\">\n",
       "  <thead>\n",
       "    <tr style=\"text-align: right;\">\n",
       "      <th></th>\n",
       "      <th>cod_inep</th>\n",
       "      <th>origem</th>\n",
       "      <th>saeb</th>\n",
       "      <th>ano</th>\n",
       "      <th>inep_ano</th>\n",
       "    </tr>\n",
       "  </thead>\n",
       "  <tbody>\n",
       "    <tr>\n",
       "      <th>0</th>\n",
       "      <td>33062358.0</td>\n",
       "      <td>saeb_2005_media_padrao</td>\n",
       "      <td>4.287995</td>\n",
       "      <td>2005</td>\n",
       "      <td>33062358_2005</td>\n",
       "    </tr>\n",
       "    <tr>\n",
       "      <th>1</th>\n",
       "      <td>33062420.0</td>\n",
       "      <td>saeb_2005_media_padrao</td>\n",
       "      <td>5.010576</td>\n",
       "      <td>2005</td>\n",
       "      <td>33062420_2005</td>\n",
       "    </tr>\n",
       "    <tr>\n",
       "      <th>2</th>\n",
       "      <td>33062439.0</td>\n",
       "      <td>saeb_2005_media_padrao</td>\n",
       "      <td>4.296459</td>\n",
       "      <td>2005</td>\n",
       "      <td>33062439_2005</td>\n",
       "    </tr>\n",
       "    <tr>\n",
       "      <th>3</th>\n",
       "      <td>33062447.0</td>\n",
       "      <td>saeb_2005_media_padrao</td>\n",
       "      <td>4.418246</td>\n",
       "      <td>2005</td>\n",
       "      <td>33062447_2005</td>\n",
       "    </tr>\n",
       "    <tr>\n",
       "      <th>4</th>\n",
       "      <td>33062455.0</td>\n",
       "      <td>saeb_2005_media_padrao</td>\n",
       "      <td>5.085308</td>\n",
       "      <td>2005</td>\n",
       "      <td>33062455_2005</td>\n",
       "    </tr>\n",
       "  </tbody>\n",
       "</table>\n",
       "</div>"
      ],
      "text/plain": [
       "     cod_inep                  origem      saeb   ano       inep_ano\n",
       "0  33062358.0  saeb_2005_media_padrao  4.287995  2005  33062358_2005\n",
       "1  33062420.0  saeb_2005_media_padrao  5.010576  2005  33062420_2005\n",
       "2  33062439.0  saeb_2005_media_padrao  4.296459  2005  33062439_2005\n",
       "3  33062447.0  saeb_2005_media_padrao  4.418246  2005  33062447_2005\n",
       "4  33062455.0  saeb_2005_media_padrao  5.085308  2005  33062455_2005"
      ]
     },
     "execution_count": 44,
     "metadata": {},
     "output_type": "execute_result"
    }
   ],
   "source": [
    "saeb_rio_long[\"ano\"] = saeb_rio_long[\"origem\"].apply(lambda x: int(x[5:9]))\n",
    "saeb_rio_long.head()"
   ]
  },
  {
   "cell_type": "code",
   "execution_count": 43,
   "metadata": {},
   "outputs": [],
   "source": [
    "saeb_rio_long[\"inep_ano\"] = saeb_rio_long.apply(lambda x: str(int(x.cod_inep)) + \"_\" + str(x.ano), axis = 1)"
   ]
  },
  {
   "cell_type": "code",
   "execution_count": 45,
   "metadata": {},
   "outputs": [
    {
     "data": {
      "text/html": [
       "<div>\n",
       "<style scoped>\n",
       "    .dataframe tbody tr th:only-of-type {\n",
       "        vertical-align: middle;\n",
       "    }\n",
       "\n",
       "    .dataframe tbody tr th {\n",
       "        vertical-align: top;\n",
       "    }\n",
       "\n",
       "    .dataframe thead th {\n",
       "        text-align: right;\n",
       "    }\n",
       "</style>\n",
       "<table border=\"1\" class=\"dataframe\">\n",
       "  <thead>\n",
       "    <tr style=\"text-align: right;\">\n",
       "      <th></th>\n",
       "      <th>ano</th>\n",
       "      <th>cod_inep</th>\n",
       "      <th>geometry</th>\n",
       "      <th>ideb</th>\n",
       "      <th>nome_abrev</th>\n",
       "      <th>nome_escola</th>\n",
       "      <th>lon</th>\n",
       "      <th>lat</th>\n",
       "      <th>inep_ano</th>\n",
       "      <th>saeb</th>\n",
       "    </tr>\n",
       "  </thead>\n",
       "  <tbody>\n",
       "    <tr>\n",
       "      <th>0</th>\n",
       "      <td>2005</td>\n",
       "      <td>33140111</td>\n",
       "      <td>POINT (-43.63601828509798 -22.98632664816865)</td>\n",
       "      <td>3.6</td>\n",
       "      <td>EM EMMA D'AVILA DE CAMILLIS</td>\n",
       "      <td>1026018 ESCOLA MUNICIPAL EMMA DAVILA DE CAMILLIS</td>\n",
       "      <td>-43.636018</td>\n",
       "      <td>-22.986327</td>\n",
       "      <td>33140111_2005</td>\n",
       "      <td>4.454667</td>\n",
       "    </tr>\n",
       "    <tr>\n",
       "      <th>1</th>\n",
       "      <td>2005</td>\n",
       "      <td>33140120</td>\n",
       "      <td>POINT (-43.63061141412631 -22.92095886212502)</td>\n",
       "      <td>4.0</td>\n",
       "      <td>EM MANOEL PORTO FILHO</td>\n",
       "      <td>1019060 ESCOLA MUNICIPAL MANOEL PORTO FILHO</td>\n",
       "      <td>-43.630611</td>\n",
       "      <td>-22.920959</td>\n",
       "      <td>33140120_2005</td>\n",
       "      <td>4.342673</td>\n",
       "    </tr>\n",
       "    <tr>\n",
       "      <th>2</th>\n",
       "      <td>2005</td>\n",
       "      <td>33140154</td>\n",
       "      <td>POINT (-43.65817006396811 -22.93248534941013)</td>\n",
       "      <td>4.0</td>\n",
       "      <td>EM PROF° JORGE GONÇALVES FARINHA</td>\n",
       "      <td>1019059 ESCOLA MUNICIPAL PROFESSOR JORGE GONCA...</td>\n",
       "      <td>-43.658170</td>\n",
       "      <td>-22.932485</td>\n",
       "      <td>33140154_2005</td>\n",
       "      <td>4.107117</td>\n",
       "    </tr>\n",
       "    <tr>\n",
       "      <th>3</th>\n",
       "      <td>2005</td>\n",
       "      <td>33146136</td>\n",
       "      <td>POINT (-43.62796962386766 -23.00163603612894)</td>\n",
       "      <td>5.1</td>\n",
       "      <td>EM PROFª  ELISA JOAQUINA DALTRO PEIXOTO</td>\n",
       "      <td>1026020 ESCOLA MUNICIPAL PROFESSORA ELISA JOAQ...</td>\n",
       "      <td>-43.627970</td>\n",
       "      <td>-23.001636</td>\n",
       "      <td>33146136_2005</td>\n",
       "      <td>5.225543</td>\n",
       "    </tr>\n",
       "    <tr>\n",
       "      <th>4</th>\n",
       "      <td>2005</td>\n",
       "      <td>33074763</td>\n",
       "      <td>POINT (-43.34848701721742 -22.84106860685418)</td>\n",
       "      <td>4.6</td>\n",
       "      <td>EM VELINDA MAURÍCIO DA FONSECA</td>\n",
       "      <td>0515009 ESCOLA MUNICIPAL VELINDA MAURICIO DA F...</td>\n",
       "      <td>-43.348487</td>\n",
       "      <td>-22.841069</td>\n",
       "      <td>33074763_2005</td>\n",
       "      <td>4.808740</td>\n",
       "    </tr>\n",
       "  </tbody>\n",
       "</table>\n",
       "</div>"
      ],
      "text/plain": [
       "    ano  cod_inep                                       geometry  ideb  \\\n",
       "0  2005  33140111  POINT (-43.63601828509798 -22.98632664816865)   3.6   \n",
       "1  2005  33140120  POINT (-43.63061141412631 -22.92095886212502)   4.0   \n",
       "2  2005  33140154  POINT (-43.65817006396811 -22.93248534941013)   4.0   \n",
       "3  2005  33146136  POINT (-43.62796962386766 -23.00163603612894)   5.1   \n",
       "4  2005  33074763  POINT (-43.34848701721742 -22.84106860685418)   4.6   \n",
       "\n",
       "                                nome_abrev  \\\n",
       "0              EM EMMA D'AVILA DE CAMILLIS   \n",
       "1                    EM MANOEL PORTO FILHO   \n",
       "2         EM PROF° JORGE GONÇALVES FARINHA   \n",
       "3  EM PROFª  ELISA JOAQUINA DALTRO PEIXOTO   \n",
       "4           EM VELINDA MAURÍCIO DA FONSECA   \n",
       "\n",
       "                                         nome_escola        lon        lat  \\\n",
       "0   1026018 ESCOLA MUNICIPAL EMMA DAVILA DE CAMILLIS -43.636018 -22.986327   \n",
       "1        1019060 ESCOLA MUNICIPAL MANOEL PORTO FILHO -43.630611 -22.920959   \n",
       "2  1019059 ESCOLA MUNICIPAL PROFESSOR JORGE GONCA... -43.658170 -22.932485   \n",
       "3  1026020 ESCOLA MUNICIPAL PROFESSORA ELISA JOAQ... -43.627970 -23.001636   \n",
       "4  0515009 ESCOLA MUNICIPAL VELINDA MAURICIO DA F... -43.348487 -22.841069   \n",
       "\n",
       "        inep_ano      saeb  \n",
       "0  33140111_2005  4.454667  \n",
       "1  33140120_2005  4.342673  \n",
       "2  33140154_2005  4.107117  \n",
       "3  33146136_2005  5.225543  \n",
       "4  33074763_2005  4.808740  "
      ]
     },
     "execution_count": 45,
     "metadata": {},
     "output_type": "execute_result"
    }
   ],
   "source": [
    "joined_data = pd.merge(proto_kepler, saeb_rio_long[[\"inep_ano\", \"saeb\"]], how = \"left\", on = \"inep_ano\")\n",
    "joined_data.head()"
   ]
  },
  {
   "cell_type": "markdown",
   "metadata": {},
   "source": [
    "### SAEB marks distribution"
   ]
  },
  {
   "cell_type": "code",
   "execution_count": 47,
   "metadata": {},
   "outputs": [
    {
     "data": {
      "image/png": "[encoded data removed]",
      "text/plain": [
       "<Figure size 1080x720 with 1 Axes>"
      ]
     },
     "metadata": {},
     "output_type": "display_data"
    }
   ],
   "source": [
    "pylab.rcParams['figure.figsize'] = (15, 10)\n",
    "ax = sns.boxplot(x='ano', y='saeb', data=joined_data, \n",
    "            color=palette[0], saturation=0.8, linewidth=2,\n",
    "            showmeans=True, meanline=True)"
   ]
  },
  {
   "cell_type": "code",
   "execution_count": 48,
   "metadata": {},
   "outputs": [
    {
     "data": {
      "text/html": [
       "<div>\n",
       "<style scoped>\n",
       "    .dataframe tbody tr th:only-of-type {\n",
       "        vertical-align: middle;\n",
       "    }\n",
       "\n",
       "    .dataframe tbody tr th {\n",
       "        vertical-align: top;\n",
       "    }\n",
       "\n",
       "    .dataframe thead th {\n",
       "        text-align: right;\n",
       "    }\n",
       "</style>\n",
       "<table border=\"1\" class=\"dataframe\">\n",
       "  <thead>\n",
       "    <tr style=\"text-align: right;\">\n",
       "      <th>ano</th>\n",
       "      <th>2005</th>\n",
       "      <th>2007</th>\n",
       "      <th>2009</th>\n",
       "      <th>2011</th>\n",
       "      <th>2013</th>\n",
       "      <th>2015</th>\n",
       "      <th>2017</th>\n",
       "    </tr>\n",
       "  </thead>\n",
       "  <tbody>\n",
       "    <tr>\n",
       "      <th>count</th>\n",
       "      <td>709.000000</td>\n",
       "      <td>726.000000</td>\n",
       "      <td>710.000000</td>\n",
       "      <td>696.000000</td>\n",
       "      <td>662.000000</td>\n",
       "      <td>624.000000</td>\n",
       "      <td>603.000000</td>\n",
       "    </tr>\n",
       "    <tr>\n",
       "      <th>mean</th>\n",
       "      <td>4.926260</td>\n",
       "      <td>4.882109</td>\n",
       "      <td>5.667888</td>\n",
       "      <td>6.018438</td>\n",
       "      <td>5.945578</td>\n",
       "      <td>6.162050</td>\n",
       "      <td>6.202683</td>\n",
       "    </tr>\n",
       "    <tr>\n",
       "      <th>std</th>\n",
       "      <td>0.497664</td>\n",
       "      <td>0.552088</td>\n",
       "      <td>0.576975</td>\n",
       "      <td>0.577551</td>\n",
       "      <td>0.621707</td>\n",
       "      <td>0.539846</td>\n",
       "      <td>0.535762</td>\n",
       "    </tr>\n",
       "    <tr>\n",
       "      <th>min</th>\n",
       "      <td>2.879167</td>\n",
       "      <td>3.047982</td>\n",
       "      <td>3.458352</td>\n",
       "      <td>4.491210</td>\n",
       "      <td>4.052633</td>\n",
       "      <td>4.693514</td>\n",
       "      <td>4.589047</td>\n",
       "    </tr>\n",
       "    <tr>\n",
       "      <th>25%</th>\n",
       "      <td>4.586241</td>\n",
       "      <td>4.534284</td>\n",
       "      <td>5.288942</td>\n",
       "      <td>5.642032</td>\n",
       "      <td>5.541010</td>\n",
       "      <td>5.776582</td>\n",
       "      <td>5.844923</td>\n",
       "    </tr>\n",
       "    <tr>\n",
       "      <th>50%</th>\n",
       "      <td>4.911159</td>\n",
       "      <td>4.822771</td>\n",
       "      <td>5.648397</td>\n",
       "      <td>6.007469</td>\n",
       "      <td>5.916499</td>\n",
       "      <td>6.158078</td>\n",
       "      <td>6.180112</td>\n",
       "    </tr>\n",
       "    <tr>\n",
       "      <th>75%</th>\n",
       "      <td>5.232804</td>\n",
       "      <td>5.215788</td>\n",
       "      <td>5.997133</td>\n",
       "      <td>6.370454</td>\n",
       "      <td>6.332633</td>\n",
       "      <td>6.516095</td>\n",
       "      <td>6.521992</td>\n",
       "    </tr>\n",
       "    <tr>\n",
       "      <th>max</th>\n",
       "      <td>6.515071</td>\n",
       "      <td>7.217949</td>\n",
       "      <td>7.964557</td>\n",
       "      <td>8.528368</td>\n",
       "      <td>8.824924</td>\n",
       "      <td>8.405570</td>\n",
       "      <td>8.315635</td>\n",
       "    </tr>\n",
       "  </tbody>\n",
       "</table>\n",
       "</div>"
      ],
      "text/plain": [
       "ano          2005        2007        2009        2011        2013        2015  \\\n",
       "count  709.000000  726.000000  710.000000  696.000000  662.000000  624.000000   \n",
       "mean     4.926260    4.882109    5.667888    6.018438    5.945578    6.162050   \n",
       "std      0.497664    0.552088    0.576975    0.577551    0.621707    0.539846   \n",
       "min      2.879167    3.047982    3.458352    4.491210    4.052633    4.693514   \n",
       "25%      4.586241    4.534284    5.288942    5.642032    5.541010    5.776582   \n",
       "50%      4.911159    4.822771    5.648397    6.007469    5.916499    6.158078   \n",
       "75%      5.232804    5.215788    5.997133    6.370454    6.332633    6.516095   \n",
       "max      6.515071    7.217949    7.964557    8.528368    8.824924    8.405570   \n",
       "\n",
       "ano          2017  \n",
       "count  603.000000  \n",
       "mean     6.202683  \n",
       "std      0.535762  \n",
       "min      4.589047  \n",
       "25%      5.844923  \n",
       "50%      6.180112  \n",
       "75%      6.521992  \n",
       "max      8.315635  "
      ]
     },
     "execution_count": 48,
     "metadata": {},
     "output_type": "execute_result"
    }
   ],
   "source": [
    "ideb_stats = joined_data.pivot_table(columns='ano', index='cod_inep', values='saeb').describe()\n",
    "ideb_stats"
   ]
  },
  {
   "cell_type": "code",
   "execution_count": 49,
   "metadata": {},
   "outputs": [
    {
     "data": {
      "image/png": "[encoded data removed]",
      "text/plain": [
       "<Figure size 1080x720 with 1 Axes>"
      ]
     },
     "metadata": {},
     "output_type": "display_data"
    }
   ],
   "source": [
    "plt.plot(ideb_stats.loc['mean'], color=palette[2], marker='o') \n",
    "plt.fill_between(x= ideb_stats.loc['mean'].index,\n",
    "                y1=ideb_stats.loc['mean']-ideb_stats.loc['std'],\n",
    "                y2=ideb_stats.loc['mean']+ideb_stats.loc['std'], \n",
    "                alpha=0.2, facecolor=palette[1])\n",
    "\n",
    "# Meta nacional: 5\n",
    "x=ideb_stats.loc['mean'].index\n",
    "plt.plot(pd.Series([5 for i in range(len(x))], x), color=palette[-1], linestyle='dashed')\n",
    "\n",
    "#plt.fill_between(x, y-error, y+error)\n",
    "plt.show()"
   ]
  },
  {
   "cell_type": "markdown",
   "metadata": {},
   "source": [
    "<a id=\"1\"></a>\n",
    "## SAEB Growth \n",
    "### Identify the schools with most SAEB variation from 2005 to 2017"
   ]
  },
  {
   "cell_type": "code",
   "execution_count": 50,
   "metadata": {},
   "outputs": [
    {
     "data": {
      "text/html": [
       "<div>\n",
       "<style scoped>\n",
       "    .dataframe tbody tr th:only-of-type {\n",
       "        vertical-align: middle;\n",
       "    }\n",
       "\n",
       "    .dataframe tbody tr th {\n",
       "        vertical-align: top;\n",
       "    }\n",
       "\n",
       "    .dataframe thead th {\n",
       "        text-align: right;\n",
       "    }\n",
       "</style>\n",
       "<table border=\"1\" class=\"dataframe\">\n",
       "  <thead>\n",
       "    <tr style=\"text-align: right;\">\n",
       "      <th></th>\n",
       "      <th>ano</th>\n",
       "      <th>cod_inep</th>\n",
       "      <th>geometry</th>\n",
       "      <th>ideb</th>\n",
       "      <th>nome_abrev</th>\n",
       "      <th>nome_escola</th>\n",
       "      <th>lon</th>\n",
       "      <th>lat</th>\n",
       "      <th>inep_ano</th>\n",
       "      <th>saeb</th>\n",
       "    </tr>\n",
       "  </thead>\n",
       "  <tbody>\n",
       "    <tr>\n",
       "      <th>0</th>\n",
       "      <td>2005</td>\n",
       "      <td>33140111</td>\n",
       "      <td>POINT (-43.63601828509798 -22.98632664816865)</td>\n",
       "      <td>3.6</td>\n",
       "      <td>EM EMMA D'AVILA DE CAMILLIS</td>\n",
       "      <td>1026018 ESCOLA MUNICIPAL EMMA DAVILA DE CAMILLIS</td>\n",
       "      <td>-43.636018</td>\n",
       "      <td>-22.986327</td>\n",
       "      <td>33140111_2005</td>\n",
       "      <td>4.454667</td>\n",
       "    </tr>\n",
       "    <tr>\n",
       "      <th>1</th>\n",
       "      <td>2005</td>\n",
       "      <td>33140120</td>\n",
       "      <td>POINT (-43.63061141412631 -22.92095886212502)</td>\n",
       "      <td>4.0</td>\n",
       "      <td>EM MANOEL PORTO FILHO</td>\n",
       "      <td>1019060 ESCOLA MUNICIPAL MANOEL PORTO FILHO</td>\n",
       "      <td>-43.630611</td>\n",
       "      <td>-22.920959</td>\n",
       "      <td>33140120_2005</td>\n",
       "      <td>4.342673</td>\n",
       "    </tr>\n",
       "    <tr>\n",
       "      <th>2</th>\n",
       "      <td>2005</td>\n",
       "      <td>33140154</td>\n",
       "      <td>POINT (-43.65817006396811 -22.93248534941013)</td>\n",
       "      <td>4.0</td>\n",
       "      <td>EM PROF° JORGE GONÇALVES FARINHA</td>\n",
       "      <td>1019059 ESCOLA MUNICIPAL PROFESSOR JORGE GONCA...</td>\n",
       "      <td>-43.658170</td>\n",
       "      <td>-22.932485</td>\n",
       "      <td>33140154_2005</td>\n",
       "      <td>4.107117</td>\n",
       "    </tr>\n",
       "    <tr>\n",
       "      <th>3</th>\n",
       "      <td>2005</td>\n",
       "      <td>33146136</td>\n",
       "      <td>POINT (-43.62796962386766 -23.00163603612894)</td>\n",
       "      <td>5.1</td>\n",
       "      <td>EM PROFª  ELISA JOAQUINA DALTRO PEIXOTO</td>\n",
       "      <td>1026020 ESCOLA MUNICIPAL PROFESSORA ELISA JOAQ...</td>\n",
       "      <td>-43.627970</td>\n",
       "      <td>-23.001636</td>\n",
       "      <td>33146136_2005</td>\n",
       "      <td>5.225543</td>\n",
       "    </tr>\n",
       "    <tr>\n",
       "      <th>4</th>\n",
       "      <td>2005</td>\n",
       "      <td>33074763</td>\n",
       "      <td>POINT (-43.34848701721742 -22.84106860685418)</td>\n",
       "      <td>4.6</td>\n",
       "      <td>EM VELINDA MAURÍCIO DA FONSECA</td>\n",
       "      <td>0515009 ESCOLA MUNICIPAL VELINDA MAURICIO DA F...</td>\n",
       "      <td>-43.348487</td>\n",
       "      <td>-22.841069</td>\n",
       "      <td>33074763_2005</td>\n",
       "      <td>4.808740</td>\n",
       "    </tr>\n",
       "  </tbody>\n",
       "</table>\n",
       "</div>"
      ],
      "text/plain": [
       "    ano  cod_inep                                       geometry  ideb  \\\n",
       "0  2005  33140111  POINT (-43.63601828509798 -22.98632664816865)   3.6   \n",
       "1  2005  33140120  POINT (-43.63061141412631 -22.92095886212502)   4.0   \n",
       "2  2005  33140154  POINT (-43.65817006396811 -22.93248534941013)   4.0   \n",
       "3  2005  33146136  POINT (-43.62796962386766 -23.00163603612894)   5.1   \n",
       "4  2005  33074763  POINT (-43.34848701721742 -22.84106860685418)   4.6   \n",
       "\n",
       "                                nome_abrev  \\\n",
       "0              EM EMMA D'AVILA DE CAMILLIS   \n",
       "1                    EM MANOEL PORTO FILHO   \n",
       "2         EM PROF° JORGE GONÇALVES FARINHA   \n",
       "3  EM PROFª  ELISA JOAQUINA DALTRO PEIXOTO   \n",
       "4           EM VELINDA MAURÍCIO DA FONSECA   \n",
       "\n",
       "                                         nome_escola        lon        lat  \\\n",
       "0   1026018 ESCOLA MUNICIPAL EMMA DAVILA DE CAMILLIS -43.636018 -22.986327   \n",
       "1        1019060 ESCOLA MUNICIPAL MANOEL PORTO FILHO -43.630611 -22.920959   \n",
       "2  1019059 ESCOLA MUNICIPAL PROFESSOR JORGE GONCA... -43.658170 -22.932485   \n",
       "3  1026020 ESCOLA MUNICIPAL PROFESSORA ELISA JOAQ... -43.627970 -23.001636   \n",
       "4  0515009 ESCOLA MUNICIPAL VELINDA MAURICIO DA F... -43.348487 -22.841069   \n",
       "\n",
       "        inep_ano      saeb  \n",
       "0  33140111_2005  4.454667  \n",
       "1  33140120_2005  4.342673  \n",
       "2  33140154_2005  4.107117  \n",
       "3  33146136_2005  5.225543  \n",
       "4  33074763_2005  4.808740  "
      ]
     },
     "execution_count": 50,
     "metadata": {},
     "output_type": "execute_result"
    }
   ],
   "source": [
    "joined_data.head()"
   ]
  },
  {
   "cell_type": "code",
   "execution_count": 104,
   "metadata": {
    "scrolled": false
   },
   "outputs": [
    {
     "data": {
      "text/html": [
       "<div>\n",
       "<style scoped>\n",
       "    .dataframe tbody tr th:only-of-type {\n",
       "        vertical-align: middle;\n",
       "    }\n",
       "\n",
       "    .dataframe tbody tr th {\n",
       "        vertical-align: top;\n",
       "    }\n",
       "\n",
       "    .dataframe thead th {\n",
       "        text-align: right;\n",
       "    }\n",
       "</style>\n",
       "<table border=\"1\" class=\"dataframe\">\n",
       "  <thead>\n",
       "    <tr style=\"text-align: right;\">\n",
       "      <th>ano</th>\n",
       "      <th>2005</th>\n",
       "      <th>2007</th>\n",
       "      <th>2009</th>\n",
       "      <th>2011</th>\n",
       "      <th>2013</th>\n",
       "      <th>2015</th>\n",
       "      <th>2017</th>\n",
       "    </tr>\n",
       "    <tr>\n",
       "      <th>cod_inep</th>\n",
       "      <th></th>\n",
       "      <th></th>\n",
       "      <th></th>\n",
       "      <th></th>\n",
       "      <th></th>\n",
       "      <th></th>\n",
       "      <th></th>\n",
       "    </tr>\n",
       "  </thead>\n",
       "  <tbody>\n",
       "    <tr>\n",
       "      <th>33062358</th>\n",
       "      <td>4.287995</td>\n",
       "      <td>NaN</td>\n",
       "      <td>NaN</td>\n",
       "      <td>4.774195</td>\n",
       "      <td>4.712134</td>\n",
       "      <td>5.293360</td>\n",
       "      <td>5.850870</td>\n",
       "    </tr>\n",
       "    <tr>\n",
       "      <th>33062420</th>\n",
       "      <td>5.010576</td>\n",
       "      <td>4.816704</td>\n",
       "      <td>5.996372</td>\n",
       "      <td>6.630754</td>\n",
       "      <td>6.289520</td>\n",
       "      <td>6.248212</td>\n",
       "      <td>5.678480</td>\n",
       "    </tr>\n",
       "    <tr>\n",
       "      <th>33062439</th>\n",
       "      <td>4.296459</td>\n",
       "      <td>4.093843</td>\n",
       "      <td>5.516518</td>\n",
       "      <td>5.058444</td>\n",
       "      <td>5.660357</td>\n",
       "      <td>6.211516</td>\n",
       "      <td>6.183916</td>\n",
       "    </tr>\n",
       "    <tr>\n",
       "      <th>33062447</th>\n",
       "      <td>4.418246</td>\n",
       "      <td>4.164992</td>\n",
       "      <td>NaN</td>\n",
       "      <td>5.462483</td>\n",
       "      <td>5.828477</td>\n",
       "      <td>5.698015</td>\n",
       "      <td>5.904590</td>\n",
       "    </tr>\n",
       "    <tr>\n",
       "      <th>33062455</th>\n",
       "      <td>5.085308</td>\n",
       "      <td>5.164491</td>\n",
       "      <td>5.292430</td>\n",
       "      <td>5.873861</td>\n",
       "      <td>6.433638</td>\n",
       "      <td>6.071361</td>\n",
       "      <td>6.084150</td>\n",
       "    </tr>\n",
       "  </tbody>\n",
       "</table>\n",
       "</div>"
      ],
      "text/plain": [
       "ano           2005      2007      2009      2011      2013      2015      2017\n",
       "cod_inep                                                                      \n",
       "33062358  4.287995       NaN       NaN  4.774195  4.712134  5.293360  5.850870\n",
       "33062420  5.010576  4.816704  5.996372  6.630754  6.289520  6.248212  5.678480\n",
       "33062439  4.296459  4.093843  5.516518  5.058444  5.660357  6.211516  6.183916\n",
       "33062447  4.418246  4.164992       NaN  5.462483  5.828477  5.698015  5.904590\n",
       "33062455  5.085308  5.164491  5.292430  5.873861  6.433638  6.071361  6.084150"
      ]
     },
     "execution_count": 104,
     "metadata": {},
     "output_type": "execute_result"
    }
   ],
   "source": [
    "#We need to get wide form data once more\n",
    "joined_data_wide = joined_data.pivot(index = \"cod_inep\", columns = \"ano\", values=\"saeb\")\n",
    "joined_data_wide.head()"
   ]
  },
  {
   "cell_type": "code",
   "execution_count": 105,
   "metadata": {},
   "outputs": [
    {
     "data": {
      "text/html": [
       "<div>\n",
       "<style scoped>\n",
       "    .dataframe tbody tr th:only-of-type {\n",
       "        vertical-align: middle;\n",
       "    }\n",
       "\n",
       "    .dataframe tbody tr th {\n",
       "        vertical-align: top;\n",
       "    }\n",
       "\n",
       "    .dataframe thead th {\n",
       "        text-align: right;\n",
       "    }\n",
       "</style>\n",
       "<table border=\"1\" class=\"dataframe\">\n",
       "  <thead>\n",
       "    <tr style=\"text-align: right;\">\n",
       "      <th></th>\n",
       "      <th>saeb_2005</th>\n",
       "      <th>saeb_2007</th>\n",
       "      <th>saeb_2009</th>\n",
       "      <th>saeb_2011</th>\n",
       "      <th>saeb_2013</th>\n",
       "      <th>saeb_2015</th>\n",
       "      <th>saeb_2017</th>\n",
       "    </tr>\n",
       "    <tr>\n",
       "      <th>cod_inep</th>\n",
       "      <th></th>\n",
       "      <th></th>\n",
       "      <th></th>\n",
       "      <th></th>\n",
       "      <th></th>\n",
       "      <th></th>\n",
       "      <th></th>\n",
       "    </tr>\n",
       "  </thead>\n",
       "  <tbody>\n",
       "    <tr>\n",
       "      <th>33062358</th>\n",
       "      <td>4.287995</td>\n",
       "      <td>NaN</td>\n",
       "      <td>NaN</td>\n",
       "      <td>4.774195</td>\n",
       "      <td>4.712134</td>\n",
       "      <td>5.293360</td>\n",
       "      <td>5.850870</td>\n",
       "    </tr>\n",
       "    <tr>\n",
       "      <th>33062420</th>\n",
       "      <td>5.010576</td>\n",
       "      <td>4.816704</td>\n",
       "      <td>5.996372</td>\n",
       "      <td>6.630754</td>\n",
       "      <td>6.289520</td>\n",
       "      <td>6.248212</td>\n",
       "      <td>5.678480</td>\n",
       "    </tr>\n",
       "    <tr>\n",
       "      <th>33062439</th>\n",
       "      <td>4.296459</td>\n",
       "      <td>4.093843</td>\n",
       "      <td>5.516518</td>\n",
       "      <td>5.058444</td>\n",
       "      <td>5.660357</td>\n",
       "      <td>6.211516</td>\n",
       "      <td>6.183916</td>\n",
       "    </tr>\n",
       "    <tr>\n",
       "      <th>33062447</th>\n",
       "      <td>4.418246</td>\n",
       "      <td>4.164992</td>\n",
       "      <td>NaN</td>\n",
       "      <td>5.462483</td>\n",
       "      <td>5.828477</td>\n",
       "      <td>5.698015</td>\n",
       "      <td>5.904590</td>\n",
       "    </tr>\n",
       "    <tr>\n",
       "      <th>33062455</th>\n",
       "      <td>5.085308</td>\n",
       "      <td>5.164491</td>\n",
       "      <td>5.292430</td>\n",
       "      <td>5.873861</td>\n",
       "      <td>6.433638</td>\n",
       "      <td>6.071361</td>\n",
       "      <td>6.084150</td>\n",
       "    </tr>\n",
       "  </tbody>\n",
       "</table>\n",
       "</div>"
      ],
      "text/plain": [
       "          saeb_2005  saeb_2007  saeb_2009  saeb_2011  saeb_2013  saeb_2015  \\\n",
       "cod_inep                                                                     \n",
       "33062358   4.287995        NaN        NaN   4.774195   4.712134   5.293360   \n",
       "33062420   5.010576   4.816704   5.996372   6.630754   6.289520   6.248212   \n",
       "33062439   4.296459   4.093843   5.516518   5.058444   5.660357   6.211516   \n",
       "33062447   4.418246   4.164992        NaN   5.462483   5.828477   5.698015   \n",
       "33062455   5.085308   5.164491   5.292430   5.873861   6.433638   6.071361   \n",
       "\n",
       "          saeb_2017  \n",
       "cod_inep             \n",
       "33062358   5.850870  \n",
       "33062420   5.678480  \n",
       "33062439   6.183916  \n",
       "33062447   5.904590  \n",
       "33062455   6.084150  "
      ]
     },
     "execution_count": 105,
     "metadata": {},
     "output_type": "execute_result"
    }
   ],
   "source": [
    "joined_data_wide.columns = [\"saeb_2005\", \"saeb_2007\", \"saeb_2009\", \"saeb_2011\", \"saeb_2013\", \"saeb_2015\", \"saeb_2017\"]\n",
    "joined_data_wide.head()"
   ]
  },
  {
   "cell_type": "code",
   "execution_count": 106,
   "metadata": {},
   "outputs": [
    {
     "data": {
      "text/plain": [
       "(817, 7)"
      ]
     },
     "execution_count": 106,
     "metadata": {},
     "output_type": "execute_result"
    }
   ],
   "source": [
    "joined_data_wide.shape"
   ]
  },
  {
   "cell_type": "code",
   "execution_count": 107,
   "metadata": {},
   "outputs": [
    {
     "data": {
      "text/plain": [
       "(817, 11)"
      ]
     },
     "execution_count": 107,
     "metadata": {},
     "output_type": "execute_result"
    }
   ],
   "source": [
    "joined_data_wide = pd.merge(joined_data_wide, joined_data[[\"cod_inep\", \"nome_escola\", \"nome_abrev\", \"geometry\"]].drop_duplicates(), how = \"left\", on = \"cod_inep\")\n",
    "joined_data_wide.shape"
   ]
  },
  {
   "cell_type": "code",
   "execution_count": 108,
   "metadata": {},
   "outputs": [
    {
     "data": {
      "text/html": [
       "<div>\n",
       "<style scoped>\n",
       "    .dataframe tbody tr th:only-of-type {\n",
       "        vertical-align: middle;\n",
       "    }\n",
       "\n",
       "    .dataframe tbody tr th {\n",
       "        vertical-align: top;\n",
       "    }\n",
       "\n",
       "    .dataframe thead th {\n",
       "        text-align: right;\n",
       "    }\n",
       "</style>\n",
       "<table border=\"1\" class=\"dataframe\">\n",
       "  <thead>\n",
       "    <tr style=\"text-align: right;\">\n",
       "      <th></th>\n",
       "      <th>cod_inep</th>\n",
       "      <th>saeb_2005</th>\n",
       "      <th>saeb_2007</th>\n",
       "      <th>saeb_2009</th>\n",
       "      <th>saeb_2011</th>\n",
       "      <th>saeb_2013</th>\n",
       "      <th>saeb_2015</th>\n",
       "      <th>saeb_2017</th>\n",
       "      <th>nome_escola</th>\n",
       "      <th>nome_abrev</th>\n",
       "      <th>geometry</th>\n",
       "    </tr>\n",
       "  </thead>\n",
       "  <tbody>\n",
       "    <tr>\n",
       "      <th>0</th>\n",
       "      <td>33062358</td>\n",
       "      <td>4.287995</td>\n",
       "      <td>NaN</td>\n",
       "      <td>NaN</td>\n",
       "      <td>4.774195</td>\n",
       "      <td>4.712134</td>\n",
       "      <td>5.293360</td>\n",
       "      <td>5.850870</td>\n",
       "      <td>0101501 CIEP HENFIL</td>\n",
       "      <td>CIEP HENFIL</td>\n",
       "      <td>POINT (-43.22532558878743 -22.88088832887265)</td>\n",
       "    </tr>\n",
       "    <tr>\n",
       "      <th>1</th>\n",
       "      <td>33062420</td>\n",
       "      <td>5.010576</td>\n",
       "      <td>4.816704</td>\n",
       "      <td>5.996372</td>\n",
       "      <td>6.630754</td>\n",
       "      <td>6.289520</td>\n",
       "      <td>6.248212</td>\n",
       "      <td>5.678480</td>\n",
       "      <td>0101004 ESCOLA MUNICIPAL BENJAMIN CONSTANT</td>\n",
       "      <td>EM BENJAMIM CONSTANT</td>\n",
       "      <td>POINT (-43.20547903150959 -22.89997040652924)</td>\n",
       "    </tr>\n",
       "    <tr>\n",
       "      <th>2</th>\n",
       "      <td>33062439</td>\n",
       "      <td>4.296459</td>\n",
       "      <td>4.093843</td>\n",
       "      <td>5.516518</td>\n",
       "      <td>5.058444</td>\n",
       "      <td>5.660357</td>\n",
       "      <td>6.211516</td>\n",
       "      <td>6.183916</td>\n",
       "      <td>0101003 ESCOLA MUNICIPAL DARCY VARGAS</td>\n",
       "      <td>EM DARCY VARGASS</td>\n",
       "      <td>POINT (-43.18928050487541 -22.89574001410427)</td>\n",
       "    </tr>\n",
       "    <tr>\n",
       "      <th>3</th>\n",
       "      <td>33062447</td>\n",
       "      <td>4.418246</td>\n",
       "      <td>4.164992</td>\n",
       "      <td>NaN</td>\n",
       "      <td>5.462483</td>\n",
       "      <td>5.828477</td>\n",
       "      <td>5.698015</td>\n",
       "      <td>5.904590</td>\n",
       "      <td>0101006 ESCOLA MUNICIPAL FRANCISCO BENJAMIM GA...</td>\n",
       "      <td>EM FRANCISCO BENJAMIM GALLOTI</td>\n",
       "      <td>POINT (-43.19983758905013 -22.90135321277852)</td>\n",
       "    </tr>\n",
       "    <tr>\n",
       "      <th>4</th>\n",
       "      <td>33062455</td>\n",
       "      <td>5.085308</td>\n",
       "      <td>5.164491</td>\n",
       "      <td>5.292430</td>\n",
       "      <td>5.873861</td>\n",
       "      <td>6.433638</td>\n",
       "      <td>6.071361</td>\n",
       "      <td>6.084150</td>\n",
       "      <td>0101005 ESCOLA MUNICIPAL GENERAL MITRE</td>\n",
       "      <td>EM GAL. MITRE</td>\n",
       "      <td>POINT (-43.20315257170808 -22.90508916174731)</td>\n",
       "    </tr>\n",
       "  </tbody>\n",
       "</table>\n",
       "</div>"
      ],
      "text/plain": [
       "   cod_inep  saeb_2005  saeb_2007  saeb_2009  saeb_2011  saeb_2013  saeb_2015  \\\n",
       "0  33062358   4.287995        NaN        NaN   4.774195   4.712134   5.293360   \n",
       "1  33062420   5.010576   4.816704   5.996372   6.630754   6.289520   6.248212   \n",
       "2  33062439   4.296459   4.093843   5.516518   5.058444   5.660357   6.211516   \n",
       "3  33062447   4.418246   4.164992        NaN   5.462483   5.828477   5.698015   \n",
       "4  33062455   5.085308   5.164491   5.292430   5.873861   6.433638   6.071361   \n",
       "\n",
       "   saeb_2017                                        nome_escola  \\\n",
       "0   5.850870                                0101501 CIEP HENFIL   \n",
       "1   5.678480         0101004 ESCOLA MUNICIPAL BENJAMIN CONSTANT   \n",
       "2   6.183916              0101003 ESCOLA MUNICIPAL DARCY VARGAS   \n",
       "3   5.904590  0101006 ESCOLA MUNICIPAL FRANCISCO BENJAMIM GA...   \n",
       "4   6.084150             0101005 ESCOLA MUNICIPAL GENERAL MITRE   \n",
       "\n",
       "                      nome_abrev  \\\n",
       "0                    CIEP HENFIL   \n",
       "1           EM BENJAMIM CONSTANT   \n",
       "2               EM DARCY VARGASS   \n",
       "3  EM FRANCISCO BENJAMIM GALLOTI   \n",
       "4                  EM GAL. MITRE   \n",
       "\n",
       "                                        geometry  \n",
       "0  POINT (-43.22532558878743 -22.88088832887265)  \n",
       "1  POINT (-43.20547903150959 -22.89997040652924)  \n",
       "2  POINT (-43.18928050487541 -22.89574001410427)  \n",
       "3  POINT (-43.19983758905013 -22.90135321277852)  \n",
       "4  POINT (-43.20315257170808 -22.90508916174731)  "
      ]
     },
     "execution_count": 108,
     "metadata": {},
     "output_type": "execute_result"
    }
   ],
   "source": [
    "joined_data_wide.head()"
   ]
  },
  {
   "cell_type": "markdown",
   "metadata": {},
   "source": [
    "* IDEB 2017 distribution"
   ]
  },
  {
   "cell_type": "code",
   "execution_count": 109,
   "metadata": {},
   "outputs": [
    {
     "data": {
      "text/plain": [
       "<matplotlib.axes._subplots.AxesSubplot at 0x7fdb08032e10>"
      ]
     },
     "execution_count": 109,
     "metadata": {},
     "output_type": "execute_result"
    },
    {
     "data": {
      "image/png": "[encoded data removed]",
      "text/plain": [
       "<Figure size 1440x720 with 1 Axes>"
      ]
     },
     "metadata": {},
     "output_type": "display_data"
    }
   ],
   "source": [
    "pylab.rcParams['figure.figsize'] = (20, 10)\n",
    "sns.distplot(joined_data_wide['saeb_2017'].dropna(), color=palette[1], kde=False)"
   ]
  },
  {
   "cell_type": "code",
   "execution_count": 110,
   "metadata": {},
   "outputs": [
    {
     "name": "stdout",
     "output_type": "stream",
     "text": [
      "<class 'geopandas.geodataframe.GeoDataFrame'>\n",
      "Int64Index: 817 entries, 0 to 816\n",
      "Data columns (total 11 columns):\n",
      "cod_inep       817 non-null int64\n",
      "saeb_2005      709 non-null float64\n",
      "saeb_2007      726 non-null float64\n",
      "saeb_2009      710 non-null float64\n",
      "saeb_2011      696 non-null float64\n",
      "saeb_2013      662 non-null float64\n",
      "saeb_2015      624 non-null float64\n",
      "saeb_2017      603 non-null float64\n",
      "nome_escola    817 non-null object\n",
      "nome_abrev     817 non-null object\n",
      "geometry       817 non-null object\n",
      "dtypes: float64(7), int64(1), object(3)\n",
      "memory usage: 76.6+ KB\n"
     ]
    }
   ],
   "source": [
    "from shapely import wkt\n",
    "joined_data_wide = gpd.GeoDataFrame(joined_data_wide)\n",
    "joined_data_wide['geometry'] = joined_data_wide['geometry'].apply(lambda x: wkt.loads(x))\n",
    "#joined_data_wide['geometry'] = joined_data_wide['geometry'].apply(lambda x: loads(x.encode()))\n",
    "joined_data_wide.info()"
   ]
  },
  {
   "cell_type": "code",
   "execution_count": 111,
   "metadata": {},
   "outputs": [
    {
     "data": {
      "text/plain": [
       "cod_inep         0\n",
       "saeb_2005      108\n",
       "saeb_2007       91\n",
       "saeb_2009      107\n",
       "saeb_2011      121\n",
       "saeb_2013      155\n",
       "saeb_2015      193\n",
       "saeb_2017      214\n",
       "nome_escola      0\n",
       "nome_abrev       0\n",
       "geometry         0\n",
       "dtype: int64"
      ]
     },
     "execution_count": 111,
     "metadata": {},
     "output_type": "execute_result"
    }
   ],
   "source": [
    "joined_data_wide.isna().sum()"
   ]
  },
  {
   "cell_type": "code",
   "execution_count": 112,
   "metadata": {
    "scrolled": false
   },
   "outputs": [
    {
     "data": {
      "text/plain": [
       "817"
      ]
     },
     "execution_count": 112,
     "metadata": {},
     "output_type": "execute_result"
    }
   ],
   "source": [
    "# All cod_inep are unique\n",
    "joined_data_wide['cod_inep'].nunique()"
   ]
  },
  {
   "cell_type": "code",
   "execution_count": 113,
   "metadata": {
    "scrolled": true
   },
   "outputs": [
    {
     "name": "stdout",
     "output_type": "stream",
     "text": [
      "<class 'geopandas.geodataframe.GeoDataFrame'>\n",
      "Int64Index: 817 entries, 33062358 to 33463220\n",
      "Data columns (total 10 columns):\n",
      "saeb_2005      709 non-null float64\n",
      "saeb_2007      726 non-null float64\n",
      "saeb_2009      710 non-null float64\n",
      "saeb_2011      696 non-null float64\n",
      "saeb_2013      662 non-null float64\n",
      "saeb_2015      624 non-null float64\n",
      "saeb_2017      603 non-null float64\n",
      "nome_escola    817 non-null object\n",
      "nome_abrev     817 non-null object\n",
      "geometry       817 non-null object\n",
      "dtypes: float64(7), object(3)\n",
      "memory usage: 70.2+ KB\n"
     ]
    }
   ],
   "source": [
    "joined_data_wide = joined_data_wide.set_index('cod_inep', drop=True)\n",
    "joined_data_wide.info()"
   ]
  },
  {
   "cell_type": "code",
   "execution_count": 114,
   "metadata": {},
   "outputs": [],
   "source": [
    "joined_data_wide[\"delta\"] = joined_data_wide[\"saeb_2017\"] - joined_data_wide[\"saeb_2005\"]"
   ]
  },
  {
   "cell_type": "code",
   "execution_count": 115,
   "metadata": {},
   "outputs": [
    {
     "data": {
      "text/plain": [
       "count    534.000000\n",
       "mean       1.271323\n",
       "std        0.524172\n",
       "min       -0.251685\n",
       "25%        0.909922\n",
       "50%        1.251550\n",
       "75%        1.601120\n",
       "max        3.301203\n",
       "Name: delta, dtype: float64"
      ]
     },
     "execution_count": 115,
     "metadata": {},
     "output_type": "execute_result"
    }
   ],
   "source": [
    "joined_data_wide[\"delta\"].describe()"
   ]
  },
  {
   "cell_type": "code",
   "execution_count": 116,
   "metadata": {},
   "outputs": [
    {
     "data": {
      "text/plain": [
       "534"
      ]
     },
     "execution_count": 116,
     "metadata": {},
     "output_type": "execute_result"
    }
   ],
   "source": [
    "joined_data_wide[\"delta\"].nunique()"
   ]
  },
  {
   "cell_type": "code",
   "execution_count": 117,
   "metadata": {},
   "outputs": [
    {
     "data": {
      "text/plain": [
       "<matplotlib.axes._subplots.AxesSubplot at 0x7fdb08973828>"
      ]
     },
     "execution_count": 117,
     "metadata": {},
     "output_type": "execute_result"
    },
    {
     "data": {
      "image/png": "[encoded data removed]",
      "text/plain": [
       "<Figure size 1440x720 with 1 Axes>"
      ]
     },
     "metadata": {},
     "output_type": "display_data"
    }
   ],
   "source": [
    "joined_data_wide[\"delta\"].hist(bins='fd', color=palette[2])"
   ]
  },
  {
   "cell_type": "code",
   "execution_count": 118,
   "metadata": {
    "scrolled": true
   },
   "outputs": [
    {
     "data": {
      "text/plain": [
       "534"
      ]
     },
     "execution_count": 118,
     "metadata": {},
     "output_type": "execute_result"
    }
   ],
   "source": [
    "joined_data_wide['delta'].count()"
   ]
  },
  {
   "cell_type": "code",
   "execution_count": 119,
   "metadata": {},
   "outputs": [
    {
     "data": {
      "text/plain": [
       "0.653610771113831"
      ]
     },
     "execution_count": 119,
     "metadata": {},
     "output_type": "execute_result"
    }
   ],
   "source": [
    "joined_data_wide['delta'].count()/len(joined_data_wide)"
   ]
  },
  {
   "cell_type": "code",
   "execution_count": 120,
   "metadata": {},
   "outputs": [
    {
     "data": {
      "text/plain": [
       "(817, 11)"
      ]
     },
     "execution_count": 120,
     "metadata": {},
     "output_type": "execute_result"
    }
   ],
   "source": [
    "joined_data_wide.shape"
   ]
  },
  {
   "cell_type": "markdown",
   "metadata": {},
   "source": [
    "* Top and bottom deltas"
   ]
  },
  {
   "cell_type": "code",
   "execution_count": 121,
   "metadata": {},
   "outputs": [
    {
     "data": {
      "text/html": [
       "<div>\n",
       "<style scoped>\n",
       "    .dataframe tbody tr th:only-of-type {\n",
       "        vertical-align: middle;\n",
       "    }\n",
       "\n",
       "    .dataframe tbody tr th {\n",
       "        vertical-align: top;\n",
       "    }\n",
       "\n",
       "    .dataframe thead th {\n",
       "        text-align: right;\n",
       "    }\n",
       "</style>\n",
       "<table border=\"1\" class=\"dataframe\">\n",
       "  <thead>\n",
       "    <tr style=\"text-align: right;\">\n",
       "      <th></th>\n",
       "      <th>nome_escola</th>\n",
       "      <th>saeb_2005</th>\n",
       "      <th>saeb_2007</th>\n",
       "      <th>saeb_2009</th>\n",
       "      <th>saeb_2011</th>\n",
       "      <th>saeb_2013</th>\n",
       "      <th>saeb_2015</th>\n",
       "      <th>saeb_2017</th>\n",
       "      <th>delta</th>\n",
       "    </tr>\n",
       "    <tr>\n",
       "      <th>cod_inep</th>\n",
       "      <th></th>\n",
       "      <th></th>\n",
       "      <th></th>\n",
       "      <th></th>\n",
       "      <th></th>\n",
       "      <th></th>\n",
       "      <th></th>\n",
       "      <th></th>\n",
       "      <th></th>\n",
       "    </tr>\n",
       "  </thead>\n",
       "  <tbody>\n",
       "    <tr>\n",
       "      <th>33063265</th>\n",
       "      <td>0204502 CIEP PRESIDENTE AGOSTINHO NETO</td>\n",
       "      <td>3.857645</td>\n",
       "      <td>4.933373</td>\n",
       "      <td>6.520044</td>\n",
       "      <td>7.288479</td>\n",
       "      <td>6.803655</td>\n",
       "      <td>6.699540</td>\n",
       "      <td>7.158848</td>\n",
       "      <td>3.301203</td>\n",
       "    </tr>\n",
       "    <tr>\n",
       "      <th>33088390</th>\n",
       "      <td>1026202 CIEP HILDEBRANDO DE ARAUJO GOES</td>\n",
       "      <td>2.879167</td>\n",
       "      <td>4.338176</td>\n",
       "      <td>5.359336</td>\n",
       "      <td>5.583443</td>\n",
       "      <td>5.451245</td>\n",
       "      <td>5.667056</td>\n",
       "      <td>5.970743</td>\n",
       "      <td>3.091576</td>\n",
       "    </tr>\n",
       "    <tr>\n",
       "      <th>33146268</th>\n",
       "      <td>0716073 ESCOLA MUNICIPAL ROBERTO BURLE MARX</td>\n",
       "      <td>5.308621</td>\n",
       "      <td>5.767172</td>\n",
       "      <td>6.898639</td>\n",
       "      <td>7.582618</td>\n",
       "      <td>7.952185</td>\n",
       "      <td>8.193749</td>\n",
       "      <td>8.315635</td>\n",
       "      <td>3.007014</td>\n",
       "    </tr>\n",
       "    <tr>\n",
       "      <th>33080399</th>\n",
       "      <td>0833004 ESCOLA MUNICIPAL ENGENHEIRO LAFAYETTE ...</td>\n",
       "      <td>4.657516</td>\n",
       "      <td>5.283381</td>\n",
       "      <td>4.903806</td>\n",
       "      <td>6.405006</td>\n",
       "      <td>6.421230</td>\n",
       "      <td>6.687320</td>\n",
       "      <td>7.521748</td>\n",
       "      <td>2.864232</td>\n",
       "    </tr>\n",
       "    <tr>\n",
       "      <th>33080259</th>\n",
       "      <td>0833014 ESCOLA MUNICIPAL CHURCHILL</td>\n",
       "      <td>3.419974</td>\n",
       "      <td>3.904136</td>\n",
       "      <td>NaN</td>\n",
       "      <td>NaN</td>\n",
       "      <td>5.989727</td>\n",
       "      <td>5.772956</td>\n",
       "      <td>6.228015</td>\n",
       "      <td>2.808041</td>\n",
       "    </tr>\n",
       "    <tr>\n",
       "      <th>33083142</th>\n",
       "      <td>1026005 ESCOLA MUNICIPAL NARCISA AMALIA</td>\n",
       "      <td>3.429888</td>\n",
       "      <td>4.698827</td>\n",
       "      <td>6.058631</td>\n",
       "      <td>5.880582</td>\n",
       "      <td>6.055677</td>\n",
       "      <td>6.113641</td>\n",
       "      <td>6.139020</td>\n",
       "      <td>2.709132</td>\n",
       "    </tr>\n",
       "    <tr>\n",
       "      <th>33065004</th>\n",
       "      <td>0205007 ESCOLA MUNICIPAL PENEDO</td>\n",
       "      <td>4.716397</td>\n",
       "      <td>5.088393</td>\n",
       "      <td>6.075130</td>\n",
       "      <td>6.988586</td>\n",
       "      <td>6.943904</td>\n",
       "      <td>7.217754</td>\n",
       "      <td>7.398226</td>\n",
       "      <td>2.681828</td>\n",
       "    </tr>\n",
       "    <tr>\n",
       "      <th>33066256</th>\n",
       "      <td>0107004 ESCOLA MUNICIPAL FLORIANO PEIXOTO</td>\n",
       "      <td>4.789772</td>\n",
       "      <td>5.721155</td>\n",
       "      <td>6.054578</td>\n",
       "      <td>6.864783</td>\n",
       "      <td>7.006280</td>\n",
       "      <td>6.616927</td>\n",
       "      <td>7.457328</td>\n",
       "      <td>2.667557</td>\n",
       "    </tr>\n",
       "    <tr>\n",
       "      <th>33100551</th>\n",
       "      <td>0817127 ESCOLA MUNICIPAL AYRTON SENNA DA SILVA</td>\n",
       "      <td>5.092053</td>\n",
       "      <td>5.355570</td>\n",
       "      <td>6.837811</td>\n",
       "      <td>6.917644</td>\n",
       "      <td>7.328386</td>\n",
       "      <td>8.134118</td>\n",
       "      <td>7.743812</td>\n",
       "      <td>2.651759</td>\n",
       "    </tr>\n",
       "    <tr>\n",
       "      <th>33080429</th>\n",
       "      <td>0817049 ESCOLA MUNICIPAL EUSEBIO DE QUEIROZ</td>\n",
       "      <td>4.053028</td>\n",
       "      <td>4.769163</td>\n",
       "      <td>5.526734</td>\n",
       "      <td>6.756984</td>\n",
       "      <td>6.332825</td>\n",
       "      <td>6.305134</td>\n",
       "      <td>6.626905</td>\n",
       "      <td>2.573877</td>\n",
       "    </tr>\n",
       "    <tr>\n",
       "      <th>33087806</th>\n",
       "      <td>0724014 ESCOLA MUNICIPAL PROFESSORA DIDIA MACH...</td>\n",
       "      <td>5.507499</td>\n",
       "      <td>5.496628</td>\n",
       "      <td>7.679376</td>\n",
       "      <td>7.466064</td>\n",
       "      <td>7.696377</td>\n",
       "      <td>7.758135</td>\n",
       "      <td>8.066361</td>\n",
       "      <td>2.558862</td>\n",
       "    </tr>\n",
       "    <tr>\n",
       "      <th>33085978</th>\n",
       "      <td>1120020 ESCOLA MUNICIPAL BELMIRO MEDEIROS</td>\n",
       "      <td>3.929780</td>\n",
       "      <td>4.221330</td>\n",
       "      <td>5.515749</td>\n",
       "      <td>6.243950</td>\n",
       "      <td>5.864324</td>\n",
       "      <td>5.934327</td>\n",
       "      <td>6.444075</td>\n",
       "      <td>2.514295</td>\n",
       "    </tr>\n",
       "    <tr>\n",
       "      <th>33070881</th>\n",
       "      <td>0411015 ESCOLA MUNICIPAL SUICA</td>\n",
       "      <td>4.457973</td>\n",
       "      <td>4.958924</td>\n",
       "      <td>5.708414</td>\n",
       "      <td>5.762624</td>\n",
       "      <td>5.762888</td>\n",
       "      <td>7.188666</td>\n",
       "      <td>6.946147</td>\n",
       "      <td>2.488174</td>\n",
       "    </tr>\n",
       "    <tr>\n",
       "      <th>33075069</th>\n",
       "      <td>0515502 CIEP PROFESSOR MANOEL MAURICIO DE ALBU...</td>\n",
       "      <td>4.004734</td>\n",
       "      <td>4.356152</td>\n",
       "      <td>5.590793</td>\n",
       "      <td>5.976841</td>\n",
       "      <td>5.594330</td>\n",
       "      <td>6.328607</td>\n",
       "      <td>6.418905</td>\n",
       "      <td>2.414171</td>\n",
       "    </tr>\n",
       "    <tr>\n",
       "      <th>33086133</th>\n",
       "      <td>1120009 ESCOLA MUNICIPAL PADRE JOSE DE ANCHIETA</td>\n",
       "      <td>5.024845</td>\n",
       "      <td>5.436850</td>\n",
       "      <td>6.433725</td>\n",
       "      <td>6.694114</td>\n",
       "      <td>7.118221</td>\n",
       "      <td>7.084966</td>\n",
       "      <td>7.403518</td>\n",
       "      <td>2.378673</td>\n",
       "    </tr>\n",
       "  </tbody>\n",
       "</table>\n",
       "</div>"
      ],
      "text/plain": [
       "                                                nome_escola  saeb_2005  \\\n",
       "cod_inep                                                                 \n",
       "33063265             0204502 CIEP PRESIDENTE AGOSTINHO NETO   3.857645   \n",
       "33088390            1026202 CIEP HILDEBRANDO DE ARAUJO GOES   2.879167   \n",
       "33146268        0716073 ESCOLA MUNICIPAL ROBERTO BURLE MARX   5.308621   \n",
       "33080399  0833004 ESCOLA MUNICIPAL ENGENHEIRO LAFAYETTE ...   4.657516   \n",
       "33080259                 0833014 ESCOLA MUNICIPAL CHURCHILL   3.419974   \n",
       "33083142            1026005 ESCOLA MUNICIPAL NARCISA AMALIA   3.429888   \n",
       "33065004                    0205007 ESCOLA MUNICIPAL PENEDO   4.716397   \n",
       "33066256          0107004 ESCOLA MUNICIPAL FLORIANO PEIXOTO   4.789772   \n",
       "33100551     0817127 ESCOLA MUNICIPAL AYRTON SENNA DA SILVA   5.092053   \n",
       "33080429        0817049 ESCOLA MUNICIPAL EUSEBIO DE QUEIROZ   4.053028   \n",
       "33087806  0724014 ESCOLA MUNICIPAL PROFESSORA DIDIA MACH...   5.507499   \n",
       "33085978          1120020 ESCOLA MUNICIPAL BELMIRO MEDEIROS   3.929780   \n",
       "33070881                     0411015 ESCOLA MUNICIPAL SUICA   4.457973   \n",
       "33075069  0515502 CIEP PROFESSOR MANOEL MAURICIO DE ALBU...   4.004734   \n",
       "33086133    1120009 ESCOLA MUNICIPAL PADRE JOSE DE ANCHIETA   5.024845   \n",
       "\n",
       "          saeb_2007  saeb_2009  saeb_2011  saeb_2013  saeb_2015  saeb_2017  \\\n",
       "cod_inep                                                                     \n",
       "33063265   4.933373   6.520044   7.288479   6.803655   6.699540   7.158848   \n",
       "33088390   4.338176   5.359336   5.583443   5.451245   5.667056   5.970743   \n",
       "33146268   5.767172   6.898639   7.582618   7.952185   8.193749   8.315635   \n",
       "33080399   5.283381   4.903806   6.405006   6.421230   6.687320   7.521748   \n",
       "33080259   3.904136        NaN        NaN   5.989727   5.772956   6.228015   \n",
       "33083142   4.698827   6.058631   5.880582   6.055677   6.113641   6.139020   \n",
       "33065004   5.088393   6.075130   6.988586   6.943904   7.217754   7.398226   \n",
       "33066256   5.721155   6.054578   6.864783   7.006280   6.616927   7.457328   \n",
       "33100551   5.355570   6.837811   6.917644   7.328386   8.134118   7.743812   \n",
       "33080429   4.769163   5.526734   6.756984   6.332825   6.305134   6.626905   \n",
       "33087806   5.496628   7.679376   7.466064   7.696377   7.758135   8.066361   \n",
       "33085978   4.221330   5.515749   6.243950   5.864324   5.934327   6.444075   \n",
       "33070881   4.958924   5.708414   5.762624   5.762888   7.188666   6.946147   \n",
       "33075069   4.356152   5.590793   5.976841   5.594330   6.328607   6.418905   \n",
       "33086133   5.436850   6.433725   6.694114   7.118221   7.084966   7.403518   \n",
       "\n",
       "             delta  \n",
       "cod_inep            \n",
       "33063265  3.301203  \n",
       "33088390  3.091576  \n",
       "33146268  3.007014  \n",
       "33080399  2.864232  \n",
       "33080259  2.808041  \n",
       "33083142  2.709132  \n",
       "33065004  2.681828  \n",
       "33066256  2.667557  \n",
       "33100551  2.651759  \n",
       "33080429  2.573877  \n",
       "33087806  2.558862  \n",
       "33085978  2.514295  \n",
       "33070881  2.488174  \n",
       "33075069  2.414171  \n",
       "33086133  2.378673  "
      ]
     },
     "execution_count": 121,
     "metadata": {},
     "output_type": "execute_result"
    }
   ],
   "source": [
    "# Top 15 schools in saeb growth\n",
    "joined_data_wide[['nome_escola', 'saeb_2005', 'saeb_2007', 'saeb_2009', 'saeb_2011', \n",
    "          'saeb_2013', 'saeb_2015', 'saeb_2017', 'delta']].sort_values(\"delta\", ascending = False).head(15)"
   ]
  },
  {
   "cell_type": "code",
   "execution_count": 122,
   "metadata": {},
   "outputs": [],
   "source": [
    "top_15 = joined_data_wide[['geometry', 'nome_escola', 'delta']].sort_values(\"delta\", ascending = False).head(15)\n",
    "\n",
    "top_15['lon'] = top_15.geometry.x\n",
    "top_15['lat'] = top_15.geometry.y"
   ]
  },
  {
   "cell_type": "code",
   "execution_count": 123,
   "metadata": {},
   "outputs": [
    {
     "data": {
      "text/html": [
       "<div>\n",
       "<style scoped>\n",
       "    .dataframe tbody tr th:only-of-type {\n",
       "        vertical-align: middle;\n",
       "    }\n",
       "\n",
       "    .dataframe tbody tr th {\n",
       "        vertical-align: top;\n",
       "    }\n",
       "\n",
       "    .dataframe thead th {\n",
       "        text-align: right;\n",
       "    }\n",
       "</style>\n",
       "<table border=\"1\" class=\"dataframe\">\n",
       "  <thead>\n",
       "    <tr style=\"text-align: right;\">\n",
       "      <th></th>\n",
       "      <th>nome_escola</th>\n",
       "      <th>delta</th>\n",
       "    </tr>\n",
       "    <tr>\n",
       "      <th>cod_inep</th>\n",
       "      <th></th>\n",
       "      <th></th>\n",
       "    </tr>\n",
       "  </thead>\n",
       "  <tbody>\n",
       "    <tr>\n",
       "      <th>33063265</th>\n",
       "      <td>0204502 CIEP PRESIDENTE AGOSTINHO NETO</td>\n",
       "      <td>3.301203</td>\n",
       "    </tr>\n",
       "    <tr>\n",
       "      <th>33088390</th>\n",
       "      <td>1026202 CIEP HILDEBRANDO DE ARAUJO GOES</td>\n",
       "      <td>3.091576</td>\n",
       "    </tr>\n",
       "    <tr>\n",
       "      <th>33146268</th>\n",
       "      <td>0716073 ESCOLA MUNICIPAL ROBERTO BURLE MARX</td>\n",
       "      <td>3.007014</td>\n",
       "    </tr>\n",
       "    <tr>\n",
       "      <th>33080399</th>\n",
       "      <td>0833004 ESCOLA MUNICIPAL ENGENHEIRO LAFAYETTE ...</td>\n",
       "      <td>2.864232</td>\n",
       "    </tr>\n",
       "    <tr>\n",
       "      <th>33080259</th>\n",
       "      <td>0833014 ESCOLA MUNICIPAL CHURCHILL</td>\n",
       "      <td>2.808041</td>\n",
       "    </tr>\n",
       "    <tr>\n",
       "      <th>33083142</th>\n",
       "      <td>1026005 ESCOLA MUNICIPAL NARCISA AMALIA</td>\n",
       "      <td>2.709132</td>\n",
       "    </tr>\n",
       "    <tr>\n",
       "      <th>33065004</th>\n",
       "      <td>0205007 ESCOLA MUNICIPAL PENEDO</td>\n",
       "      <td>2.681828</td>\n",
       "    </tr>\n",
       "    <tr>\n",
       "      <th>33066256</th>\n",
       "      <td>0107004 ESCOLA MUNICIPAL FLORIANO PEIXOTO</td>\n",
       "      <td>2.667557</td>\n",
       "    </tr>\n",
       "    <tr>\n",
       "      <th>33100551</th>\n",
       "      <td>0817127 ESCOLA MUNICIPAL AYRTON SENNA DA SILVA</td>\n",
       "      <td>2.651759</td>\n",
       "    </tr>\n",
       "    <tr>\n",
       "      <th>33080429</th>\n",
       "      <td>0817049 ESCOLA MUNICIPAL EUSEBIO DE QUEIROZ</td>\n",
       "      <td>2.573877</td>\n",
       "    </tr>\n",
       "    <tr>\n",
       "      <th>33087806</th>\n",
       "      <td>0724014 ESCOLA MUNICIPAL PROFESSORA DIDIA MACH...</td>\n",
       "      <td>2.558862</td>\n",
       "    </tr>\n",
       "    <tr>\n",
       "      <th>33085978</th>\n",
       "      <td>1120020 ESCOLA MUNICIPAL BELMIRO MEDEIROS</td>\n",
       "      <td>2.514295</td>\n",
       "    </tr>\n",
       "    <tr>\n",
       "      <th>33070881</th>\n",
       "      <td>0411015 ESCOLA MUNICIPAL SUICA</td>\n",
       "      <td>2.488174</td>\n",
       "    </tr>\n",
       "    <tr>\n",
       "      <th>33075069</th>\n",
       "      <td>0515502 CIEP PROFESSOR MANOEL MAURICIO DE ALBU...</td>\n",
       "      <td>2.414171</td>\n",
       "    </tr>\n",
       "    <tr>\n",
       "      <th>33086133</th>\n",
       "      <td>1120009 ESCOLA MUNICIPAL PADRE JOSE DE ANCHIETA</td>\n",
       "      <td>2.378673</td>\n",
       "    </tr>\n",
       "  </tbody>\n",
       "</table>\n",
       "</div>"
      ],
      "text/plain": [
       "                                                nome_escola     delta\n",
       "cod_inep                                                             \n",
       "33063265             0204502 CIEP PRESIDENTE AGOSTINHO NETO  3.301203\n",
       "33088390            1026202 CIEP HILDEBRANDO DE ARAUJO GOES  3.091576\n",
       "33146268        0716073 ESCOLA MUNICIPAL ROBERTO BURLE MARX  3.007014\n",
       "33080399  0833004 ESCOLA MUNICIPAL ENGENHEIRO LAFAYETTE ...  2.864232\n",
       "33080259                 0833014 ESCOLA MUNICIPAL CHURCHILL  2.808041\n",
       "33083142            1026005 ESCOLA MUNICIPAL NARCISA AMALIA  2.709132\n",
       "33065004                    0205007 ESCOLA MUNICIPAL PENEDO  2.681828\n",
       "33066256          0107004 ESCOLA MUNICIPAL FLORIANO PEIXOTO  2.667557\n",
       "33100551     0817127 ESCOLA MUNICIPAL AYRTON SENNA DA SILVA  2.651759\n",
       "33080429        0817049 ESCOLA MUNICIPAL EUSEBIO DE QUEIROZ  2.573877\n",
       "33087806  0724014 ESCOLA MUNICIPAL PROFESSORA DIDIA MACH...  2.558862\n",
       "33085978          1120020 ESCOLA MUNICIPAL BELMIRO MEDEIROS  2.514295\n",
       "33070881                     0411015 ESCOLA MUNICIPAL SUICA  2.488174\n",
       "33075069  0515502 CIEP PROFESSOR MANOEL MAURICIO DE ALBU...  2.414171\n",
       "33086133    1120009 ESCOLA MUNICIPAL PADRE JOSE DE ANCHIETA  2.378673"
      ]
     },
     "execution_count": 123,
     "metadata": {},
     "output_type": "execute_result"
    }
   ],
   "source": [
    "top_15[['nome_escola', 'delta']]"
   ]
  },
  {
   "cell_type": "code",
   "execution_count": 35,
   "metadata": {},
   "outputs": [],
   "source": [
    "top_15.to_csv(OUTPUT_PATH / 'top_15_delta.csv')"
   ]
  },
  {
   "cell_type": "code",
   "execution_count": 125,
   "metadata": {},
   "outputs": [],
   "source": [
    "bottom_15 = joined_data_wide[['geometry', 'nome_escola', 'delta']].sort_values(\"delta\", ascending = True).head(15)\n",
    "\n",
    "bottom_15['lon'] = bottom_15.geometry.x\n",
    "bottom_15['lat'] = bottom_15.geometry.y"
   ]
  },
  {
   "cell_type": "code",
   "execution_count": 126,
   "metadata": {},
   "outputs": [
    {
     "data": {
      "text/plain": [
       "cod_inep\n",
       "33064954   -0.251685\n",
       "33076154   -0.201781\n",
       "33084734    0.037679\n",
       "33085412    0.075172\n",
       "33087369    0.128256\n",
       "33068372    0.145900\n",
       "33078149    0.175401\n",
       "33073031    0.218386\n",
       "33088063    0.250596\n",
       "33063150    0.266421\n",
       "33085927    0.276340\n",
       "33065675    0.290307\n",
       "33085420    0.306962\n",
       "33082642    0.328999\n",
       "33087130    0.343035\n",
       "Name: delta, dtype: float64"
      ]
     },
     "execution_count": 126,
     "metadata": {},
     "output_type": "execute_result"
    }
   ],
   "source": [
    "bottom_15['delta']"
   ]
  },
  {
   "cell_type": "code",
   "execution_count": 127,
   "metadata": {},
   "outputs": [
    {
     "data": {
      "text/html": [
       "<div>\n",
       "<style scoped>\n",
       "    .dataframe tbody tr th:only-of-type {\n",
       "        vertical-align: middle;\n",
       "    }\n",
       "\n",
       "    .dataframe tbody tr th {\n",
       "        vertical-align: top;\n",
       "    }\n",
       "\n",
       "    .dataframe thead th {\n",
       "        text-align: right;\n",
       "    }\n",
       "</style>\n",
       "<table border=\"1\" class=\"dataframe\">\n",
       "  <thead>\n",
       "    <tr style=\"text-align: right;\">\n",
       "      <th></th>\n",
       "      <th>nome_escola</th>\n",
       "      <th>delta</th>\n",
       "    </tr>\n",
       "    <tr>\n",
       "      <th>cod_inep</th>\n",
       "      <th></th>\n",
       "      <th></th>\n",
       "    </tr>\n",
       "  </thead>\n",
       "  <tbody>\n",
       "    <tr>\n",
       "      <th>33064954</th>\n",
       "      <td>0205003 ESCOLA MUNICIPAL DOUTOR CICERO PENNA</td>\n",
       "      <td>-0.251685</td>\n",
       "    </tr>\n",
       "    <tr>\n",
       "      <th>33076154</th>\n",
       "      <td>0515047 ESCOLA MUNICIPAL FREI LEOPOLDO</td>\n",
       "      <td>-0.201781</td>\n",
       "    </tr>\n",
       "    <tr>\n",
       "      <th>33084734</th>\n",
       "      <td>1019018 ESCOLA MUNICIPAL HAYDEA VIANNA FIUZA D...</td>\n",
       "      <td>0.037679</td>\n",
       "    </tr>\n",
       "    <tr>\n",
       "      <th>33085412</th>\n",
       "      <td>1120503 CIEP DOUTOR JOAO RAMOS DE SOUZA</td>\n",
       "      <td>0.075172</td>\n",
       "    </tr>\n",
       "    <tr>\n",
       "      <th>33087369</th>\n",
       "      <td>0625033 ESCOLA MUNICIPAL ZILDA NUNES DA COSTA</td>\n",
       "      <td>0.128256</td>\n",
       "    </tr>\n",
       "    <tr>\n",
       "      <th>33068372</th>\n",
       "      <td>0209021 ESCOLA MUNICIPAL PRESIDENTE JOAO GOULART</td>\n",
       "      <td>0.145900</td>\n",
       "    </tr>\n",
       "    <tr>\n",
       "      <th>33078149</th>\n",
       "      <td>0716068 ESCOLA MUNICIPAL MARIA DA SILVA FRANCA</td>\n",
       "      <td>0.175401</td>\n",
       "    </tr>\n",
       "    <tr>\n",
       "      <th>33073031</th>\n",
       "      <td>0313013 ESCOLA MUNICIPAL MINISTRO GAMA FILHO</td>\n",
       "      <td>0.218386</td>\n",
       "    </tr>\n",
       "    <tr>\n",
       "      <th>33088063</th>\n",
       "      <td>0625501 CIEP DOUTOR ADAO PEREIRA NUNES</td>\n",
       "      <td>0.250596</td>\n",
       "    </tr>\n",
       "    <tr>\n",
       "      <th>33063150</th>\n",
       "      <td>0103006 ESCOLA MUNICIPAL JENNY GOMES</td>\n",
       "      <td>0.266421</td>\n",
       "    </tr>\n",
       "    <tr>\n",
       "      <th>33085927</th>\n",
       "      <td>1120013 ESCOLA MUNICIPAL ALICE TIBIRICA</td>\n",
       "      <td>0.276340</td>\n",
       "    </tr>\n",
       "    <tr>\n",
       "      <th>33065675</th>\n",
       "      <td>0206007 ESCOLA MUNICIPAL EDNA PONCIONI FERREIRA</td>\n",
       "      <td>0.290307</td>\n",
       "    </tr>\n",
       "    <tr>\n",
       "      <th>33085420</th>\n",
       "      <td>1120502 CIEP JOAO MANGABEIRA</td>\n",
       "      <td>0.306962</td>\n",
       "    </tr>\n",
       "    <tr>\n",
       "      <th>33082642</th>\n",
       "      <td>0918056 ESCOLA MUNICIPAL AUGUSTO VASCONCELOS</td>\n",
       "      <td>0.328999</td>\n",
       "    </tr>\n",
       "    <tr>\n",
       "      <th>33087130</th>\n",
       "      <td>0625029 ESCOLA MUNICIPAL JOSE PEDRO VARELA</td>\n",
       "      <td>0.343035</td>\n",
       "    </tr>\n",
       "  </tbody>\n",
       "</table>\n",
       "</div>"
      ],
      "text/plain": [
       "                                                nome_escola     delta\n",
       "cod_inep                                                             \n",
       "33064954       0205003 ESCOLA MUNICIPAL DOUTOR CICERO PENNA -0.251685\n",
       "33076154             0515047 ESCOLA MUNICIPAL FREI LEOPOLDO -0.201781\n",
       "33084734  1019018 ESCOLA MUNICIPAL HAYDEA VIANNA FIUZA D...  0.037679\n",
       "33085412            1120503 CIEP DOUTOR JOAO RAMOS DE SOUZA  0.075172\n",
       "33087369      0625033 ESCOLA MUNICIPAL ZILDA NUNES DA COSTA  0.128256\n",
       "33068372   0209021 ESCOLA MUNICIPAL PRESIDENTE JOAO GOULART  0.145900\n",
       "33078149     0716068 ESCOLA MUNICIPAL MARIA DA SILVA FRANCA  0.175401\n",
       "33073031       0313013 ESCOLA MUNICIPAL MINISTRO GAMA FILHO  0.218386\n",
       "33088063             0625501 CIEP DOUTOR ADAO PEREIRA NUNES  0.250596\n",
       "33063150               0103006 ESCOLA MUNICIPAL JENNY GOMES  0.266421\n",
       "33085927            1120013 ESCOLA MUNICIPAL ALICE TIBIRICA  0.276340\n",
       "33065675    0206007 ESCOLA MUNICIPAL EDNA PONCIONI FERREIRA  0.290307\n",
       "33085420                       1120502 CIEP JOAO MANGABEIRA  0.306962\n",
       "33082642       0918056 ESCOLA MUNICIPAL AUGUSTO VASCONCELOS  0.328999\n",
       "33087130         0625029 ESCOLA MUNICIPAL JOSE PEDRO VARELA  0.343035"
      ]
     },
     "execution_count": 127,
     "metadata": {},
     "output_type": "execute_result"
    }
   ],
   "source": [
    "bottom_15[['nome_escola', 'delta']]"
   ]
  },
  {
   "cell_type": "code",
   "execution_count": 39,
   "metadata": {},
   "outputs": [],
   "source": [
    "bottom_15.to_csv(OUTPUT_PATH / 'bottom_15_delta.csv')"
   ]
  },
  {
   "cell_type": "markdown",
   "metadata": {},
   "source": [
    "<a id='2'></a>\n",
    "### Identify schools that jumped from low / very low IDEB (<5 / <4) and went to high IDEB (> 6), from 2005 to 2017.\n",
    "\n",
    "Our interest group are the following:\n",
    "\n",
    "- Group 1: Schools from very low (< 4) to high (> 6)\n",
    "- Group 2: Schools from low (4 < x < 5) to high (> 6)\n",
    "- Group 3: Schools went to high (> 6) with delta > 2"
   ]
  },
  {
   "cell_type": "code",
   "execution_count": 203,
   "metadata": {},
   "outputs": [
    {
     "data": {
      "text/plain": [
       "(5, 14)"
      ]
     },
     "execution_count": 203,
     "metadata": {},
     "output_type": "execute_result"
    }
   ],
   "source": [
    "pessimo_pra_bom = joined_data_wide[(joined_data_wide['saeb_2005'] <= 4) & (joined_data_wide['saeb_2017'] >= 6)].copy()\n",
    "pessimo_pra_bom.shape"
   ]
  },
  {
   "cell_type": "code",
   "execution_count": 129,
   "metadata": {},
   "outputs": [
    {
     "data": {
      "text/html": [
       "<div>\n",
       "<style scoped>\n",
       "    .dataframe tbody tr th:only-of-type {\n",
       "        vertical-align: middle;\n",
       "    }\n",
       "\n",
       "    .dataframe tbody tr th {\n",
       "        vertical-align: top;\n",
       "    }\n",
       "\n",
       "    .dataframe thead th {\n",
       "        text-align: right;\n",
       "    }\n",
       "</style>\n",
       "<table border=\"1\" class=\"dataframe\">\n",
       "  <thead>\n",
       "    <tr style=\"text-align: right;\">\n",
       "      <th></th>\n",
       "      <th>saeb_2005</th>\n",
       "      <th>saeb_2007</th>\n",
       "      <th>saeb_2009</th>\n",
       "      <th>saeb_2011</th>\n",
       "      <th>saeb_2013</th>\n",
       "      <th>saeb_2015</th>\n",
       "      <th>saeb_2017</th>\n",
       "      <th>nome_escola</th>\n",
       "      <th>nome_abrev</th>\n",
       "      <th>geometry</th>\n",
       "      <th>delta</th>\n",
       "    </tr>\n",
       "    <tr>\n",
       "      <th>cod_inep</th>\n",
       "      <th></th>\n",
       "      <th></th>\n",
       "      <th></th>\n",
       "      <th></th>\n",
       "      <th></th>\n",
       "      <th></th>\n",
       "      <th></th>\n",
       "      <th></th>\n",
       "      <th></th>\n",
       "      <th></th>\n",
       "      <th></th>\n",
       "    </tr>\n",
       "  </thead>\n",
       "  <tbody>\n",
       "    <tr>\n",
       "      <th>33063265</th>\n",
       "      <td>3.857645</td>\n",
       "      <td>4.933373</td>\n",
       "      <td>6.520044</td>\n",
       "      <td>7.288479</td>\n",
       "      <td>6.803655</td>\n",
       "      <td>6.699540</td>\n",
       "      <td>7.158848</td>\n",
       "      <td>0204502 CIEP PRESIDENTE AGOSTINHO NETO</td>\n",
       "      <td>CIEP PRES. AGOSTINHO NETO</td>\n",
       "      <td>POINT (-43.19972337709782 -22.95916715402146)</td>\n",
       "      <td>3.301203</td>\n",
       "    </tr>\n",
       "    <tr>\n",
       "      <th>33080259</th>\n",
       "      <td>3.419974</td>\n",
       "      <td>3.904136</td>\n",
       "      <td>NaN</td>\n",
       "      <td>NaN</td>\n",
       "      <td>5.989727</td>\n",
       "      <td>5.772956</td>\n",
       "      <td>6.228015</td>\n",
       "      <td>0833014 ESCOLA MUNICIPAL CHURCHILL</td>\n",
       "      <td>EM CHURCHILL</td>\n",
       "      <td>POINT (-43.41654009436157 -22.87411109154034)</td>\n",
       "      <td>2.808041</td>\n",
       "    </tr>\n",
       "    <tr>\n",
       "      <th>33083142</th>\n",
       "      <td>3.429888</td>\n",
       "      <td>4.698827</td>\n",
       "      <td>6.058631</td>\n",
       "      <td>5.880582</td>\n",
       "      <td>6.055677</td>\n",
       "      <td>6.113641</td>\n",
       "      <td>6.139020</td>\n",
       "      <td>1026005 ESCOLA MUNICIPAL NARCISA AMALIA</td>\n",
       "      <td>EM NARCISA AMÁLIA</td>\n",
       "      <td>POINT (-43.5375824077866 -23.00908395435429)</td>\n",
       "      <td>2.709132</td>\n",
       "    </tr>\n",
       "    <tr>\n",
       "      <th>33083231</th>\n",
       "      <td>3.997898</td>\n",
       "      <td>4.795727</td>\n",
       "      <td>5.784050</td>\n",
       "      <td>6.081454</td>\n",
       "      <td>6.199461</td>\n",
       "      <td>6.654705</td>\n",
       "      <td>6.018823</td>\n",
       "      <td>0918021 ESCOLA MUNICIPAL PROFESSOR FELIPE SANT...</td>\n",
       "      <td>EM PROF° FELIPE SANTIAGO</td>\n",
       "      <td>POINT (-43.55998229380447 -22.93331372430114)</td>\n",
       "      <td>2.020925</td>\n",
       "    </tr>\n",
       "    <tr>\n",
       "      <th>33085978</th>\n",
       "      <td>3.929780</td>\n",
       "      <td>4.221330</td>\n",
       "      <td>5.515749</td>\n",
       "      <td>6.243950</td>\n",
       "      <td>5.864324</td>\n",
       "      <td>5.934327</td>\n",
       "      <td>6.444075</td>\n",
       "      <td>1120020 ESCOLA MUNICIPAL BELMIRO MEDEIROS</td>\n",
       "      <td>EM BELMIRO MEDEIROS</td>\n",
       "      <td>POINT (-43.19943970227582 -22.79852875165228)</td>\n",
       "      <td>2.514295</td>\n",
       "    </tr>\n",
       "  </tbody>\n",
       "</table>\n",
       "</div>"
      ],
      "text/plain": [
       "          saeb_2005  saeb_2007  saeb_2009  saeb_2011  saeb_2013  saeb_2015  \\\n",
       "cod_inep                                                                     \n",
       "33063265   3.857645   4.933373   6.520044   7.288479   6.803655   6.699540   \n",
       "33080259   3.419974   3.904136        NaN        NaN   5.989727   5.772956   \n",
       "33083142   3.429888   4.698827   6.058631   5.880582   6.055677   6.113641   \n",
       "33083231   3.997898   4.795727   5.784050   6.081454   6.199461   6.654705   \n",
       "33085978   3.929780   4.221330   5.515749   6.243950   5.864324   5.934327   \n",
       "\n",
       "          saeb_2017                                        nome_escola  \\\n",
       "cod_inep                                                                 \n",
       "33063265   7.158848             0204502 CIEP PRESIDENTE AGOSTINHO NETO   \n",
       "33080259   6.228015                 0833014 ESCOLA MUNICIPAL CHURCHILL   \n",
       "33083142   6.139020            1026005 ESCOLA MUNICIPAL NARCISA AMALIA   \n",
       "33083231   6.018823  0918021 ESCOLA MUNICIPAL PROFESSOR FELIPE SANT...   \n",
       "33085978   6.444075          1120020 ESCOLA MUNICIPAL BELMIRO MEDEIROS   \n",
       "\n",
       "                         nome_abrev  \\\n",
       "cod_inep                              \n",
       "33063265  CIEP PRES. AGOSTINHO NETO   \n",
       "33080259               EM CHURCHILL   \n",
       "33083142          EM NARCISA AMÁLIA   \n",
       "33083231   EM PROF° FELIPE SANTIAGO   \n",
       "33085978        EM BELMIRO MEDEIROS   \n",
       "\n",
       "                                               geometry     delta  \n",
       "cod_inep                                                           \n",
       "33063265  POINT (-43.19972337709782 -22.95916715402146)  3.301203  \n",
       "33080259  POINT (-43.41654009436157 -22.87411109154034)  2.808041  \n",
       "33083142   POINT (-43.5375824077866 -23.00908395435429)  2.709132  \n",
       "33083231  POINT (-43.55998229380447 -22.93331372430114)  2.020925  \n",
       "33085978  POINT (-43.19943970227582 -22.79852875165228)  2.514295  "
      ]
     },
     "execution_count": 129,
     "metadata": {},
     "output_type": "execute_result"
    }
   ],
   "source": [
    "pessimo_pra_bom.head()"
   ]
  },
  {
   "cell_type": "code",
   "execution_count": 204,
   "metadata": {},
   "outputs": [
    {
     "data": {
      "text/plain": [
       "(147, 14)"
      ]
     },
     "execution_count": 204,
     "metadata": {},
     "output_type": "execute_result"
    }
   ],
   "source": [
    "ruim_pra_bom = joined_data_wide[(joined_data_wide['saeb_2005'] > 4) & \n",
    "                        (joined_data_wide['saeb_2005'] <= 5) & \n",
    "                        (joined_data_wide['saeb_2017'] >= 6)].copy()\n",
    "ruim_pra_bom.shape"
   ]
  },
  {
   "cell_type": "code",
   "execution_count": 205,
   "metadata": {},
   "outputs": [
    {
     "data": {
      "text/plain": [
       "(42, 14)"
      ]
     },
     "execution_count": 205,
     "metadata": {},
     "output_type": "execute_result"
    }
   ],
   "source": [
    "melhora_com_final_bom = joined_data_wide[(joined_data_wide['delta'] >= 2) & (joined_data_wide['saeb_2017'] >= 6)]\n",
    "melhora_com_final_bom.shape"
   ]
  },
  {
   "cell_type": "code",
   "execution_count": 132,
   "metadata": {},
   "outputs": [
    {
     "data": {
      "text/plain": [
       "6"
      ]
     },
     "execution_count": 132,
     "metadata": {},
     "output_type": "execute_result"
    }
   ],
   "source": [
    "len(melhora_com_final_bom[(melhora_com_final_bom.index.isin(pessimo_pra_bom.index) == False)\n",
    "                          & (melhora_com_final_bom.index.isin(ruim_pra_bom.index) == False)])"
   ]
  },
  {
   "cell_type": "code",
   "execution_count": 133,
   "metadata": {},
   "outputs": [
    {
     "data": {
      "text/html": [
       "<div>\n",
       "<style scoped>\n",
       "    .dataframe tbody tr th:only-of-type {\n",
       "        vertical-align: middle;\n",
       "    }\n",
       "\n",
       "    .dataframe tbody tr th {\n",
       "        vertical-align: top;\n",
       "    }\n",
       "\n",
       "    .dataframe thead th {\n",
       "        text-align: right;\n",
       "    }\n",
       "</style>\n",
       "<table border=\"1\" class=\"dataframe\">\n",
       "  <thead>\n",
       "    <tr style=\"text-align: right;\">\n",
       "      <th></th>\n",
       "      <th>saeb_2005</th>\n",
       "      <th>saeb_2007</th>\n",
       "      <th>saeb_2009</th>\n",
       "      <th>saeb_2011</th>\n",
       "      <th>saeb_2013</th>\n",
       "      <th>saeb_2015</th>\n",
       "      <th>saeb_2017</th>\n",
       "      <th>nome_escola</th>\n",
       "      <th>nome_abrev</th>\n",
       "      <th>geometry</th>\n",
       "      <th>delta</th>\n",
       "    </tr>\n",
       "    <tr>\n",
       "      <th>cod_inep</th>\n",
       "      <th></th>\n",
       "      <th></th>\n",
       "      <th></th>\n",
       "      <th></th>\n",
       "      <th></th>\n",
       "      <th></th>\n",
       "      <th></th>\n",
       "      <th></th>\n",
       "      <th></th>\n",
       "      <th></th>\n",
       "      <th></th>\n",
       "    </tr>\n",
       "  </thead>\n",
       "  <tbody>\n",
       "    <tr>\n",
       "      <th>33068291</th>\n",
       "      <td>5.832745</td>\n",
       "      <td>6.517208</td>\n",
       "      <td>7.283190</td>\n",
       "      <td>7.710595</td>\n",
       "      <td>7.741815</td>\n",
       "      <td>8.405570</td>\n",
       "      <td>7.932498</td>\n",
       "      <td>0209006 ESCOLA MUNICIPAL FRIEDENREICH</td>\n",
       "      <td>EM FRIEDENREICH</td>\n",
       "      <td>POINT (-43.2287917694675 -22.9132989864157)</td>\n",
       "      <td>2.099753</td>\n",
       "    </tr>\n",
       "    <tr>\n",
       "      <th>33082804</th>\n",
       "      <td>5.313205</td>\n",
       "      <td>5.442894</td>\n",
       "      <td>5.937958</td>\n",
       "      <td>6.744520</td>\n",
       "      <td>6.196840</td>\n",
       "      <td>6.875725</td>\n",
       "      <td>7.461205</td>\n",
       "      <td>0918024 ESCOLA MUNICIPAL DOM MEINRADO</td>\n",
       "      <td>EM DOM MEINRADO</td>\n",
       "      <td>POINT (-43.5496645070606 -22.91048658161989)</td>\n",
       "      <td>2.148001</td>\n",
       "    </tr>\n",
       "    <tr>\n",
       "      <th>33086133</th>\n",
       "      <td>5.024845</td>\n",
       "      <td>5.436850</td>\n",
       "      <td>6.433725</td>\n",
       "      <td>6.694114</td>\n",
       "      <td>7.118221</td>\n",
       "      <td>7.084966</td>\n",
       "      <td>7.403518</td>\n",
       "      <td>1120009 ESCOLA MUNICIPAL PADRE JOSE DE ANCHIETA</td>\n",
       "      <td>EM PE. JOSÉ DE ANCHIETA</td>\n",
       "      <td>POINT (-43.20063623028346 -22.81472925665339)</td>\n",
       "      <td>2.378673</td>\n",
       "    </tr>\n",
       "    <tr>\n",
       "      <th>33087806</th>\n",
       "      <td>5.507499</td>\n",
       "      <td>5.496628</td>\n",
       "      <td>7.679376</td>\n",
       "      <td>7.466064</td>\n",
       "      <td>7.696377</td>\n",
       "      <td>7.758135</td>\n",
       "      <td>8.066361</td>\n",
       "      <td>0724014 ESCOLA MUNICIPAL PROFESSORA DIDIA MACH...</td>\n",
       "      <td>EM PROFª  DIDIA MACHADO FORTES</td>\n",
       "      <td>POINT (-43.36862307356228 -23.0092058869504)</td>\n",
       "      <td>2.558862</td>\n",
       "    </tr>\n",
       "    <tr>\n",
       "      <th>33100551</th>\n",
       "      <td>5.092053</td>\n",
       "      <td>5.355570</td>\n",
       "      <td>6.837811</td>\n",
       "      <td>6.917644</td>\n",
       "      <td>7.328386</td>\n",
       "      <td>8.134118</td>\n",
       "      <td>7.743812</td>\n",
       "      <td>0817127 ESCOLA MUNICIPAL AYRTON SENNA DA SILVA</td>\n",
       "      <td>EM AYRTON SENNA DA SILVA</td>\n",
       "      <td>POINT (-43.47815290047215 -22.86416212141511)</td>\n",
       "      <td>2.651759</td>\n",
       "    </tr>\n",
       "    <tr>\n",
       "      <th>33146268</th>\n",
       "      <td>5.308621</td>\n",
       "      <td>5.767172</td>\n",
       "      <td>6.898639</td>\n",
       "      <td>7.582618</td>\n",
       "      <td>7.952185</td>\n",
       "      <td>8.193749</td>\n",
       "      <td>8.315635</td>\n",
       "      <td>0716073 ESCOLA MUNICIPAL ROBERTO BURLE MARX</td>\n",
       "      <td>EM ROBERTO BURLE MARX</td>\n",
       "      <td>POINT (-43.38986811115883 -22.96862317920035)</td>\n",
       "      <td>3.007014</td>\n",
       "    </tr>\n",
       "  </tbody>\n",
       "</table>\n",
       "</div>"
      ],
      "text/plain": [
       "          saeb_2005  saeb_2007  saeb_2009  saeb_2011  saeb_2013  saeb_2015  \\\n",
       "cod_inep                                                                     \n",
       "33068291   5.832745   6.517208   7.283190   7.710595   7.741815   8.405570   \n",
       "33082804   5.313205   5.442894   5.937958   6.744520   6.196840   6.875725   \n",
       "33086133   5.024845   5.436850   6.433725   6.694114   7.118221   7.084966   \n",
       "33087806   5.507499   5.496628   7.679376   7.466064   7.696377   7.758135   \n",
       "33100551   5.092053   5.355570   6.837811   6.917644   7.328386   8.134118   \n",
       "33146268   5.308621   5.767172   6.898639   7.582618   7.952185   8.193749   \n",
       "\n",
       "          saeb_2017                                        nome_escola  \\\n",
       "cod_inep                                                                 \n",
       "33068291   7.932498              0209006 ESCOLA MUNICIPAL FRIEDENREICH   \n",
       "33082804   7.461205              0918024 ESCOLA MUNICIPAL DOM MEINRADO   \n",
       "33086133   7.403518    1120009 ESCOLA MUNICIPAL PADRE JOSE DE ANCHIETA   \n",
       "33087806   8.066361  0724014 ESCOLA MUNICIPAL PROFESSORA DIDIA MACH...   \n",
       "33100551   7.743812     0817127 ESCOLA MUNICIPAL AYRTON SENNA DA SILVA   \n",
       "33146268   8.315635        0716073 ESCOLA MUNICIPAL ROBERTO BURLE MARX   \n",
       "\n",
       "                              nome_abrev  \\\n",
       "cod_inep                                   \n",
       "33068291                 EM FRIEDENREICH   \n",
       "33082804                 EM DOM MEINRADO   \n",
       "33086133         EM PE. JOSÉ DE ANCHIETA   \n",
       "33087806  EM PROFª  DIDIA MACHADO FORTES   \n",
       "33100551        EM AYRTON SENNA DA SILVA   \n",
       "33146268           EM ROBERTO BURLE MARX   \n",
       "\n",
       "                                               geometry     delta  \n",
       "cod_inep                                                           \n",
       "33068291    POINT (-43.2287917694675 -22.9132989864157)  2.099753  \n",
       "33082804   POINT (-43.5496645070606 -22.91048658161989)  2.148001  \n",
       "33086133  POINT (-43.20063623028346 -22.81472925665339)  2.378673  \n",
       "33087806   POINT (-43.36862307356228 -23.0092058869504)  2.558862  \n",
       "33100551  POINT (-43.47815290047215 -22.86416212141511)  2.651759  \n",
       "33146268  POINT (-43.38986811115883 -22.96862317920035)  3.007014  "
      ]
     },
     "execution_count": 133,
     "metadata": {},
     "output_type": "execute_result"
    }
   ],
   "source": [
    "melhora_com_final_bom[(melhora_com_final_bom.index.isin(pessimo_pra_bom.index) == False)\n",
    "                       & (melhora_com_final_bom.index.isin(ruim_pra_bom.index) == False)]"
   ]
  },
  {
   "cell_type": "markdown",
   "metadata": {},
   "source": [
    "* How many from Group 1 were in top 15?"
   ]
  },
  {
   "cell_type": "code",
   "execution_count": 134,
   "metadata": {},
   "outputs": [
    {
     "data": {
      "text/plain": [
       "True     4\n",
       "False    1\n",
       "dtype: int64"
      ]
     },
     "execution_count": 134,
     "metadata": {},
     "output_type": "execute_result"
    }
   ],
   "source": [
    "pd.Series(pessimo_pra_bom.index.isin(joined_data_wide.sort_values(\"delta\", ascending = False).head(15).index)).value_counts()"
   ]
  },
  {
   "cell_type": "code",
   "execution_count": 135,
   "metadata": {},
   "outputs": [],
   "source": [
    "# cria listas com os cod_inep de cada um dos critérios para poder incluir na visualização\n",
    "pessimo_pra_bom_list = [int(x) for x in list(pessimo_pra_bom.index)]\n",
    "ruim_pra_bom_list = [int(x) for x in list(ruim_pra_bom.index)]\n",
    "melhora_com_final_bom_list = [int(x) for x in list(melhora_com_final_bom.index)]\n",
    "\n",
    "inicial_baixo_list = [int(x) for x in list(joined_data_wide[(joined_data_wide[\"saeb_2005\"] > 4) & (joined_data_wide[\"saeb_2005\"] <= 5)].index)]\n",
    "inicial_baixissimo_list = [int(x) for x in list(joined_data_wide[joined_data_wide[\"saeb_2005\"] <= 4].index)]"
   ]
  },
  {
   "cell_type": "markdown",
   "metadata": {},
   "source": [
    "* Separate only the schools with low/very low initial saeb for vizualization (on [kepler.gl](https://kepler.gl))"
   ]
  },
  {
   "cell_type": "code",
   "execution_count": 159,
   "metadata": {},
   "outputs": [],
   "source": [
    "# crete categorie flags\n",
    "joined_data[\"pessimo_pra_bom_bin\"] = joined_data[\"cod_inep\"].isin(pessimo_pra_bom_list)\n",
    "joined_data[\"pessimo_pra_bom_bin\"] = joined_data[\"pessimo_pra_bom_bin\"].astype(\"int\")\n",
    "\n",
    "joined_data[\"ruim_pra_bom_bin\"] = joined_data[\"cod_inep\"].isin(ruim_pra_bom_list)\n",
    "joined_data[\"ruim_pra_bom_bin\"] = joined_data[\"ruim_pra_bom_bin\"].astype(\"int\")\n",
    "\n",
    "joined_data[\"melhora_com_final_bom_bin\"] = joined_data[\"cod_inep\"].isin(melhora_com_final_bom_list)\n",
    "joined_data[\"melhora_com_final_bom_bin\"] = joined_data[\"melhora_com_final_bom_bin\"].astype(\"int\")\n",
    "\n",
    "joined_data[\"inicial_baixo_bin\"] = joined_data[\"cod_inep\"].isin(inicial_baixo_list)\n",
    "joined_data[\"inicial_baixo_bin\"] = joined_data[\"inicial_baixo_bin\"].astype(\"int\")\n",
    "\n",
    "joined_data[\"inicial_baixissimo_bin\"] = joined_data[\"cod_inep\"].isin(inicial_baixissimo_list)\n",
    "joined_data[\"inicial_baixissimo_bin\"] = joined_data[\"inicial_baixissimo_bin\"].astype(\"int\")"
   ]
  },
  {
   "cell_type": "markdown",
   "metadata": {},
   "source": [
    "* Separate the schools by saeb 2017 quartiles to define the attencion level from each one"
   ]
  },
  {
   "cell_type": "code",
   "execution_count": 160,
   "metadata": {},
   "outputs": [],
   "source": [
    "# quartile split\n",
    "joined_data_wide[\"nivel_atencao\"] = pd.qcut(joined_data_wide[\"saeb_2017\"], 4, labels = [4, 3, 2, 1])"
   ]
  },
  {
   "cell_type": "code",
   "execution_count": 161,
   "metadata": {},
   "outputs": [
    {
     "data": {
      "text/html": [
       "<div>\n",
       "<style scoped>\n",
       "    .dataframe tbody tr th:only-of-type {\n",
       "        vertical-align: middle;\n",
       "    }\n",
       "\n",
       "    .dataframe tbody tr th {\n",
       "        vertical-align: top;\n",
       "    }\n",
       "\n",
       "    .dataframe thead th {\n",
       "        text-align: right;\n",
       "    }\n",
       "</style>\n",
       "<table border=\"1\" class=\"dataframe\">\n",
       "  <thead>\n",
       "    <tr style=\"text-align: right;\">\n",
       "      <th></th>\n",
       "      <th>nome_escola</th>\n",
       "      <th>nivel_atencao</th>\n",
       "      <th>saeb_2017</th>\n",
       "    </tr>\n",
       "  </thead>\n",
       "  <tbody>\n",
       "    <tr>\n",
       "      <th>0</th>\n",
       "      <td>0101501 CIEP HENFIL</td>\n",
       "      <td>3</td>\n",
       "      <td>5.850870</td>\n",
       "    </tr>\n",
       "    <tr>\n",
       "      <th>1</th>\n",
       "      <td>0101004 ESCOLA MUNICIPAL BENJAMIN CONSTANT</td>\n",
       "      <td>4</td>\n",
       "      <td>5.678480</td>\n",
       "    </tr>\n",
       "    <tr>\n",
       "      <th>2</th>\n",
       "      <td>0101003 ESCOLA MUNICIPAL DARCY VARGAS</td>\n",
       "      <td>2</td>\n",
       "      <td>6.183916</td>\n",
       "    </tr>\n",
       "    <tr>\n",
       "      <th>3</th>\n",
       "      <td>0101006 ESCOLA MUNICIPAL FRANCISCO BENJAMIM GA...</td>\n",
       "      <td>3</td>\n",
       "      <td>5.904590</td>\n",
       "    </tr>\n",
       "    <tr>\n",
       "      <th>4</th>\n",
       "      <td>0101005 ESCOLA MUNICIPAL GENERAL MITRE</td>\n",
       "      <td>3</td>\n",
       "      <td>6.084150</td>\n",
       "    </tr>\n",
       "    <tr>\n",
       "      <th>5</th>\n",
       "      <td>0101008 ESCOLA MUNICIPAL MARECHAL ESPERIDIAO R...</td>\n",
       "      <td>2</td>\n",
       "      <td>6.242870</td>\n",
       "    </tr>\n",
       "    <tr>\n",
       "      <th>6</th>\n",
       "      <td>0101007 ESCOLA MUNICIPAL MARECHAL MASCARENHAS ...</td>\n",
       "      <td>NaN</td>\n",
       "      <td>NaN</td>\n",
       "    </tr>\n",
       "    <tr>\n",
       "      <th>7</th>\n",
       "      <td>0101804 EDI PROFESSORA LAURA SYLVIA MENDES PER...</td>\n",
       "      <td>NaN</td>\n",
       "      <td>NaN</td>\n",
       "    </tr>\n",
       "    <tr>\n",
       "      <th>8</th>\n",
       "      <td>0101009 ESCOLA MUNICIPAL PROFESSOR WALTER CARL...</td>\n",
       "      <td>NaN</td>\n",
       "      <td>NaN</td>\n",
       "    </tr>\n",
       "    <tr>\n",
       "      <th>9</th>\n",
       "      <td>0101001 ESCOLA MUNICIPAL VICENTE LICINIO CARDOSO</td>\n",
       "      <td>NaN</td>\n",
       "      <td>NaN</td>\n",
       "    </tr>\n",
       "    <tr>\n",
       "      <th>10</th>\n",
       "      <td>0102505 CIEP JOSE PEDRO VARELA</td>\n",
       "      <td>2</td>\n",
       "      <td>6.457041</td>\n",
       "    </tr>\n",
       "    <tr>\n",
       "      <th>11</th>\n",
       "      <td>0102501 ESCOLA MUNICIPAL TIA CIATA</td>\n",
       "      <td>3</td>\n",
       "      <td>5.979720</td>\n",
       "    </tr>\n",
       "    <tr>\n",
       "      <th>12</th>\n",
       "      <td>0102005 ESCOLA MUNICIPAL CALOUSTE GULBENKIAN</td>\n",
       "      <td>NaN</td>\n",
       "      <td>NaN</td>\n",
       "    </tr>\n",
       "    <tr>\n",
       "      <th>13</th>\n",
       "      <td>0102001 ESCOLA MUNICIPAL CELESTINO DA SILVA</td>\n",
       "      <td>NaN</td>\n",
       "      <td>NaN</td>\n",
       "    </tr>\n",
       "    <tr>\n",
       "      <th>14</th>\n",
       "      <td>0102002 ESCOLA MUNICIPAL TIRADENTES</td>\n",
       "      <td>2</td>\n",
       "      <td>6.193514</td>\n",
       "    </tr>\n",
       "  </tbody>\n",
       "</table>\n",
       "</div>"
      ],
      "text/plain": [
       "                                          nome_escola nivel_atencao  saeb_2017\n",
       "0                                 0101501 CIEP HENFIL             3   5.850870\n",
       "1          0101004 ESCOLA MUNICIPAL BENJAMIN CONSTANT             4   5.678480\n",
       "2               0101003 ESCOLA MUNICIPAL DARCY VARGAS             2   6.183916\n",
       "3   0101006 ESCOLA MUNICIPAL FRANCISCO BENJAMIM GA...             3   5.904590\n",
       "4              0101005 ESCOLA MUNICIPAL GENERAL MITRE             3   6.084150\n",
       "5   0101008 ESCOLA MUNICIPAL MARECHAL ESPERIDIAO R...             2   6.242870\n",
       "6   0101007 ESCOLA MUNICIPAL MARECHAL MASCARENHAS ...           NaN        NaN\n",
       "7   0101804 EDI PROFESSORA LAURA SYLVIA MENDES PER...           NaN        NaN\n",
       "8   0101009 ESCOLA MUNICIPAL PROFESSOR WALTER CARL...           NaN        NaN\n",
       "9    0101001 ESCOLA MUNICIPAL VICENTE LICINIO CARDOSO           NaN        NaN\n",
       "10                     0102505 CIEP JOSE PEDRO VARELA             2   6.457041\n",
       "11                 0102501 ESCOLA MUNICIPAL TIA CIATA             3   5.979720\n",
       "12       0102005 ESCOLA MUNICIPAL CALOUSTE GULBENKIAN           NaN        NaN\n",
       "13        0102001 ESCOLA MUNICIPAL CELESTINO DA SILVA           NaN        NaN\n",
       "14                0102002 ESCOLA MUNICIPAL TIRADENTES             2   6.193514"
      ]
     },
     "execution_count": 161,
     "metadata": {},
     "output_type": "execute_result"
    }
   ],
   "source": [
    "joined_data_wide[[\"nome_escola\", \"nivel_atencao\", \"saeb_2017\"]].head(15)"
   ]
  },
  {
   "cell_type": "code",
   "execution_count": 162,
   "metadata": {},
   "outputs": [
    {
     "data": {
      "text/html": [
       "<div>\n",
       "<style scoped>\n",
       "    .dataframe tbody tr th:only-of-type {\n",
       "        vertical-align: middle;\n",
       "    }\n",
       "\n",
       "    .dataframe tbody tr th {\n",
       "        vertical-align: top;\n",
       "    }\n",
       "\n",
       "    .dataframe thead th {\n",
       "        text-align: right;\n",
       "    }\n",
       "</style>\n",
       "<table border=\"1\" class=\"dataframe\">\n",
       "  <thead>\n",
       "    <tr style=\"text-align: right;\">\n",
       "      <th></th>\n",
       "      <th>min</th>\n",
       "      <th>mean</th>\n",
       "      <th>max</th>\n",
       "    </tr>\n",
       "    <tr>\n",
       "      <th>nivel_atencao</th>\n",
       "      <th></th>\n",
       "      <th></th>\n",
       "      <th></th>\n",
       "    </tr>\n",
       "  </thead>\n",
       "  <tbody>\n",
       "    <tr>\n",
       "      <th>4</th>\n",
       "      <td>4.589047</td>\n",
       "      <td>5.544619</td>\n",
       "      <td>5.841923</td>\n",
       "    </tr>\n",
       "    <tr>\n",
       "      <th>3</th>\n",
       "      <td>5.847922</td>\n",
       "      <td>6.022481</td>\n",
       "      <td>6.180112</td>\n",
       "    </tr>\n",
       "    <tr>\n",
       "      <th>2</th>\n",
       "      <td>6.180912</td>\n",
       "      <td>6.352182</td>\n",
       "      <td>6.521491</td>\n",
       "    </tr>\n",
       "    <tr>\n",
       "      <th>1</th>\n",
       "      <td>6.522492</td>\n",
       "      <td>6.892440</td>\n",
       "      <td>8.315635</td>\n",
       "    </tr>\n",
       "  </tbody>\n",
       "</table>\n",
       "</div>"
      ],
      "text/plain": [
       "                    min      mean       max\n",
       "nivel_atencao                              \n",
       "4              4.589047  5.544619  5.841923\n",
       "3              5.847922  6.022481  6.180112\n",
       "2              6.180912  6.352182  6.521491\n",
       "1              6.522492  6.892440  8.315635"
      ]
     },
     "execution_count": 162,
     "metadata": {},
     "output_type": "execute_result"
    }
   ],
   "source": [
    "joined_data_wide.groupby(\"nivel_atencao\")[\"saeb_2017\"].agg([\"min\", \"mean\", \"max\"])"
   ]
  },
  {
   "cell_type": "code",
   "execution_count": 163,
   "metadata": {},
   "outputs": [
    {
     "data": {
      "text/plain": [
       "1    151\n",
       "3    151\n",
       "4    151\n",
       "2    150\n",
       "Name: nivel_atencao, dtype: int64"
      ]
     },
     "execution_count": 163,
     "metadata": {},
     "output_type": "execute_result"
    }
   ],
   "source": [
    "joined_data_wide[\"nivel_atencao\"].value_counts()"
   ]
  },
  {
   "cell_type": "markdown",
   "metadata": {},
   "source": [
    "<a id=\"3\"></a>\n",
    "### Model neighboors: which schools had a large delta and were nearby schools on the highest attention level (4)?"
   ]
  },
  {
   "cell_type": "code",
   "execution_count": 164,
   "metadata": {},
   "outputs": [],
   "source": [
    "joined_data_wide = joined_data_wide.reset_index()"
   ]
  },
  {
   "cell_type": "code",
   "execution_count": 165,
   "metadata": {},
   "outputs": [],
   "source": [
    "joined_data_wide[\"cod_inep\"] = joined_data_wide[\"cod_inep\"].apply(lambda x: int(x))"
   ]
  },
  {
   "cell_type": "code",
   "execution_count": 166,
   "metadata": {},
   "outputs": [],
   "source": [
    "proto_kepler = pd.merge(joined_data, joined_data_wide[['cod_inep', 'nivel_atencao']], how=\"left\", on=\"cod_inep\")"
   ]
  },
  {
   "cell_type": "code",
   "execution_count": 167,
   "metadata": {},
   "outputs": [],
   "source": [
    "proto_kepler.to_csv(OUTPUT_PATH / \"kepler_saeb_with_filters.csv\", index=False)"
   ]
  },
  {
   "cell_type": "code",
   "execution_count": 168,
   "metadata": {},
   "outputs": [],
   "source": [
    "geo_kepler = gpd.GeoDataFrame(proto_kepler, geometry=proto_kepler[\"geometry\"].map(wkt.loads),\n",
    "                             crs = {\"init\" : \"epsg:4326\"})"
   ]
  },
  {
   "cell_type": "code",
   "execution_count": 169,
   "metadata": {},
   "outputs": [],
   "source": [
    "escolas_referencia = geo_kepler.query(\"ruim_pra_bom_bin == 1 | pessimo_pra_bom_bin == 1\").copy()\n",
    "escolas_referencia = escolas_referencia.query(\"ano == 2017\")\n",
    "escolas_referencia.to_crs(epsg=3395, inplace = True)"
   ]
  },
  {
   "cell_type": "code",
   "execution_count": 170,
   "metadata": {},
   "outputs": [],
   "source": [
    "#geo_kepler['nivel_atencao'].value_counts()\n",
    "escolas_atencao = geo_kepler.query(\"nivel_atencao == 4 & ano == 2017\").copy()\n",
    "escolas_atencao.to_crs(epsg=3395, inplace = True)"
   ]
  },
  {
   "cell_type": "markdown",
   "metadata": {},
   "source": [
    "* Number of schools of high risk"
   ]
  },
  {
   "cell_type": "code",
   "execution_count": 171,
   "metadata": {},
   "outputs": [
    {
     "data": {
      "text/plain": [
       "151"
      ]
     },
     "execution_count": 171,
     "metadata": {},
     "output_type": "execute_result"
    }
   ],
   "source": [
    "len(escolas_atencao)"
   ]
  },
  {
   "cell_type": "code",
   "execution_count": 172,
   "metadata": {},
   "outputs": [],
   "source": [
    "escolas_atencao_vizinhos = {}\n",
    "\n",
    "for idx in escolas_atencao.index:\n",
    "    \n",
    "    coord_escola_risco = escolas_atencao[\"geometry\"][idx]\n",
    "    escolas_referencia[\"distancia\"] = escolas_referencia[\"geometry\"].apply(lambda x: x.distance(coord_escola_risco))\n",
    "    \n",
    "    sponsors = escolas_referencia.sort_values(\"distancia\").head(15)\n",
    "    escolas_atencao_vizinhos[escolas_atencao[\"nome_escola\"][idx]] = sponsors[[\n",
    "            \"nome_escola\", \"cod_inep\", \"saeb\",\n",
    "             \"pessimo_pra_bom_bin\", \"ruim_pra_bom_bin\",\n",
    "            \"melhora_com_final_bom_bin\", \"distancia\"\n",
    "        ]]"
   ]
  },
  {
   "cell_type": "code",
   "execution_count": 173,
   "metadata": {},
   "outputs": [
    {
     "data": {
      "text/plain": [
       "151"
      ]
     },
     "execution_count": 173,
     "metadata": {},
     "output_type": "execute_result"
    }
   ],
   "source": [
    "len(escolas_atencao_vizinhos.keys())"
   ]
  },
  {
   "cell_type": "code",
   "execution_count": 174,
   "metadata": {},
   "outputs": [
    {
     "data": {
      "text/plain": [
       "['1019064 ESCOLA MUNICIPAL ALVARO VALLE',\n",
       " '0622020 ESCOLA MUNICIPAL MAURICE MAETERLINCK',\n",
       " '0622204 CIEP JOAO DO RIO',\n",
       " '0625035 ESCOLA MUNICIPAL PREFEITO MARCOS TAMOYO',\n",
       " '0625009 ESCOLA MUNICIPAL CORNELIO PENA',\n",
       " '0430002 ESCOLA MUNICIPAL TEOTONIO VILELA',\n",
       " '0430501 CIEP PRESIDENTE SAMORA MACHEL',\n",
       " '0430206 CIEP HELIO SMIDT',\n",
       " '0411202 CIEP GREGORIO BEZERRA',\n",
       " '0430201 CIEP MINISTRO GUSTAVO CAPANEMA',\n",
       " '1026009 ESCOLA MUNICIPAL PADRE JOSE MAURICIO',\n",
       " '1120014 ESCOLA MUNICIPAL HOLANDA',\n",
       " '1120502 CIEP JOAO MANGABEIRA',\n",
       " '1120503 CIEP DOUTOR JOAO RAMOS DE SOUZA',\n",
       " '0209021 ESCOLA MUNICIPAL PRESIDENTE JOAO GOULART',\n",
       " '0328501 CIEP VINICIUS DE MORAES',\n",
       " '0431017 ESCOLA MUNICIPAL CARDEAL CAMARA',\n",
       " '0514005 ESCOLA MUNICIPAL BOLIVIA',\n",
       " '0625006 ESCOLA MUNICIPAL ERICO VERISSIMO',\n",
       " '0625204 CIEP RUBENS GOMES']"
      ]
     },
     "execution_count": 174,
     "metadata": {},
     "output_type": "execute_result"
    }
   ],
   "source": [
    "list(escolas_atencao_vizinhos.keys())[:20]"
   ]
  },
  {
   "cell_type": "code",
   "execution_count": 175,
   "metadata": {},
   "outputs": [
    {
     "data": {
      "text/html": [
       "<div>\n",
       "<style scoped>\n",
       "    .dataframe tbody tr th:only-of-type {\n",
       "        vertical-align: middle;\n",
       "    }\n",
       "\n",
       "    .dataframe tbody tr th {\n",
       "        vertical-align: top;\n",
       "    }\n",
       "\n",
       "    .dataframe thead th {\n",
       "        text-align: right;\n",
       "    }\n",
       "</style>\n",
       "<table border=\"1\" class=\"dataframe\">\n",
       "  <thead>\n",
       "    <tr style=\"text-align: right;\">\n",
       "      <th></th>\n",
       "      <th>nome_escola</th>\n",
       "      <th>cod_inep</th>\n",
       "      <th>saeb</th>\n",
       "      <th>pessimo_pra_bom_bin</th>\n",
       "      <th>ruim_pra_bom_bin</th>\n",
       "      <th>melhora_com_final_bom_bin</th>\n",
       "      <th>distancia</th>\n",
       "    </tr>\n",
       "  </thead>\n",
       "  <tbody>\n",
       "    <tr>\n",
       "      <th>4496</th>\n",
       "      <td>1019023 ESCOLA MUNICIPAL PESTALOZZI</td>\n",
       "      <td>33084912</td>\n",
       "      <td>6.036347</td>\n",
       "      <td>0</td>\n",
       "      <td>1</td>\n",
       "      <td>0</td>\n",
       "      <td>994.077052</td>\n",
       "    </tr>\n",
       "    <tr>\n",
       "      <th>4433</th>\n",
       "      <td>1019020 ESCOLA MUNICIPAL PROFESSORA MARIA SANT...</td>\n",
       "      <td>33085013</td>\n",
       "      <td>7.249761</td>\n",
       "      <td>0</td>\n",
       "      <td>1</td>\n",
       "      <td>1</td>\n",
       "      <td>2048.957049</td>\n",
       "    </tr>\n",
       "    <tr>\n",
       "      <th>4435</th>\n",
       "      <td>1019010 ESCOLA MUNICIPAL JOSE DE MELLO</td>\n",
       "      <td>33084785</td>\n",
       "      <td>6.503046</td>\n",
       "      <td>0</td>\n",
       "      <td>1</td>\n",
       "      <td>0</td>\n",
       "      <td>2266.673280</td>\n",
       "    </tr>\n",
       "    <tr>\n",
       "      <th>4418</th>\n",
       "      <td>1019009 ESCOLA MUNICIPAL PREFEITO JOAO CARLOS ...</td>\n",
       "      <td>33084920</td>\n",
       "      <td>6.212671</td>\n",
       "      <td>0</td>\n",
       "      <td>1</td>\n",
       "      <td>0</td>\n",
       "      <td>2505.219832</td>\n",
       "    </tr>\n",
       "    <tr>\n",
       "      <th>4298</th>\n",
       "      <td>1019012 ESCOLA MUNICIPAL TENENTE RENATO CESAR</td>\n",
       "      <td>33085129</td>\n",
       "      <td>6.074492</td>\n",
       "      <td>0</td>\n",
       "      <td>1</td>\n",
       "      <td>0</td>\n",
       "      <td>3379.068286</td>\n",
       "    </tr>\n",
       "    <tr>\n",
       "      <th>4344</th>\n",
       "      <td>1019033 ESCOLA MUNICIPAL ESPANHA</td>\n",
       "      <td>33084653</td>\n",
       "      <td>6.459362</td>\n",
       "      <td>0</td>\n",
       "      <td>1</td>\n",
       "      <td>0</td>\n",
       "      <td>3756.842875</td>\n",
       "    </tr>\n",
       "    <tr>\n",
       "      <th>4463</th>\n",
       "      <td>1019051 ESCOLA MUNICIPAL MARINHEIRO JOAO CANDIDO</td>\n",
       "      <td>33084840</td>\n",
       "      <td>6.133951</td>\n",
       "      <td>0</td>\n",
       "      <td>1</td>\n",
       "      <td>0</td>\n",
       "      <td>4053.946671</td>\n",
       "    </tr>\n",
       "    <tr>\n",
       "      <th>4416</th>\n",
       "      <td>1019003 ESCOLA MUNICIPAL PROFESSOR ARTHUR THIRE</td>\n",
       "      <td>33084564</td>\n",
       "      <td>6.242237</td>\n",
       "      <td>0</td>\n",
       "      <td>1</td>\n",
       "      <td>0</td>\n",
       "      <td>4974.882107</td>\n",
       "    </tr>\n",
       "    <tr>\n",
       "      <th>4297</th>\n",
       "      <td>1019004 ESCOLA MUNICIPAL PROFESSOR JOAO GUALBE...</td>\n",
       "      <td>33084980</td>\n",
       "      <td>6.156523</td>\n",
       "      <td>0</td>\n",
       "      <td>1</td>\n",
       "      <td>0</td>\n",
       "      <td>5295.237304</td>\n",
       "    </tr>\n",
       "    <tr>\n",
       "      <th>4701</th>\n",
       "      <td>1019042 ESCOLA MUNICIPAL FRANKLIN TAVORA</td>\n",
       "      <td>33084700</td>\n",
       "      <td>6.465530</td>\n",
       "      <td>0</td>\n",
       "      <td>1</td>\n",
       "      <td>0</td>\n",
       "      <td>5380.443875</td>\n",
       "    </tr>\n",
       "    <tr>\n",
       "      <th>4628</th>\n",
       "      <td>0918012 ESCOLA MUNICIPAL PROFESSORA MARIA LUIZ...</td>\n",
       "      <td>33083207</td>\n",
       "      <td>6.110542</td>\n",
       "      <td>0</td>\n",
       "      <td>1</td>\n",
       "      <td>0</td>\n",
       "      <td>6455.750536</td>\n",
       "    </tr>\n",
       "    <tr>\n",
       "      <th>4465</th>\n",
       "      <td>1019039 ESCOLA MUNICIPAL PROFESSORA LEILA MEHL...</td>\n",
       "      <td>33084998</td>\n",
       "      <td>6.336062</td>\n",
       "      <td>0</td>\n",
       "      <td>1</td>\n",
       "      <td>0</td>\n",
       "      <td>6940.791324</td>\n",
       "    </tr>\n",
       "    <tr>\n",
       "      <th>4654</th>\n",
       "      <td>0918041 ESCOLA MUNICIPAL ANTONIA VARGAS CUQUEJO</td>\n",
       "      <td>33082626</td>\n",
       "      <td>6.065988</td>\n",
       "      <td>0</td>\n",
       "      <td>1</td>\n",
       "      <td>0</td>\n",
       "      <td>7230.683633</td>\n",
       "    </tr>\n",
       "    <tr>\n",
       "      <th>4680</th>\n",
       "      <td>0918073 ESCOLA MUNICIPAL MINISTRO ADAUCTO LUCI...</td>\n",
       "      <td>33083118</td>\n",
       "      <td>6.334355</td>\n",
       "      <td>0</td>\n",
       "      <td>1</td>\n",
       "      <td>0</td>\n",
       "      <td>7589.812881</td>\n",
       "    </tr>\n",
       "    <tr>\n",
       "      <th>4133</th>\n",
       "      <td>1019025 ESCOLA MUNICIPAL NAIR DA FONSECA</td>\n",
       "      <td>33084874</td>\n",
       "      <td>6.113851</td>\n",
       "      <td>0</td>\n",
       "      <td>1</td>\n",
       "      <td>0</td>\n",
       "      <td>7701.441948</td>\n",
       "    </tr>\n",
       "  </tbody>\n",
       "</table>\n",
       "</div>"
      ],
      "text/plain": [
       "                                            nome_escola  cod_inep      saeb  \\\n",
       "4496                1019023 ESCOLA MUNICIPAL PESTALOZZI  33084912  6.036347   \n",
       "4433  1019020 ESCOLA MUNICIPAL PROFESSORA MARIA SANT...  33085013  7.249761   \n",
       "4435             1019010 ESCOLA MUNICIPAL JOSE DE MELLO  33084785  6.503046   \n",
       "4418  1019009 ESCOLA MUNICIPAL PREFEITO JOAO CARLOS ...  33084920  6.212671   \n",
       "4298      1019012 ESCOLA MUNICIPAL TENENTE RENATO CESAR  33085129  6.074492   \n",
       "4344                   1019033 ESCOLA MUNICIPAL ESPANHA  33084653  6.459362   \n",
       "4463   1019051 ESCOLA MUNICIPAL MARINHEIRO JOAO CANDIDO  33084840  6.133951   \n",
       "4416    1019003 ESCOLA MUNICIPAL PROFESSOR ARTHUR THIRE  33084564  6.242237   \n",
       "4297  1019004 ESCOLA MUNICIPAL PROFESSOR JOAO GUALBE...  33084980  6.156523   \n",
       "4701           1019042 ESCOLA MUNICIPAL FRANKLIN TAVORA  33084700  6.465530   \n",
       "4628  0918012 ESCOLA MUNICIPAL PROFESSORA MARIA LUIZ...  33083207  6.110542   \n",
       "4465  1019039 ESCOLA MUNICIPAL PROFESSORA LEILA MEHL...  33084998  6.336062   \n",
       "4654    0918041 ESCOLA MUNICIPAL ANTONIA VARGAS CUQUEJO  33082626  6.065988   \n",
       "4680  0918073 ESCOLA MUNICIPAL MINISTRO ADAUCTO LUCI...  33083118  6.334355   \n",
       "4133           1019025 ESCOLA MUNICIPAL NAIR DA FONSECA  33084874  6.113851   \n",
       "\n",
       "      pessimo_pra_bom_bin  ruim_pra_bom_bin  melhora_com_final_bom_bin  \\\n",
       "4496                    0                 1                          0   \n",
       "4433                    0                 1                          1   \n",
       "4435                    0                 1                          0   \n",
       "4418                    0                 1                          0   \n",
       "4298                    0                 1                          0   \n",
       "4344                    0                 1                          0   \n",
       "4463                    0                 1                          0   \n",
       "4416                    0                 1                          0   \n",
       "4297                    0                 1                          0   \n",
       "4701                    0                 1                          0   \n",
       "4628                    0                 1                          0   \n",
       "4465                    0                 1                          0   \n",
       "4654                    0                 1                          0   \n",
       "4680                    0                 1                          0   \n",
       "4133                    0                 1                          0   \n",
       "\n",
       "        distancia  \n",
       "4496   994.077052  \n",
       "4433  2048.957049  \n",
       "4435  2266.673280  \n",
       "4418  2505.219832  \n",
       "4298  3379.068286  \n",
       "4344  3756.842875  \n",
       "4463  4053.946671  \n",
       "4416  4974.882107  \n",
       "4297  5295.237304  \n",
       "4701  5380.443875  \n",
       "4628  6455.750536  \n",
       "4465  6940.791324  \n",
       "4654  7230.683633  \n",
       "4680  7589.812881  \n",
       "4133  7701.441948  "
      ]
     },
     "execution_count": 175,
     "metadata": {},
     "output_type": "execute_result"
    }
   ],
   "source": [
    "escolas_atencao_vizinhos[\"1019064 ESCOLA MUNICIPAL ALVARO VALLE\"].sort_values(\"distancia\")"
   ]
  },
  {
   "cell_type": "code",
   "execution_count": 176,
   "metadata": {},
   "outputs": [
    {
     "name": "stderr",
     "output_type": "stream",
     "text": [
      "/home/almeida2808/anaconda3/lib/python3.7/site-packages/ipykernel_launcher.py:11: SettingWithCopyWarning: \n",
      "A value is trying to be set on a copy of a slice from a DataFrame.\n",
      "Try using .loc[row_indexer,col_indexer] = value instead\n",
      "\n",
      "See the caveats in the documentation: http://pandas.pydata.org/pandas-docs/stable/indexing.html#indexing-view-versus-copy\n",
      "  # This is added back by InteractiveShellApp.init_path()\n",
      "/home/almeida2808/anaconda3/lib/python3.7/site-packages/ipykernel_launcher.py:12: SettingWithCopyWarning: \n",
      "A value is trying to be set on a copy of a slice from a DataFrame.\n",
      "Try using .loc[row_indexer,col_indexer] = value instead\n",
      "\n",
      "See the caveats in the documentation: http://pandas.pydata.org/pandas-docs/stable/indexing.html#indexing-view-versus-copy\n",
      "  if sys.path[0] == '':\n",
      "/home/almeida2808/anaconda3/lib/python3.7/site-packages/ipykernel_launcher.py:13: SettingWithCopyWarning: \n",
      "A value is trying to be set on a copy of a slice from a DataFrame.\n",
      "Try using .loc[row_indexer,col_indexer] = value instead\n",
      "\n",
      "See the caveats in the documentation: http://pandas.pydata.org/pandas-docs/stable/indexing.html#indexing-view-versus-copy\n",
      "  del sys.path[0]\n"
     ]
    }
   ],
   "source": [
    "# save the model neighboors for all risk schools\n",
    "\n",
    "cods = escolas_atencao.set_index(\"nome_escola\")[\"cod_inep\"]\n",
    "saebs = escolas_atencao.set_index(\"nome_escola\")[\"saeb\"]\n",
    "model_neighboors = pd.DataFrame()\n",
    "\n",
    "for school in escolas_atencao_vizinhos.keys():\n",
    "    \n",
    "    t = escolas_atencao_vizinhos[school]\n",
    "    \n",
    "    t[\"escola_risco\"] = school\n",
    "    t[\"cod_inep_risco\"] = cods.loc[school]\n",
    "    t[\"saeb_2017_risco\"] = saebs.loc[school]\n",
    "    \n",
    "    cols = t.columns\n",
    "    t = t[list(cols[-3:]) + list(cols[:-3])]\n",
    "    #t = t[list(cols[:2]) + list(cols[-1]) + list(cols[:-1])]\n",
    "    \n",
    "    model_neighboors = model_neighboors.append(t)\n",
    "    escolas_atencao_vizinhos[school].to_csv(\"../data/sponsor_partners_saeb/\" + school + \".csv\", index = False)"
   ]
  },
  {
   "cell_type": "code",
   "execution_count": 191,
   "metadata": {},
   "outputs": [
    {
     "data": {
      "text/html": [
       "<div>\n",
       "<style scoped>\n",
       "    .dataframe tbody tr th:only-of-type {\n",
       "        vertical-align: middle;\n",
       "    }\n",
       "\n",
       "    .dataframe tbody tr th {\n",
       "        vertical-align: top;\n",
       "    }\n",
       "\n",
       "    .dataframe thead th {\n",
       "        text-align: right;\n",
       "    }\n",
       "</style>\n",
       "<table border=\"1\" class=\"dataframe\">\n",
       "  <thead>\n",
       "    <tr style=\"text-align: right;\">\n",
       "      <th></th>\n",
       "      <th>escola_risco</th>\n",
       "      <th>cod_inep_risco</th>\n",
       "      <th>saeb_2017_risco</th>\n",
       "      <th>nome_escola</th>\n",
       "      <th>cod_inep</th>\n",
       "      <th>saeb</th>\n",
       "      <th>pessimo_pra_bom_bin</th>\n",
       "      <th>ruim_pra_bom_bin</th>\n",
       "      <th>melhora_com_final_bom_bin</th>\n",
       "      <th>distancia</th>\n",
       "      <th>geometry</th>\n",
       "      <th>lat</th>\n",
       "      <th>lon</th>\n",
       "    </tr>\n",
       "  </thead>\n",
       "  <tbody>\n",
       "    <tr>\n",
       "      <th>0</th>\n",
       "      <td>1019064 ESCOLA MUNICIPAL ALVARO VALLE</td>\n",
       "      <td>33146110</td>\n",
       "      <td>5.541397</td>\n",
       "      <td>1019023 ESCOLA MUNICIPAL PESTALOZZI</td>\n",
       "      <td>33084912</td>\n",
       "      <td>6.036347</td>\n",
       "      <td>0</td>\n",
       "      <td>1</td>\n",
       "      <td>0</td>\n",
       "      <td>994.077052</td>\n",
       "      <td>POINT (-43.67975299993937 -22.915716757043)</td>\n",
       "      <td>-22.915717</td>\n",
       "      <td>-43.679753</td>\n",
       "    </tr>\n",
       "    <tr>\n",
       "      <th>1</th>\n",
       "      <td>1019502 CIEP MAESTRO HEITOR VILLA LOBOS</td>\n",
       "      <td>33084106</td>\n",
       "      <td>5.374577</td>\n",
       "      <td>1019023 ESCOLA MUNICIPAL PESTALOZZI</td>\n",
       "      <td>33084912</td>\n",
       "      <td>6.036347</td>\n",
       "      <td>0</td>\n",
       "      <td>1</td>\n",
       "      <td>0</td>\n",
       "      <td>3032.706412</td>\n",
       "      <td>POINT (-43.67975299993937 -22.915716757043)</td>\n",
       "      <td>-22.915717</td>\n",
       "      <td>-43.679753</td>\n",
       "    </tr>\n",
       "    <tr>\n",
       "      <th>2</th>\n",
       "      <td>1019206 CIEP BARAO DE ITARARE</td>\n",
       "      <td>33084068</td>\n",
       "      <td>5.401031</td>\n",
       "      <td>1019023 ESCOLA MUNICIPAL PESTALOZZI</td>\n",
       "      <td>33084912</td>\n",
       "      <td>6.036347</td>\n",
       "      <td>0</td>\n",
       "      <td>1</td>\n",
       "      <td>0</td>\n",
       "      <td>2114.404827</td>\n",
       "      <td>POINT (-43.67975299993937 -22.915716757043)</td>\n",
       "      <td>-22.915717</td>\n",
       "      <td>-43.679753</td>\n",
       "    </tr>\n",
       "  </tbody>\n",
       "</table>\n",
       "</div>"
      ],
      "text/plain": [
       "                              escola_risco  cod_inep_risco  saeb_2017_risco  \\\n",
       "0    1019064 ESCOLA MUNICIPAL ALVARO VALLE        33146110         5.541397   \n",
       "1  1019502 CIEP MAESTRO HEITOR VILLA LOBOS        33084106         5.374577   \n",
       "2            1019206 CIEP BARAO DE ITARARE        33084068         5.401031   \n",
       "\n",
       "                           nome_escola  cod_inep      saeb  \\\n",
       "0  1019023 ESCOLA MUNICIPAL PESTALOZZI  33084912  6.036347   \n",
       "1  1019023 ESCOLA MUNICIPAL PESTALOZZI  33084912  6.036347   \n",
       "2  1019023 ESCOLA MUNICIPAL PESTALOZZI  33084912  6.036347   \n",
       "\n",
       "   pessimo_pra_bom_bin  ruim_pra_bom_bin  melhora_com_final_bom_bin  \\\n",
       "0                    0                 1                          0   \n",
       "1                    0                 1                          0   \n",
       "2                    0                 1                          0   \n",
       "\n",
       "     distancia                                     geometry        lat  \\\n",
       "0   994.077052  POINT (-43.67975299993937 -22.915716757043) -22.915717   \n",
       "1  3032.706412  POINT (-43.67975299993937 -22.915716757043) -22.915717   \n",
       "2  2114.404827  POINT (-43.67975299993937 -22.915716757043) -22.915717   \n",
       "\n",
       "         lon  \n",
       "0 -43.679753  \n",
       "1 -43.679753  \n",
       "2 -43.679753  "
      ]
     },
     "execution_count": 191,
     "metadata": {},
     "output_type": "execute_result"
    }
   ],
   "source": [
    "model_neighboors.head(3)"
   ]
  },
  {
   "cell_type": "code",
   "execution_count": 177,
   "metadata": {},
   "outputs": [],
   "source": [
    "model_neighboors = pd.merge(model_neighboors, \n",
    "                            proto_kepler[[\"cod_inep\", \"geometry\", \"lat\", \"lon\"]].drop_duplicates(subset=[\"cod_inep\"]), \n",
    "                            how=\"inner\", on=\"cod_inep\")"
   ]
  },
  {
   "cell_type": "code",
   "execution_count": 178,
   "metadata": {},
   "outputs": [],
   "source": [
    "model_neighboors.to_csv(OUTPUT_PATH / 'top15_model_neighboors_saeb.csv')"
   ]
  },
  {
   "cell_type": "markdown",
   "metadata": {},
   "source": [
    "* Number of top 15 model neighboors "
   ]
  },
  {
   "cell_type": "code",
   "execution_count": 179,
   "metadata": {},
   "outputs": [
    {
     "data": {
      "text/plain": [
       "152"
      ]
     },
     "execution_count": 179,
     "metadata": {},
     "output_type": "execute_result"
    }
   ],
   "source": [
    "len(model_neighboors[\"cod_inep\"].unique())"
   ]
  },
  {
   "cell_type": "markdown",
   "metadata": {},
   "source": [
    "* Which model schools are closer to most risk ones?"
   ]
  },
  {
   "cell_type": "code",
   "execution_count": 180,
   "metadata": {},
   "outputs": [
    {
     "data": {
      "text/html": [
       "<div>\n",
       "<style scoped>\n",
       "    .dataframe tbody tr th:only-of-type {\n",
       "        vertical-align: middle;\n",
       "    }\n",
       "\n",
       "    .dataframe tbody tr th {\n",
       "        vertical-align: top;\n",
       "    }\n",
       "\n",
       "    .dataframe thead th {\n",
       "        text-align: right;\n",
       "    }\n",
       "</style>\n",
       "<table border=\"1\" class=\"dataframe\">\n",
       "  <thead>\n",
       "    <tr style=\"text-align: right;\">\n",
       "      <th></th>\n",
       "      <th>escola_risco</th>\n",
       "      <th>cod_inep_risco</th>\n",
       "      <th>saeb_2017_risco</th>\n",
       "      <th>nome_escola</th>\n",
       "      <th>cod_inep</th>\n",
       "      <th>saeb</th>\n",
       "      <th>pessimo_pra_bom_bin</th>\n",
       "      <th>ruim_pra_bom_bin</th>\n",
       "      <th>melhora_com_final_bom_bin</th>\n",
       "      <th>distancia</th>\n",
       "      <th>geometry</th>\n",
       "      <th>lat</th>\n",
       "      <th>lon</th>\n",
       "    </tr>\n",
       "  </thead>\n",
       "  <tbody>\n",
       "    <tr>\n",
       "      <th>0</th>\n",
       "      <td>1019064 ESCOLA MUNICIPAL ALVARO VALLE</td>\n",
       "      <td>33146110</td>\n",
       "      <td>5.541397</td>\n",
       "      <td>1019023 ESCOLA MUNICIPAL PESTALOZZI</td>\n",
       "      <td>33084912</td>\n",
       "      <td>6.036347</td>\n",
       "      <td>0</td>\n",
       "      <td>1</td>\n",
       "      <td>0</td>\n",
       "      <td>994.077052</td>\n",
       "      <td>POINT (-43.67975299993937 -22.915716757043)</td>\n",
       "      <td>-22.915717</td>\n",
       "      <td>-43.679753</td>\n",
       "    </tr>\n",
       "    <tr>\n",
       "      <th>1</th>\n",
       "      <td>1019502 CIEP MAESTRO HEITOR VILLA LOBOS</td>\n",
       "      <td>33084106</td>\n",
       "      <td>5.374577</td>\n",
       "      <td>1019023 ESCOLA MUNICIPAL PESTALOZZI</td>\n",
       "      <td>33084912</td>\n",
       "      <td>6.036347</td>\n",
       "      <td>0</td>\n",
       "      <td>1</td>\n",
       "      <td>0</td>\n",
       "      <td>3032.706412</td>\n",
       "      <td>POINT (-43.67975299993937 -22.915716757043)</td>\n",
       "      <td>-22.915717</td>\n",
       "      <td>-43.679753</td>\n",
       "    </tr>\n",
       "    <tr>\n",
       "      <th>2</th>\n",
       "      <td>1019206 CIEP BARAO DE ITARARE</td>\n",
       "      <td>33084068</td>\n",
       "      <td>5.401031</td>\n",
       "      <td>1019023 ESCOLA MUNICIPAL PESTALOZZI</td>\n",
       "      <td>33084912</td>\n",
       "      <td>6.036347</td>\n",
       "      <td>0</td>\n",
       "      <td>1</td>\n",
       "      <td>0</td>\n",
       "      <td>2114.404827</td>\n",
       "      <td>POINT (-43.67975299993937 -22.915716757043)</td>\n",
       "      <td>-22.915717</td>\n",
       "      <td>-43.679753</td>\n",
       "    </tr>\n",
       "    <tr>\n",
       "      <th>3</th>\n",
       "      <td>1019210 CIEP ALBERTO PASQUALINI</td>\n",
       "      <td>33084041</td>\n",
       "      <td>5.800098</td>\n",
       "      <td>1019023 ESCOLA MUNICIPAL PESTALOZZI</td>\n",
       "      <td>33084912</td>\n",
       "      <td>6.036347</td>\n",
       "      <td>0</td>\n",
       "      <td>1</td>\n",
       "      <td>0</td>\n",
       "      <td>2610.657736</td>\n",
       "      <td>POINT (-43.67975299993937 -22.915716757043)</td>\n",
       "      <td>-22.915717</td>\n",
       "      <td>-43.679753</td>\n",
       "    </tr>\n",
       "    <tr>\n",
       "      <th>4</th>\n",
       "      <td>1019006 ESCOLA MUNICIPAL VIVALDO RAMOS DE VASC...</td>\n",
       "      <td>33085137</td>\n",
       "      <td>5.746812</td>\n",
       "      <td>1019023 ESCOLA MUNICIPAL PESTALOZZI</td>\n",
       "      <td>33084912</td>\n",
       "      <td>6.036347</td>\n",
       "      <td>0</td>\n",
       "      <td>1</td>\n",
       "      <td>0</td>\n",
       "      <td>4459.930102</td>\n",
       "      <td>POINT (-43.67975299993937 -22.915716757043)</td>\n",
       "      <td>-22.915717</td>\n",
       "      <td>-43.679753</td>\n",
       "    </tr>\n",
       "  </tbody>\n",
       "</table>\n",
       "</div>"
      ],
      "text/plain": [
       "                                        escola_risco  cod_inep_risco  \\\n",
       "0              1019064 ESCOLA MUNICIPAL ALVARO VALLE        33146110   \n",
       "1            1019502 CIEP MAESTRO HEITOR VILLA LOBOS        33084106   \n",
       "2                      1019206 CIEP BARAO DE ITARARE        33084068   \n",
       "3                    1019210 CIEP ALBERTO PASQUALINI        33084041   \n",
       "4  1019006 ESCOLA MUNICIPAL VIVALDO RAMOS DE VASC...        33085137   \n",
       "\n",
       "   saeb_2017_risco                          nome_escola  cod_inep      saeb  \\\n",
       "0         5.541397  1019023 ESCOLA MUNICIPAL PESTALOZZI  33084912  6.036347   \n",
       "1         5.374577  1019023 ESCOLA MUNICIPAL PESTALOZZI  33084912  6.036347   \n",
       "2         5.401031  1019023 ESCOLA MUNICIPAL PESTALOZZI  33084912  6.036347   \n",
       "3         5.800098  1019023 ESCOLA MUNICIPAL PESTALOZZI  33084912  6.036347   \n",
       "4         5.746812  1019023 ESCOLA MUNICIPAL PESTALOZZI  33084912  6.036347   \n",
       "\n",
       "   pessimo_pra_bom_bin  ruim_pra_bom_bin  melhora_com_final_bom_bin  \\\n",
       "0                    0                 1                          0   \n",
       "1                    0                 1                          0   \n",
       "2                    0                 1                          0   \n",
       "3                    0                 1                          0   \n",
       "4                    0                 1                          0   \n",
       "\n",
       "     distancia                                     geometry        lat  \\\n",
       "0   994.077052  POINT (-43.67975299993937 -22.915716757043) -22.915717   \n",
       "1  3032.706412  POINT (-43.67975299993937 -22.915716757043) -22.915717   \n",
       "2  2114.404827  POINT (-43.67975299993937 -22.915716757043) -22.915717   \n",
       "3  2610.657736  POINT (-43.67975299993937 -22.915716757043) -22.915717   \n",
       "4  4459.930102  POINT (-43.67975299993937 -22.915716757043) -22.915717   \n",
       "\n",
       "         lon  \n",
       "0 -43.679753  \n",
       "1 -43.679753  \n",
       "2 -43.679753  \n",
       "3 -43.679753  \n",
       "4 -43.679753  "
      ]
     },
     "execution_count": 180,
     "metadata": {},
     "output_type": "execute_result"
    }
   ],
   "source": [
    "closest = model_neighboors.drop_duplicates(subset=['cod_inep_risco'], keep='first').copy()\n",
    "closest.head()"
   ]
  },
  {
   "cell_type": "code",
   "execution_count": 181,
   "metadata": {},
   "outputs": [
    {
     "data": {
      "text/plain": [
       "37"
      ]
     },
     "execution_count": 181,
     "metadata": {},
     "output_type": "execute_result"
    }
   ],
   "source": [
    "len(closest['cod_inep'].unique())"
   ]
  },
  {
   "cell_type": "code",
   "execution_count": 182,
   "metadata": {
    "scrolled": true
   },
   "outputs": [
    {
     "data": {
      "text/plain": [
       "33069247    29\n",
       "33084912    19\n",
       "33087172    18\n",
       "33074763     9\n",
       "33084653     7\n",
       "33080208     7\n",
       "33087253     5\n",
       "33070687     5\n",
       "33076456     4\n",
       "33066299     4\n",
       "33080283     3\n",
       "33074640     3\n",
       "33069263     3\n",
       "33079161     3\n",
       "33081840     3\n",
       "33080321     3\n",
       "33074720     2\n",
       "33084980     2\n",
       "33080399     2\n",
       "33083355     2\n",
       "33070776     2\n",
       "33068402     1\n",
       "33082626     1\n",
       "33082634     1\n",
       "33086478     1\n",
       "33066256     1\n",
       "33066981     1\n",
       "33076448     1\n",
       "33081760     1\n",
       "33140081     1\n",
       "33069212     1\n",
       "33084564     1\n",
       "33085013     1\n",
       "33082715     1\n",
       "33077908     1\n",
       "Name: cod_inep, dtype: int64"
      ]
     },
     "execution_count": 182,
     "metadata": {},
     "output_type": "execute_result"
    }
   ],
   "source": [
    "v = closest['cod_inep'].value_counts()[:35]\n",
    "v"
   ]
  },
  {
   "cell_type": "code",
   "execution_count": 183,
   "metadata": {},
   "outputs": [],
   "source": [
    "multiple_closest = closest[closest['cod_inep'].isin(v.index) == True]"
   ]
  },
  {
   "cell_type": "code",
   "execution_count": 184,
   "metadata": {},
   "outputs": [
    {
     "data": {
      "text/plain": [
       "149"
      ]
     },
     "execution_count": 184,
     "metadata": {},
     "output_type": "execute_result"
    }
   ],
   "source": [
    "multiple_closest['cod_inep_risco'].nunique()"
   ]
  },
  {
   "cell_type": "markdown",
   "metadata": {},
   "source": [
    "* What's the coverage of the 35 models schools that are closest to the most number of risk schools?"
   ]
  },
  {
   "cell_type": "code",
   "execution_count": 185,
   "metadata": {},
   "outputs": [
    {
     "data": {
      "text/plain": [
       "0.9802631578947368"
      ]
     },
     "execution_count": 185,
     "metadata": {},
     "output_type": "execute_result"
    }
   ],
   "source": [
    "multiple_closest['cod_inep_risco'].nunique()/len(model_neighboors[\"cod_inep\"].unique())"
   ]
  },
  {
   "cell_type": "code",
   "execution_count": 187,
   "metadata": {},
   "outputs": [],
   "source": [
    "multiple_closest.to_csv(OUTPUT_PATH / \"model_neighboors_saeb_closest_multiple.csv\")"
   ]
  },
  {
   "cell_type": "markdown",
   "metadata": {},
   "source": [
    "### See if the education census contains information on who was the principal of each school each year.\n",
    "\n",
    "We found a [indicator of school management complexity](http://inep.gov.br/web/guest/indicadores-educacionais) calculated by INEP. \n",
    "\n",
    "We collected the data from 2017 to search for patterns in the distribution of saeb marks and deltas relaated to the levels of the indicator."
   ]
  },
  {
   "cell_type": "code",
   "execution_count": 145,
   "metadata": {},
   "outputs": [],
   "source": [
    "gestao = pd.read_excel(RAW_PATH / \"ICG_ESCOLAS_2017.xlsx\", sheet_name=\"rio_municipal\")"
   ]
  },
  {
   "cell_type": "code",
   "execution_count": 146,
   "metadata": {},
   "outputs": [
    {
     "name": "stdout",
     "output_type": "stream",
     "text": [
      "<class 'pandas.core.frame.DataFrame'>\n",
      "RangeIndex: 1543 entries, 0 to 1542\n",
      "Data columns (total 10 columns):\n",
      "Ano                                           1540 non-null float64\n",
      "Região                                        1540 non-null object\n",
      "UF                                            1540 non-null object\n",
      "Código do Município                           1540 non-null float64\n",
      "Nome do Município                             1540 non-null object\n",
      "Código da Escola                              1540 non-null float64\n",
      "Nome da Escola                                1540 non-null object\n",
      "Localização                                   1540 non-null object\n",
      "Dependência Administrativa                    1540 non-null object\n",
      "Nível de complexidade de gestão da escola3    1540 non-null object\n",
      "dtypes: float64(3), object(7)\n",
      "memory usage: 120.6+ KB\n"
     ]
    }
   ],
   "source": [
    "gestao.info()"
   ]
  },
  {
   "cell_type": "code",
   "execution_count": 148,
   "metadata": {},
   "outputs": [
    {
     "data": {
      "text/plain": [
       "1540"
      ]
     },
     "execution_count": 148,
     "metadata": {},
     "output_type": "execute_result"
    }
   ],
   "source": [
    "gestao[\"Código da Escola\"].nunique()"
   ]
  },
  {
   "cell_type": "code",
   "execution_count": 150,
   "metadata": {},
   "outputs": [
    {
     "data": {
      "text/plain": [
       "Nível 2    506\n",
       "Nível 3    474\n",
       "Nível 1    303\n",
       "Nível 4    159\n",
       "Nível 5     50\n",
       "Nível 6     48\n",
       "Name: Nível de complexidade de gestão da escola3, dtype: int64"
      ]
     },
     "execution_count": 150,
     "metadata": {},
     "output_type": "execute_result"
    }
   ],
   "source": [
    "gestao[\"Nível de complexidade de gestão da escola3\"].value_counts()"
   ]
  },
  {
   "cell_type": "code",
   "execution_count": 152,
   "metadata": {},
   "outputs": [
    {
     "data": {
      "text/html": [
       "<div>\n",
       "<style scoped>\n",
       "    .dataframe tbody tr th:only-of-type {\n",
       "        vertical-align: middle;\n",
       "    }\n",
       "\n",
       "    .dataframe tbody tr th {\n",
       "        vertical-align: top;\n",
       "    }\n",
       "\n",
       "    .dataframe thead th {\n",
       "        text-align: right;\n",
       "    }\n",
       "</style>\n",
       "<table border=\"1\" class=\"dataframe\">\n",
       "  <thead>\n",
       "    <tr style=\"text-align: right;\">\n",
       "      <th></th>\n",
       "      <th>Ano</th>\n",
       "      <th>Região</th>\n",
       "      <th>UF</th>\n",
       "      <th>Código do Município</th>\n",
       "      <th>Nome do Município</th>\n",
       "      <th>Código da Escola</th>\n",
       "      <th>Nome da Escola</th>\n",
       "      <th>Localização</th>\n",
       "      <th>Dependência Administrativa</th>\n",
       "      <th>Nível de complexidade de gestão da escola3</th>\n",
       "    </tr>\n",
       "  </thead>\n",
       "  <tbody>\n",
       "    <tr>\n",
       "      <th>0</th>\n",
       "      <td>NaN</td>\n",
       "      <td>NaN</td>\n",
       "      <td>NaN</td>\n",
       "      <td>NaN</td>\n",
       "      <td>NaN</td>\n",
       "      <td>NaN</td>\n",
       "      <td>NaN</td>\n",
       "      <td>NaN</td>\n",
       "      <td>NaN</td>\n",
       "      <td>NaN</td>\n",
       "    </tr>\n",
       "    <tr>\n",
       "      <th>1</th>\n",
       "      <td>NaN</td>\n",
       "      <td>NaN</td>\n",
       "      <td>NaN</td>\n",
       "      <td>NaN</td>\n",
       "      <td>NaN</td>\n",
       "      <td>NaN</td>\n",
       "      <td>NaN</td>\n",
       "      <td>NaN</td>\n",
       "      <td>NaN</td>\n",
       "      <td>NaN</td>\n",
       "    </tr>\n",
       "    <tr>\n",
       "      <th>2</th>\n",
       "      <td>NaN</td>\n",
       "      <td>NaN</td>\n",
       "      <td>NaN</td>\n",
       "      <td>NaN</td>\n",
       "      <td>NaN</td>\n",
       "      <td>NaN</td>\n",
       "      <td>NaN</td>\n",
       "      <td>NaN</td>\n",
       "      <td>NaN</td>\n",
       "      <td>NaN</td>\n",
       "    </tr>\n",
       "  </tbody>\n",
       "</table>\n",
       "</div>"
      ],
      "text/plain": [
       "   Ano Região   UF  Código do Município Nome do Município  Código da Escola Nome da Escola Localização Dependência Administrativa Nível de complexidade de gestão da escola3\n",
       "0  NaN    NaN  NaN                  NaN               NaN               NaN            NaN         NaN                        NaN                                        NaN\n",
       "1  NaN    NaN  NaN                  NaN               NaN               NaN            NaN         NaN                        NaN                                        NaN\n",
       "2  NaN    NaN  NaN                  NaN               NaN               NaN            NaN         NaN                        NaN                                        NaN"
      ]
     },
     "execution_count": 152,
     "metadata": {},
     "output_type": "execute_result"
    }
   ],
   "source": [
    "gestao[gestao[\"Nível de complexidade de gestão da escola3\"].isna() == True]"
   ]
  },
  {
   "cell_type": "code",
   "execution_count": 157,
   "metadata": {},
   "outputs": [],
   "source": [
    "gestao = gestao.loc[3:]"
   ]
  },
  {
   "cell_type": "code",
   "execution_count": 158,
   "metadata": {},
   "outputs": [],
   "source": [
    "gestao[\"gestao_nivel\"] = gestao[\"Nível de complexidade de gestão da escola3\"].apply(lambda x: int(x.split()[1]))"
   ]
  },
  {
   "cell_type": "code",
   "execution_count": 160,
   "metadata": {},
   "outputs": [],
   "source": [
    "gestao[\"cod_inep\"] = gestao[\"Código da Escola\"]"
   ]
  },
  {
   "cell_type": "code",
   "execution_count": 161,
   "metadata": {},
   "outputs": [],
   "source": [
    "saeb_gestao = pd.merge(joined_data_wide[['cod_inep', \"nome_escola\", \"saeb_2017\", \"delta\"]], \n",
    "                       gestao[[\"cod_inep\", \"gestao_nivel\"]], on=\"cod_inep\")"
   ]
  },
  {
   "cell_type": "code",
   "execution_count": 162,
   "metadata": {},
   "outputs": [
    {
     "data": {
      "text/plain": [
       "817"
      ]
     },
     "execution_count": 162,
     "metadata": {},
     "output_type": "execute_result"
    }
   ],
   "source": [
    "len(saeb_gestao)"
   ]
  },
  {
   "cell_type": "code",
   "execution_count": 170,
   "metadata": {},
   "outputs": [
    {
     "data": {
      "text/plain": [
       "603"
      ]
     },
     "execution_count": 170,
     "metadata": {},
     "output_type": "execute_result"
    }
   ],
   "source": [
    "saeb_gestao = saeb_gestao.dropna(subset=[\"saeb_2017\"])\n",
    "len(saeb_gestao)"
   ]
  },
  {
   "cell_type": "code",
   "execution_count": 172,
   "metadata": {},
   "outputs": [
    {
     "data": {
      "image/png": "[encoded data removed]",
      "text/plain": [
       "<Figure size 1080x720 with 1 Axes>"
      ]
     },
     "metadata": {},
     "output_type": "display_data"
    }
   ],
   "source": [
    "pylab.rcParams['figure.figsize'] = (15, 10)\n",
    "ax = sns.boxplot(x=\"gestao_nivel\", y=\"saeb_2017\", data=saeb_gestao,\n",
    "                 color=palette[0], saturation=0.8, linewidth=2,\n",
    "                 showmeans=True, meanline=True)"
   ]
  },
  {
   "cell_type": "code",
   "execution_count": 173,
   "metadata": {
    "scrolled": true
   },
   "outputs": [
    {
     "data": {
      "image/png": "[encoded data removed]",
      "text/plain": [
       "<Figure size 1080x720 with 1 Axes>"
      ]
     },
     "metadata": {},
     "output_type": "display_data"
    }
   ],
   "source": [
    "pylab.rcParams['figure.figsize'] = (15, 10)\n",
    "ax = sns.boxplot(x=\"gestao_nivel\", y=\"delta\", data=saeb_gestao,\n",
    "                 color=palette[0], saturation=0.8, linewidth=2,\n",
    "                 showmeans=True, meanline=True)"
   ]
  },
  {
   "cell_type": "code",
   "execution_count": 191,
   "metadata": {},
   "outputs": [],
   "source": [
    "closest = pd.merge(closest, proto_kepler[[\"cod_inep\", \"geometry\", \"lat\", \"lon\"]].drop_duplicates(subset=[\"cod_inep\"]), how=\"inner\", on=\"cod_inep\")"
   ]
  },
  {
   "cell_type": "markdown",
   "metadata": {},
   "source": [
    "# Faz o mapa com os pares de escolas"
   ]
  },
  {
   "cell_type": "code",
   "execution_count": 214,
   "metadata": {},
   "outputs": [],
   "source": [
    "map_geral_rio = gpd.read_file(\"../../shapefiles/Limite_Bairro/Limite_Bairro.shp\", encoding = \"latin1\")\n",
    "map_municipio_rio = gpd.read_file(\"../../shapefiles/Escolas_Municipais/Escolas_Municipais.shp\", encoding = \"latin1\")"
   ]
  },
  {
   "cell_type": "code",
   "execution_count": 215,
   "metadata": {},
   "outputs": [],
   "source": [
    "map_municipio_rio[\"cod_inep\"] = map_municipio_rio[\"SMEDBOEs_4\"].apply(lambda x: str(x))"
   ]
  },
  {
   "cell_type": "code",
   "execution_count": 216,
   "metadata": {},
   "outputs": [
    {
     "data": {
      "text/html": [
       "<div>\n",
       "<style scoped>\n",
       "    .dataframe tbody tr th:only-of-type {\n",
       "        vertical-align: middle;\n",
       "    }\n",
       "\n",
       "    .dataframe tbody tr th {\n",
       "        vertical-align: top;\n",
       "    }\n",
       "\n",
       "    .dataframe thead th {\n",
       "        text-align: right;\n",
       "    }\n",
       "</style>\n",
       "<table border=\"1\" class=\"dataframe\">\n",
       "  <thead>\n",
       "    <tr style=\"text-align: right;\">\n",
       "      <th></th>\n",
       "      <th>Unnamed: 0</th>\n",
       "      <th>escola_risco</th>\n",
       "      <th>cod_inep_risco</th>\n",
       "      <th>saeb_2017_risco</th>\n",
       "      <th>nome_escola</th>\n",
       "      <th>cod_inep</th>\n",
       "      <th>saeb</th>\n",
       "      <th>pessimo_pra_bom_bin</th>\n",
       "      <th>ruim_pra_bom_bin</th>\n",
       "      <th>melhora_com_final_bom_bin</th>\n",
       "      <th>distancia</th>\n",
       "      <th>geometry</th>\n",
       "      <th>lat</th>\n",
       "      <th>lon</th>\n",
       "    </tr>\n",
       "  </thead>\n",
       "  <tbody>\n",
       "    <tr>\n",
       "      <th>0</th>\n",
       "      <td>0</td>\n",
       "      <td>1019064 ESCOLA MUNICIPAL ALVARO VALLE</td>\n",
       "      <td>33146110</td>\n",
       "      <td>5.541397</td>\n",
       "      <td>1019023 ESCOLA MUNICIPAL PESTALOZZI</td>\n",
       "      <td>33084912</td>\n",
       "      <td>6.036347</td>\n",
       "      <td>0</td>\n",
       "      <td>1</td>\n",
       "      <td>0</td>\n",
       "      <td>994.077052</td>\n",
       "      <td>POINT (-43.67975299993937 -22.915716757043)</td>\n",
       "      <td>-22.915717</td>\n",
       "      <td>-43.679753</td>\n",
       "    </tr>\n",
       "    <tr>\n",
       "      <th>1</th>\n",
       "      <td>1</td>\n",
       "      <td>1019502 CIEP MAESTRO HEITOR VILLA LOBOS</td>\n",
       "      <td>33084106</td>\n",
       "      <td>5.374577</td>\n",
       "      <td>1019023 ESCOLA MUNICIPAL PESTALOZZI</td>\n",
       "      <td>33084912</td>\n",
       "      <td>6.036347</td>\n",
       "      <td>0</td>\n",
       "      <td>1</td>\n",
       "      <td>0</td>\n",
       "      <td>3032.706412</td>\n",
       "      <td>POINT (-43.67975299993937 -22.915716757043)</td>\n",
       "      <td>-22.915717</td>\n",
       "      <td>-43.679753</td>\n",
       "    </tr>\n",
       "    <tr>\n",
       "      <th>2</th>\n",
       "      <td>2</td>\n",
       "      <td>1019206 CIEP BARAO DE ITARARE</td>\n",
       "      <td>33084068</td>\n",
       "      <td>5.401031</td>\n",
       "      <td>1019023 ESCOLA MUNICIPAL PESTALOZZI</td>\n",
       "      <td>33084912</td>\n",
       "      <td>6.036347</td>\n",
       "      <td>0</td>\n",
       "      <td>1</td>\n",
       "      <td>0</td>\n",
       "      <td>2114.404827</td>\n",
       "      <td>POINT (-43.67975299993937 -22.915716757043)</td>\n",
       "      <td>-22.915717</td>\n",
       "      <td>-43.679753</td>\n",
       "    </tr>\n",
       "    <tr>\n",
       "      <th>3</th>\n",
       "      <td>3</td>\n",
       "      <td>1019210 CIEP ALBERTO PASQUALINI</td>\n",
       "      <td>33084041</td>\n",
       "      <td>5.800098</td>\n",
       "      <td>1019023 ESCOLA MUNICIPAL PESTALOZZI</td>\n",
       "      <td>33084912</td>\n",
       "      <td>6.036347</td>\n",
       "      <td>0</td>\n",
       "      <td>1</td>\n",
       "      <td>0</td>\n",
       "      <td>2610.657736</td>\n",
       "      <td>POINT (-43.67975299993937 -22.915716757043)</td>\n",
       "      <td>-22.915717</td>\n",
       "      <td>-43.679753</td>\n",
       "    </tr>\n",
       "    <tr>\n",
       "      <th>4</th>\n",
       "      <td>4</td>\n",
       "      <td>1019006 ESCOLA MUNICIPAL VIVALDO RAMOS DE VASC...</td>\n",
       "      <td>33085137</td>\n",
       "      <td>5.746812</td>\n",
       "      <td>1019023 ESCOLA MUNICIPAL PESTALOZZI</td>\n",
       "      <td>33084912</td>\n",
       "      <td>6.036347</td>\n",
       "      <td>0</td>\n",
       "      <td>1</td>\n",
       "      <td>0</td>\n",
       "      <td>4459.930102</td>\n",
       "      <td>POINT (-43.67975299993937 -22.915716757043)</td>\n",
       "      <td>-22.915717</td>\n",
       "      <td>-43.679753</td>\n",
       "    </tr>\n",
       "  </tbody>\n",
       "</table>\n",
       "</div>"
      ],
      "text/plain": [
       "   Unnamed: 0                                       escola_risco  \\\n",
       "0           0              1019064 ESCOLA MUNICIPAL ALVARO VALLE   \n",
       "1           1            1019502 CIEP MAESTRO HEITOR VILLA LOBOS   \n",
       "2           2                      1019206 CIEP BARAO DE ITARARE   \n",
       "3           3                    1019210 CIEP ALBERTO PASQUALINI   \n",
       "4           4  1019006 ESCOLA MUNICIPAL VIVALDO RAMOS DE VASC...   \n",
       "\n",
       "   cod_inep_risco  saeb_2017_risco                          nome_escola  \\\n",
       "0        33146110         5.541397  1019023 ESCOLA MUNICIPAL PESTALOZZI   \n",
       "1        33084106         5.374577  1019023 ESCOLA MUNICIPAL PESTALOZZI   \n",
       "2        33084068         5.401031  1019023 ESCOLA MUNICIPAL PESTALOZZI   \n",
       "3        33084041         5.800098  1019023 ESCOLA MUNICIPAL PESTALOZZI   \n",
       "4        33085137         5.746812  1019023 ESCOLA MUNICIPAL PESTALOZZI   \n",
       "\n",
       "   cod_inep      saeb  pessimo_pra_bom_bin  ruim_pra_bom_bin  \\\n",
       "0  33084912  6.036347                    0                 1   \n",
       "1  33084912  6.036347                    0                 1   \n",
       "2  33084912  6.036347                    0                 1   \n",
       "3  33084912  6.036347                    0                 1   \n",
       "4  33084912  6.036347                    0                 1   \n",
       "\n",
       "   melhora_com_final_bom_bin    distancia  \\\n",
       "0                          0   994.077052   \n",
       "1                          0  3032.706412   \n",
       "2                          0  2114.404827   \n",
       "3                          0  2610.657736   \n",
       "4                          0  4459.930102   \n",
       "\n",
       "                                      geometry        lat        lon  \n",
       "0  POINT (-43.67975299993937 -22.915716757043) -22.915717 -43.679753  \n",
       "1  POINT (-43.67975299993937 -22.915716757043) -22.915717 -43.679753  \n",
       "2  POINT (-43.67975299993937 -22.915716757043) -22.915717 -43.679753  \n",
       "3  POINT (-43.67975299993937 -22.915716757043) -22.915717 -43.679753  \n",
       "4  POINT (-43.67975299993937 -22.915716757043) -22.915717 -43.679753  "
      ]
     },
     "execution_count": 216,
     "metadata": {},
     "output_type": "execute_result"
    }
   ],
   "source": [
    "model_neighboors.head()"
   ]
  },
  {
   "cell_type": "code",
   "execution_count": 217,
   "metadata": {},
   "outputs": [],
   "source": [
    "model_neighboors[\"cod_inep_referencia\"] = model_neighboors[\"cod_inep\"].apply(lambda x: str(x))\n",
    "model_neighboors[\"cod_inep_risco\"] = model_neighboors[\"cod_inep_risco\"].apply(lambda x: str(x))"
   ]
  },
  {
   "cell_type": "code",
   "execution_count": 218,
   "metadata": {},
   "outputs": [],
   "source": [
    "pessimo_pra_bom_list = [str(x) for x in pessimo_pra_bom_list]\n",
    "ruim_pra_bom_list = [str(x) for x in ruim_pra_bom_list]\n",
    "referencias_list = list(model_neighboors[\"cod_inep_referencia\"].drop_duplicates())\n",
    "risco_list = list(model_neighboors[\"cod_inep_risco\"])"
   ]
  },
  {
   "cell_type": "code",
   "execution_count": 221,
   "metadata": {},
   "outputs": [],
   "source": [
    "referencias_pessimo_bom = map_municipio_rio.query(\"cod_inep in @pessimo_pra_bom_list and cod_inep in @referencias_list\")\n",
    "referencias_ruim_bom = map_municipio_rio.query(\"cod_inep in @ruim_pra_bom_list and cod_inep in @referencias_list and cod_inep not in @pessimo_pra_bom_list\")\n",
    "risco_map = map_municipio_rio.query(\"cod_inep in @risco_list\")"
   ]
  },
  {
   "cell_type": "code",
   "execution_count": 224,
   "metadata": {},
   "outputs": [
    {
     "data": {
      "image/png": "[encoded data removed]",
      "text/plain": [
       "<Figure size 1296x576 with 1 Axes>"
      ]
     },
     "metadata": {},
     "output_type": "display_data"
    }
   ],
   "source": [
    "import matplotlib.patches as mpatches\n",
    "\n",
    "fig, ax = plt.subplots(1, figsize=(18, 8))\n",
    "\n",
    "referencias_pessimo_bom.plot(color = \"darkblue\", ax=ax, markersize = 80)\n",
    "referencias_ruim_bom.plot(color = \"skyblue\", ax=ax, markersize = 80)\n",
    "risco_map.plot(color = \"red\", ax=ax, markersize = 80)\n",
    "\n",
    "map_geral_rio.geometry.boundary.plot(color=None,edgecolor='k',linewidth = 1,ax=ax) #Use your second dataframe\n",
    "\n",
    "plt.axis('off')\n",
    "\n",
    "plt.title(\"Escolas com desempenho abaixo do esperado e escolas-referência (SAEB)\", fontsize = 22)\n",
    "\n",
    "r = mpatches.Patch(color='red', label='Escolas com desempenho abaixo do esperado')\n",
    "db = mpatches.Patch(color='darkblue', label='Escolas-referência - Muito ruim para bom')\n",
    "sb = mpatches.Patch(color='skyblue', label='Escolas-referência - Ruim para bom')\n",
    "\n",
    "plt.legend(handles=[r, db, sb], loc = \"upper left\")\n",
    "\n",
    "plt.savefig(\"point_map_risco_saeb.png\", dpi = 600)"
   ]
  },
  {
   "cell_type": "code",
   "execution_count": 225,
   "metadata": {},
   "outputs": [],
   "source": [
    "referencias_pessimo_bom[[\"cod_inep\", \"geometry\", \"SMEDBOEs_5\"]].to_csv(\"../../referencias_pessimo_bom_saeb.csv\", index = False)\n",
    "referencias_ruim_bom[[\"cod_inep\", \"geometry\", \"SMEDBOEs_5\"]].to_csv(\"../../referencias_ruim_bom_saeb.csv\", index = False)\n",
    "risco_map[[\"cod_inep\", \"geometry\", \"SMEDBOEs_5\"]].to_csv(\"../../risco_map_saeb.csv\", index = False)"
   ]
  }
 ],
 "metadata": {
  "kernelspec": {
   "display_name": "Python 3",
   "language": "python",
   "name": "python3"
  },
  "language_info": {
   "codemirror_mode": {
    "name": "ipython",
    "version": 3
   },
   "file_extension": ".py",
   "mimetype": "text/x-python",
   "name": "python",
   "nbconvert_exporter": "python",
   "pygments_lexer": "ipython3",
   "version": "3.7.2"
  },
  "toc": {
   "base_numbering": 1,
   "nav_menu": {},
   "number_sections": true,
   "sideBar": true,
   "skip_h1_title": false,
   "title_cell": "Índice",
   "title_sidebar": "Conteúdo",
   "toc_cell": true,
   "toc_position": {},
   "toc_section_display": true,
   "toc_window_display": false
  }
 },
 "nbformat": 4,
 "nbformat_minor": 2
}
